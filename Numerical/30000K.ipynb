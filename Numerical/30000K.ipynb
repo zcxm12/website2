{
 "cells": [
  {
   "cell_type": "code",
   "execution_count": null,
   "id": "8082b728-b2ef-4edb-b174-37f92448a0b5",
   "metadata": {},
   "outputs": [
    {
     "name": "stdout",
     "output_type": "stream",
     "text": [
      "[😁😁😁😁😁😁😁😁            ] 8%"
     ]
    }
   ],
   "source": [
    "import numpy as np\n",
    "import matplotlib.pyplot as plt\n",
    "import time\n",
    "from scipy import signal\n",
    "from time import sleep\n",
    "import sys\n",
    "\n",
    "#setup some constants and parameters\n",
    "M=2**21\n",
    "tsim=7e-12\n",
    "eps0 = 8.854187e-12\n",
    "hbar = 1.05457182e-34\n",
    "c = 2.99792458e8\n",
    "kb = 1.380649e-23\n",
    "hdk=7.63823258e-12\n",
    "deltap = np.sqrt(1/3/eps0/hbar/c)*kb\n",
    "T=30000\n",
    "\n",
    "#define square root of Dn function\n",
    "def Dnsqt(wla,T):\n",
    "    return np.sqrt(6*hdk**2*wla/(np.exp(hdk*wla/T)-1)/T**2/np.pi)\n",
    "\n",
    "#generate an array of the square root of Dn function\n",
    "Dsqt = []\n",
    "for n in range(1,M):\n",
    "    Dsqt.append(Dnsqt(2*np.pi*n/tsim,T))\n",
    "\n",
    "#define how many times to run to average the results\n",
    "Ncomp=50\n",
    "\n",
    "#define the starting sum of the result\n",
    "Efsum = np.zeros(2*M)\n",
    "\n",
    "for i in range(Ncomp):\n",
    "    \n",
    "    #generate random numbers\n",
    "    M0 = np.random.normal(0,1)\n",
    "    Mlp = np.random.normal(0,1,M-1)\n",
    "    Nlp = np.random.normal(0,1,M-1)\n",
    "    MM = np.random.normal(0,1)\n",
    "    \n",
    "    #generate the array of the fourier transform of E field, we generate l=0 and l=-M separately. \n",
    "    #for l=1 to M-1 and l=-1 to -(M-1) are conjutated to each other. \n",
    "    #we contruct the whole array by gluing them together by the order from l=0 -> l=M-1 -> l=-M -> l=-(m-1) -> l=-1\n",
    "    Ef0 = np.array([M0*np.sqrt(6*hdk/np.pi/T)])\n",
    "    Eflp = np.multiply((Mlp + 1j*Nlp), Dsqt)\n",
    "    Eflm = np.flip(np.conjugate(Eflp))\n",
    "    EfM = np.array([MM*Dnsqt(2*np.pi*M/tsim,T)])\n",
    "    Ef = np.hstack((Ef0,Eflp,EfM,Eflm))\n",
    "    \n",
    "    #we normalize Ef and compute its inverse fast fourier transform\n",
    "    Efn = deltap*T/np.sqrt(tsim)*Ef\n",
    "    En = np.fft.ifft(Efn)\n",
    "    \n",
    "    #we compute self correlation of En\n",
    "    Eautoc = signal.correlate(En,En)\n",
    "    Eautocf = np.fft.fft(Eautoc[len(En)-1:])\n",
    "    \n",
    "    #extract the real value and add the value of this loop to the total sum\n",
    "    Eautocf = np.real(Eautocf)\n",
    "    Efsum += Eautocf\n",
    "    \n",
    "    #generate some feedback to check the progress of the loop\n",
    "    x = i/Ncomp*100\n",
    "    sys.stdout.write('\\r')\n",
    "    sys.stdout.write(\"[%-20s] %d%%\" % ('😁'*int(x), int(x)))\n",
    "    sys.stdout.flush()\n",
    "    sleep(0.0001)\n",
    "\n",
    "#average the final result\n",
    "Efavg = Efsum/Ncomp\n",
    "\n",
    "#save data to some file or reload file to write more data on it\n",
    "np.savez(\"Efavg_v3.npz\", Efavg_30000 = Efavg)\n",
    "data = np.load(\"Efavg_v3.npz\")\n",
    "data = dict(data)\n",
    "data[\"Efavg_30000\"] = Efavg\n",
    "np.savez(\"Efavg_v3.npz\",**data)\n"
   ]
  },
  {
   "cell_type": "code",
   "execution_count": null,
   "id": "fd846119-c59c-4523-9edd-39d32580fd70",
   "metadata": {},
   "outputs": [],
   "source": [
    "freqs = np.linspace(0,2*M*2*np.pi/(7*1e-12),4194304)\n",
    "plt.plot(freqs,Efavg,'.')\n",
    "#plt.xlim(0,25*1e15)\n",
    "#plt.ylim(0,8*1e-28)\n",
    "plt.xlabel('Frequency (Hz)')\n",
    "plt.ylabel('Magnitude')"
   ]
  },
  {
   "cell_type": "code",
   "execution_count": null,
   "id": "0eb6e3c4-5da5-454b-bb6c-d05f2d3d2b02",
   "metadata": {},
   "outputs": [],
   "source": [
    "timess = np.linspace(0,7*1e-12,4194304)\n",
    "plt.plot(timess,En)\n",
    "plt.xlim(0,2*1e-15)\n",
    "plt.ylim(-3e-7,3e-7)\n",
    "plt.xlabel('times')\n",
    "plt.ylabel('Electric field source Es')"
   ]
  },
  {
   "cell_type": "code",
   "execution_count": null,
   "id": "fbd53381-5903-49ae-9c13-ac2fc580776e",
   "metadata": {},
   "outputs": [],
   "source": [
    "timesss = np.linspace(-7*1e-12,7*1e-12,M*4-1)\n",
    "plt.plot(timesss,Eautoc)\n",
    "plt.xlim(-1e-15,1e-15)\n",
    "plt.ylim(0,1e-7)\n",
    "plt.xlabel('times')\n",
    "plt.ylabel('Correlation function')"
   ]
  },
  {
   "cell_type": "code",
   "execution_count": null,
   "id": "26934a2f-a9a6-4ca0-9ae5-1b463eebaa43",
   "metadata": {},
   "outputs": [],
   "source": []
  }
 ],
 "metadata": {
  "kernelspec": {
   "display_name": "Python 3 (ipykernel)",
   "language": "python",
   "name": "python3"
  },
  "language_info": {
   "codemirror_mode": {
    "name": "ipython",
    "version": 3
   },
   "file_extension": ".py",
   "mimetype": "text/x-python",
   "name": "python",
   "nbconvert_exporter": "python",
   "pygments_lexer": "ipython3",
   "version": "3.11.0"
  }
 },
 "nbformat": 4,
 "nbformat_minor": 5
}
