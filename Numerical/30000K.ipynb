{
 "cells": [
  {
   "cell_type": "markdown",
   "id": "163f6d34-fb97-41b5-a54e-fb40b7fc6c81",
   "metadata": {},
   "source": [
    "設定檔"
   ]
  },
  {
   "cell_type": "code",
   "execution_count": 43,
   "id": "5a455cf0-6829-4712-a34c-75d9861b1f20",
   "metadata": {
    "tags": []
   },
   "outputs": [],
   "source": [
    "import numpy as np\n",
    "import matplotlib.pyplot as plt\n",
    "import time\n",
    "from scipy import signal\n",
    "from time import sleep\n",
    "import sys"
   ]
  },
  {
   "cell_type": "markdown",
   "id": "219b7003-8da6-4b06-8310-97485cbaa957",
   "metadata": {},
   "source": [
    "變數設定"
   ]
  },
  {
   "cell_type": "code",
   "execution_count": 44,
   "id": "8316bf1d-adeb-4aa3-b665-c0ebb9a90a29",
   "metadata": {
    "tags": []
   },
   "outputs": [],
   "source": [
    "#setup some constants and parameters\n",
    "M=2**21 #模擬步數\n",
    "tsim=7e-12 #模擬長度\n",
    "eps0 = 8.854187e-12 \n",
    "hbar = 1.05457182e-34\n",
    "c = 2.99792458e8\n",
    "kb = 1.380649e-23\n",
    "hdk=7.63823258e-12 # hbar/kb\n",
    "T=30000\n",
    "deltap = np.sqrt(1/3/eps0/hbar/c)*kb*T #小delta "
   ]
  },
  {
   "cell_type": "markdown",
   "id": "88ce4343-db3f-4678-be28-3e3ec636365f",
   "metadata": {},
   "source": [
    "D"
   ]
  },
  {
   "cell_type": "code",
   "execution_count": 45,
   "id": "74991c11-217a-4c22-b390-fcf5862013ab",
   "metadata": {
    "tags": []
   },
   "outputs": [],
   "source": [
    "def D(omega,T):\n",
    "    return(hbar*omega/np.pi/c/(np.exp(hdk*omega/T)-1))"
   ]
  },
  {
   "cell_type": "markdown",
   "id": "70da4374-11d6-4078-a1b2-63316802f875",
   "metadata": {},
   "source": [
    "畫出D"
   ]
  },
  {
   "cell_type": "code",
   "execution_count": 47,
   "id": "b1acf852-cbef-4cc6-a741-44a5ae535407",
   "metadata": {
    "tags": []
   },
   "outputs": [
    {
     "name": "stderr",
     "output_type": "stream",
     "text": [
      "/tmp/ipykernel_22967/2430332773.py:2: RuntimeWarning: invalid value encountered in divide\n",
      "  return(hbar*omega/np.pi/c/(np.exp(hdk*omega/T)-1))\n"
     ]
    },
    {
     "data": {
      "text/plain": [
       "[<matplotlib.lines.Line2D at 0x7fdb7f455850>]"
      ]
     },
     "execution_count": 47,
     "metadata": {},
     "output_type": "execute_result"
    },
    {
     "data": {
      "image/png": "[encoded data removed]",
      "text/plain": [
       "<Figure size 640x480 with 1 Axes>"
      ]
     },
     "metadata": {},
     "output_type": "display_data"
    }
   ],
   "source": [
    "limit=1000\n",
    "frequency_limit = np.linspace(0, 25, limit)\n",
    "frequency = frequency_limit*10**15\n",
    "omega = frequency*np.pi*2\n",
    "plt.xlim(0,25e15)\n",
    "plt.ylim(0,7.5e-28)\n",
    "plt.plot(omega,D(omega,30000))\n",
    "plt.plot(omega,D(omega,50000))"
   ]
  },
  {
   "cell_type": "markdown",
   "id": "ed5d818a-3c8c-436b-8195-1fbc4791f73f",
   "metadata": {},
   "source": [
    "Dn"
   ]
  },
  {
   "cell_type": "code",
   "execution_count": 71,
   "id": "32fb4936-597f-47e5-a397-c87ba01ea4ba",
   "metadata": {
    "tags": []
   },
   "outputs": [],
   "source": [
    "#define square root of Dn function\n",
    "def Dn(wla,T):\n",
    "    return 6*(hdk**2)*wla/(np.exp(hdk*wla/T)-1)/T**2/np.pi"
   ]
  },
  {
   "cell_type": "markdown",
   "id": "34a03242-5c94-4b7a-8dde-6b96cd13a5ad",
   "metadata": {},
   "source": [
    "畫Dn"
   ]
  },
  {
   "cell_type": "raw",
   "id": "9b35d17b-4bfe-4f54-ac1a-676826a858a6",
   "metadata": {
    "tags": []
   },
   "source": [
    "plt.xlim(0,25e15)\n",
    "#plt.ylim(0,5e-16)\n",
    "plt.plot(omega,deltap*Dn(omega,30000)/np.sqrt(tsim))\n",
    "plt.plot(omega,deltap*Dn(omega,50000)/np.sqrt(tsim))"
   ]
  },
  {
   "cell_type": "markdown",
   "id": "efd81bfc-f1d2-4f9b-98c3-de5496f990b5",
   "metadata": {},
   "source": [
    "設定Dnsqrt數列"
   ]
  },
  {
   "cell_type": "code",
   "execution_count": 81,
   "id": "cabfdafc-1b2f-40f5-b25e-83b1d9256ad7",
   "metadata": {
    "tags": []
   },
   "outputs": [],
   "source": [
    "#generate an array of the square root of Dn function\n",
    "def Dnsqrt(wla,T):\n",
    "    return np.sqrt(6*(hdk**2)*wla/(np.exp(hdk*wla/T)-1)/T**2/np.pi)\n",
    "Dsqr = []\n",
    "for n in range(1,M):\n",
    "    Dsqr.append(Dnsqrt(abs(2*np.pi*n/tsim),T))\n"
   ]
  },
  {
   "cell_type": "raw",
   "id": "909dd81c-ff97-488a-9b5e-1f9f27678eab",
   "metadata": {
    "tags": []
   },
   "source": [
    "plt.xlim(0,25e15)\n",
    "#plt.ylim(0,5e-16)\n",
    "plt.plot(omega,deltap*Dnsqrt(omega,30000)/np.sqrt(tsim))\n",
    "plt.plot(omega,deltap*Dnsqrt(omega,50000)/np.sqrt(tsim))"
   ]
  },
  {
   "cell_type": "markdown",
   "id": "dcccbb6d-f3cc-4cec-be36-ce9db2ea2dd6",
   "metadata": {},
   "source": [
    "重複計算頻均次數"
   ]
  },
  {
   "cell_type": "code",
   "execution_count": 75,
   "id": "759ea313-b6c3-4c24-8e0a-65f58b1d4900",
   "metadata": {
    "tags": []
   },
   "outputs": [],
   "source": [
    "#define how many times to run to average the results\n",
    "Ncomp=10\n",
    "#define the starting sum of the result\n",
    "Efsum = np.zeros(2*M)"
   ]
  },
  {
   "cell_type": "markdown",
   "id": "31887279-aa2c-424f-ad56-bca21101af39",
   "metadata": {},
   "source": [
    "FFT 過程 包含數列擺正"
   ]
  },
  {
   "cell_type": "code",
   "execution_count": 77,
   "id": "8082b728-b2ef-4edb-b174-37f92448a0b5",
   "metadata": {},
   "outputs": [
    {
     "name": "stdout",
     "output_type": "stream",
     "text": [
      "[😁😁😁😁😁😁😁😁😁😁😁😁😁😁😁😁😁😁😁😁😁😁😁😁😁😁😁😁😁😁😁😁😁😁😁😁😁😁😁😁😁😁😁😁😁😁😁😁😁😁😁😁😁😁😁😁😁😁😁😁😁😁😁😁😁😁😁😁😁😁😁😁😁😁😁😁😁😁😁😁😁😁😁😁😁😁😁😁😁😁] 90%"
     ]
    }
   ],
   "source": [
    "for i in range(Ncomp):\n",
    "    \n",
    "    #generate random numbers\n",
    "    M0 = np.random.normal(0,1)\n",
    "    Mlp = np.random.normal(0,1,M-1)\n",
    "    Nlp = np.random.normal(0,1,M-1)\n",
    "    MM = np.random.normal(0,1)\n",
    "    \n",
    "    #generate the array of the fourier transform of E field, we generate l=0 and l=-M separately. \n",
    "    #for l=1 to M-1 and l=-1 to -(M-1) are conjutated to each other. \n",
    "    #we contruct the whole array by gluing them together by the order from l=0 -> l=M-1 -> l=-M -> l=-(m-1) -> l=-1\n",
    "    Ef0 = np.array([M0*np.sqrt(6*hdk/np.pi/T)])\n",
    "    Eflp = np.multiply((Mlp + 1j*Nlp), Dsqr)\n",
    "    Eflm = np.flip(np.conjugate(Eflp))\n",
    "    EfM = np.array([MM*Dnsqrt(2*np.pi*M/tsim,T)])\n",
    "    Ef = np.hstack((Ef0,Eflp,EfM,Eflm))\n",
    "    \n",
    "    #we normalize Ef and compute its inverse fast fourier transform\n",
    "    Efn = deltap/np.sqrt(tsim)*Ef\n",
    "    En = np.fft.ifft(Efn)\n",
    "    \n",
    "    #we compute self correlation of En\n",
    "    Eautoc = signal.correlate(En,En)\n",
    "    Eautocf = np.fft.fft(Eautoc[len(En)-1:])\n",
    "    \n",
    "    #extract the real value and add the value of this loop to the total sum\n",
    "    Eautocf = np.real(Eautocf)\n",
    "    Efsum += Eautocf\n",
    "    \n",
    "    #generate some feedback to check the progress of the loop\n",
    "    x = i/Ncomp*100\n",
    "    sys.stdout.write('\\r')\n",
    "    sys.stdout.write(\"[%-20s] %d%%\" % ('😁'*int(x), int(x)))\n",
    "    sys.stdout.flush()\n",
    "    sleep(0.0001)\n",
    "\n",
    "#average the final result\n",
    "Efavg = Efsum/Ncomp\n",
    "\n"
   ]
  },
  {
   "cell_type": "markdown",
   "id": "d976587e-0594-41a5-b3b7-af457ab473c3",
   "metadata": {},
   "source": [
    "紀錄 數據"
   ]
  },
  {
   "cell_type": "code",
   "execution_count": 16,
   "id": "89c836dd-5b38-4ead-a057-27581e417602",
   "metadata": {
    "tags": []
   },
   "outputs": [],
   "source": [
    "#save data to some file or reload file to write more data on it\n",
    "#np.savez(\"Efavg_v3.npz\", Efavg_30000 = Efavg)\n",
    "#data = np.load(\"Efavg_v3.npz\")\n",
    "#data = dict(data)\n",
    "#data[\"Efavg_30000\"] = Efavg\n",
    "#np.savez(\"Efavg_v3.npz\",**data)\n"
   ]
  },
  {
   "cell_type": "code",
   "execution_count": null,
   "id": "2ecb38b8-c455-433b-9d04-93fbdb55a32a",
   "metadata": {},
   "outputs": [],
   "source": [
    " "
   ]
  },
  {
   "cell_type": "code",
   "execution_count": 78,
   "id": "fd846119-c59c-4523-9edd-39d32580fd70",
   "metadata": {},
   "outputs": [
    {
     "data": {
      "text/plain": [
       "Text(0, 0.5, 'Magnitude')"
      ]
     },
     "execution_count": 78,
     "metadata": {},
     "output_type": "execute_result"
    },
    {
     "data": {
      "image/png": "[encoded data removed]",
      "text/plain": [
       "<Figure size 640x480 with 1 Axes>"
      ]
     },
     "metadata": {},
     "output_type": "display_data"
    }
   ],
   "source": [
    "freqs = np.linspace(0,2*M*2*np.pi/(7*1e-12),4194304)\n",
    "plt.plot(freqs,Efavg,'.')\n",
    "plt.xlim(0,25*1e15)\n",
    "#plt.ylim(0,8*1e-28)\n",
    "plt.xlabel('Frequency (Hz)')\n",
    "plt.ylabel('Magnitude')"
   ]
  },
  {
   "cell_type": "code",
   "execution_count": null,
   "id": "0eb6e3c4-5da5-454b-bb6c-d05f2d3d2b02",
   "metadata": {},
   "outputs": [],
   "source": [
    "timess = np.linspace(0,7*1e-12,4194304)\n",
    "plt.plot(timess,En)\n",
    "plt.xlim(0,2*1e-15)\n",
    "plt.ylim(-3e-7,3e-7)\n",
    "plt.xlabel('times')\n",
    "plt.ylabel('Electric field source Es')"
   ]
  },
  {
   "cell_type": "code",
   "execution_count": null,
   "id": "fbd53381-5903-49ae-9c13-ac2fc580776e",
   "metadata": {},
   "outputs": [],
   "source": [
    "timesss = np.linspace(-7*1e-12,7*1e-12,M*4-1)\n",
    "plt.plot(timesss,Eautoc)\n",
    "plt.xlim(-1e-15,1e-15)\n",
    "plt.ylim(0,1e-7)\n",
    "plt.xlabel('times')\n",
    "plt.ylabel('Correlation function')"
   ]
  },
  {
   "cell_type": "code",
   "execution_count": null,
   "id": "26934a2f-a9a6-4ca0-9ae5-1b463eebaa43",
   "metadata": {},
   "outputs": [],
   "source": []
  }
 ],
 "metadata": {
  "kernelspec": {
   "display_name": "Python 3 (ipykernel)",
   "language": "python",
   "name": "python3"
  },
  "language_info": {
   "codemirror_mode": {
    "name": "ipython",
    "version": 3
   },
   "file_extension": ".py",
   "mimetype": "text/x-python",
   "name": "python",
   "nbconvert_exporter": "python",
   "pygments_lexer": "ipython3",
   "version": "3.11.0"
  }
 },
 "nbformat": 4,
 "nbformat_minor": 5
}
