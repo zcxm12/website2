{
 "cells": [
  {
   "cell_type": "code",
   "execution_count": 5,
   "id": "aa1d9a52-9576-4a32-902b-57bba499975b",
   "metadata": {
    "tags": []
   },
   "outputs": [
    {
     "name": "stdout",
     "output_type": "stream",
     "text": [
      "[                    ] 0%-----------\n",
      "Initializing structure...\n",
      "time for choose_chunkdivision = 0.000212908 s\n",
      "Working in 2D dimensions.\n",
      "Computational cell is 16 x 8 x 0 with resolution 10\n",
      "     block, center = (0,0,0)\n",
      "          size (1e+20,1,0)\n",
      "          axes (1,0,0), (0,1,0), (0,0,1)\n",
      "          dielectric constant epsilon diagonal = (1,1,1)\n",
      "time for set_epsilon = 0.0545661 s\n",
      "-----------\n"
     ]
    },
    {
     "data": {
      "application/vnd.jupyter.widget-view+json": {
       "model_id": "f7c3cbfdb3674648b012d2529536b32b",
       "version_major": 2,
       "version_minor": 0
      },
      "text/plain": [
       "FloatProgress(value=0.0, description='0% done ', max=2090.0)"
      ]
     },
     "metadata": {},
     "output_type": "display_data"
    },
    {
     "name": "stdout",
     "output_type": "stream",
     "text": [
      "Meep progress: 341.65000000000003/2090.0 = 16.3% done in 4.0s, 20.5s to go\n",
      "on time step 6841 (time=342.05), 0.00058476 s/step\n",
      "Meep progress: 689.6500000000001/2090.0 = 33.0% done in 8.0s, 16.2s to go\n",
      "on time step 13803 (time=690.15), 0.000574582 s/step\n",
      "Meep progress: 1040.45/2090.0 = 49.8% done in 12.0s, 12.1s to go\n",
      "on time step 20820 (time=1041), 0.000570117 s/step\n",
      "Meep progress: 1389.5500000000002/2090.0 = 66.5% done in 16.0s, 8.1s to go\n",
      "on time step 27804 (time=1390.2), 0.000572804 s/step\n",
      "Meep progress: 1736.2/2090.0 = 83.1% done in 20.0s, 4.1s to go\n",
      "on time step 34738 (time=1736.9), 0.00057693 s/step\n",
      "Meep progress: 2082.3/2090.0 = 99.6% done in 24.0s, 0.1s to go\n",
      "on time step 41661 (time=2083.05), 0.000577864 s/step\n",
      "run 0 finished at t = 2090.0 (41800 timesteps)\n",
      "[aaaaa               ] 5%-----------\n",
      "Initializing structure...\n",
      "time for choose_chunkdivision = 0.000187874 s\n",
      "Working in 2D dimensions.\n",
      "Computational cell is 16 x 8 x 0 with resolution 10\n",
      "     block, center = (0,0,0)\n",
      "          size (1e+20,1,0)\n",
      "          axes (1,0,0), (0,1,0), (0,0,1)\n",
      "          dielectric constant epsilon diagonal = (1,1,1)\n",
      "time for set_epsilon = 0.053993 s\n",
      "-----------\n"
     ]
    },
    {
     "data": {
      "application/vnd.jupyter.widget-view+json": {
       "model_id": "1aec98e59c954d14b17d828940091fd4",
       "version_major": 2,
       "version_minor": 0
      },
      "text/plain": [
       "FloatProgress(value=0.0, description='0% done ', max=2090.0)"
      ]
     },
     "metadata": {},
     "output_type": "display_data"
    },
    {
     "name": "stdout",
     "output_type": "stream",
     "text": [
      "Meep progress: 350.90000000000003/2090.0 = 16.8% done in 4.0s, 19.8s to go\n",
      "on time step 7020 (time=351), 0.000569863 s/step\n",
      "Meep progress: 706.1500000000001/2090.0 = 33.8% done in 8.0s, 15.7s to go\n",
      "on time step 14126 (time=706.3), 0.000562915 s/step\n",
      "Meep progress: 1058.6000000000001/2090.0 = 50.7% done in 12.0s, 11.7s to go\n",
      "on time step 21176 (time=1058.8), 0.000567411 s/step\n",
      "Meep progress: 1414.8500000000001/2090.0 = 67.7% done in 16.0s, 7.6s to go\n",
      "on time step 28302 (time=1415.1), 0.000561341 s/step\n",
      "Meep progress: 1765.0500000000002/2090.0 = 84.5% done in 20.0s, 3.7s to go\n",
      "on time step 35306 (time=1765.3), 0.000571118 s/step\n",
      "run 0 finished at t = 2090.0 (41800 timesteps)\n",
      "[aaaaaaaaaa          ] 10%-----------\n",
      "Initializing structure...\n",
      "time for choose_chunkdivision = 0.000202894 s\n",
      "Working in 2D dimensions.\n",
      "Computational cell is 16 x 8 x 0 with resolution 10\n",
      "     block, center = (0,0,0)\n",
      "          size (1e+20,1,0)\n",
      "          axes (1,0,0), (0,1,0), (0,0,1)\n",
      "          dielectric constant epsilon diagonal = (1,1,1)\n",
      "time for set_epsilon = 0.0541999 s\n",
      "-----------\n"
     ]
    },
    {
     "data": {
      "application/vnd.jupyter.widget-view+json": {
       "model_id": "dd436f4600d545e69d983bc8609c91c3",
       "version_major": 2,
       "version_minor": 0
      },
      "text/plain": [
       "FloatProgress(value=0.0, description='0% done ', max=2090.0)"
      ]
     },
     "metadata": {},
     "output_type": "display_data"
    },
    {
     "name": "stdout",
     "output_type": "stream",
     "text": [
      "Meep progress: 352.95000000000005/2090.0 = 16.9% done in 4.0s, 19.7s to go\n",
      "on time step 7062 (time=353.1), 0.000566465 s/step\n",
      "Meep progress: 707.5/2090.0 = 33.9% done in 8.0s, 15.6s to go\n",
      "on time step 14154 (time=707.7), 0.000564054 s/step\n",
      "Meep progress: 1063.1000000000001/2090.0 = 50.9% done in 12.0s, 11.6s to go\n",
      "on time step 21267 (time=1063.35), 0.000562425 s/step\n",
      "Meep progress: 1417.3000000000002/2090.0 = 67.8% done in 16.0s, 7.6s to go\n",
      "on time step 28351 (time=1417.55), 0.000564661 s/step\n",
      "Meep progress: 1773.45/2090.0 = 84.9% done in 20.0s, 3.6s to go\n",
      "on time step 35475 (time=1773.75), 0.000561492 s/step\n",
      "run 0 finished at t = 2090.0 (41800 timesteps)\n",
      "[aaaaaaaaaaaaaaa     ] 15%-----------\n",
      "Initializing structure...\n",
      "time for choose_chunkdivision = 0.000194073 s\n",
      "Working in 2D dimensions.\n",
      "Computational cell is 16 x 8 x 0 with resolution 10\n",
      "     block, center = (0,0,0)\n",
      "          size (1e+20,1,0)\n",
      "          axes (1,0,0), (0,1,0), (0,0,1)\n",
      "          dielectric constant epsilon diagonal = (1,1,1)\n",
      "time for set_epsilon = 0.05405 s\n",
      "-----------\n"
     ]
    },
    {
     "data": {
      "application/vnd.jupyter.widget-view+json": {
       "model_id": "fd19b0d8faef499995eb807708bc4d31",
       "version_major": 2,
       "version_minor": 0
      },
      "text/plain": [
       "FloatProgress(value=0.0, description='0% done ', max=2090.0)"
      ]
     },
     "metadata": {},
     "output_type": "display_data"
    },
    {
     "name": "stdout",
     "output_type": "stream",
     "text": [
      "Meep progress: 352.25/2090.0 = 16.9% done in 4.0s, 19.7s to go\n",
      "on time step 7047 (time=352.35), 0.000567652 s/step\n",
      "Meep progress: 706.6500000000001/2090.0 = 33.8% done in 8.0s, 15.7s to go\n",
      "on time step 14136 (time=706.8), 0.000564259 s/step\n",
      "Meep progress: 1060.9/2090.0 = 50.8% done in 12.0s, 11.6s to go\n",
      "on time step 21222 (time=1061.1), 0.0005645 s/step\n",
      "Meep progress: 1401.75/2090.0 = 67.1% done in 16.0s, 7.9s to go\n",
      "on time step 28039 (time=1401.95), 0.000586775 s/step\n",
      "Meep progress: 1741.0500000000002/2090.0 = 83.3% done in 20.0s, 4.0s to go\n",
      "on time step 34827 (time=1741.35), 0.000589325 s/step\n",
      "Meep progress: 2089.55/2090.0 = 100.0% done in 24.0s, 0.0s to go\n",
      "on time step 41797 (time=2089.85), 0.000573893 s/step\n",
      "run 0 finished at t = 2090.0 (41800 timesteps)\n",
      "[aaaaaaaaaaaaaaaaaaaa] 20%-----------\n",
      "Initializing structure...\n",
      "time for choose_chunkdivision = 0.000213861 s\n",
      "Working in 2D dimensions.\n",
      "Computational cell is 16 x 8 x 0 with resolution 10\n",
      "     block, center = (0,0,0)\n",
      "          size (1e+20,1,0)\n",
      "          axes (1,0,0), (0,1,0), (0,0,1)\n",
      "          dielectric constant epsilon diagonal = (1,1,1)\n",
      "time for set_epsilon = 0.054091 s\n",
      "-----------\n"
     ]
    },
    {
     "data": {
      "application/vnd.jupyter.widget-view+json": {
       "model_id": "0eb4d6bc601c419f9c375f9df21a978b",
       "version_major": 2,
       "version_minor": 0
      },
      "text/plain": [
       "FloatProgress(value=0.0, description='0% done ', max=2090.0)"
      ]
     },
     "metadata": {},
     "output_type": "display_data"
    },
    {
     "name": "stdout",
     "output_type": "stream",
     "text": [
      "Meep progress: 354.25/2090.0 = 16.9% done in 4.0s, 19.6s to go\n",
      "on time step 7087 (time=354.35), 0.000564422 s/step\n",
      "Meep progress: 709.6500000000001/2090.0 = 34.0% done in 8.0s, 15.6s to go\n",
      "on time step 14196 (time=709.8), 0.000562679 s/step\n",
      "Meep progress: 1062.55/2090.0 = 50.8% done in 12.0s, 11.6s to go\n",
      "on time step 21255 (time=1062.75), 0.000566707 s/step\n",
      "Meep progress: 1416.3000000000002/2090.0 = 67.8% done in 16.0s, 7.6s to go\n",
      "on time step 28332 (time=1416.6), 0.000565267 s/step\n",
      "Meep progress: 1769.0/2090.0 = 84.6% done in 20.0s, 3.6s to go\n",
      "on time step 35386 (time=1769.3), 0.000567078 s/step\n",
      "run 0 finished at t = 2090.0 (41800 timesteps)\n",
      "[aaaaaaaaaaaaaaaaaaaaaaaaa] 25%-----------\n",
      "Initializing structure...\n",
      "time for choose_chunkdivision = 0.000195026 s\n",
      "Working in 2D dimensions.\n",
      "Computational cell is 16 x 8 x 0 with resolution 10\n",
      "     block, center = (0,0,0)\n",
      "          size (1e+20,1,0)\n",
      "          axes (1,0,0), (0,1,0), (0,0,1)\n",
      "          dielectric constant epsilon diagonal = (1,1,1)\n",
      "time for set_epsilon = 0.0540879 s\n",
      "-----------\n"
     ]
    },
    {
     "data": {
      "application/vnd.jupyter.widget-view+json": {
       "model_id": "75b2d97bc21549fb944dd3cd8e8c2bc3",
       "version_major": 2,
       "version_minor": 0
      },
      "text/plain": [
       "FloatProgress(value=0.0, description='0% done ', max=2090.0)"
      ]
     },
     "metadata": {},
     "output_type": "display_data"
    },
    {
     "name": "stdout",
     "output_type": "stream",
     "text": [
      "Meep progress: 345.8/2090.0 = 16.5% done in 4.0s, 20.2s to go\n",
      "on time step 6918 (time=345.9), 0.000578203 s/step\n",
      "Meep progress: 690.5500000000001/2090.0 = 33.0% done in 8.0s, 16.2s to go\n",
      "on time step 13814 (time=690.7), 0.000580089 s/step\n",
      "Meep progress: 1040.55/2090.0 = 49.8% done in 12.0s, 12.1s to go\n",
      "on time step 20815 (time=1040.75), 0.000571388 s/step\n",
      "Meep progress: 1396.75/2090.0 = 66.8% done in 16.0s, 7.9s to go\n",
      "on time step 27939 (time=1396.95), 0.000561483 s/step\n",
      "Meep progress: 1749.8000000000002/2090.0 = 83.7% done in 20.0s, 3.9s to go\n",
      "on time step 35002 (time=1750.1), 0.000566391 s/step\n",
      "run 0 finished at t = 2090.0 (41800 timesteps)\n",
      "[aaaaaaaaaaaaaaaaaaaaaaaaaaaaaa] 30%-----------\n",
      "Initializing structure...\n",
      "time for choose_chunkdivision = 0.000200987 s\n",
      "Working in 2D dimensions.\n",
      "Computational cell is 16 x 8 x 0 with resolution 10\n",
      "     block, center = (0,0,0)\n",
      "          size (1e+20,1,0)\n",
      "          axes (1,0,0), (0,1,0), (0,0,1)\n",
      "          dielectric constant epsilon diagonal = (1,1,1)\n",
      "time for set_epsilon = 0.0541 s\n",
      "-----------\n"
     ]
    },
    {
     "data": {
      "application/vnd.jupyter.widget-view+json": {
       "model_id": "68e5656201264702a73091f8a41b30e8",
       "version_major": 2,
       "version_minor": 0
      },
      "text/plain": [
       "FloatProgress(value=0.0, description='0% done ', max=2090.0)"
      ]
     },
     "metadata": {},
     "output_type": "display_data"
    },
    {
     "name": "stdout",
     "output_type": "stream",
     "text": [
      "Meep progress: 353.90000000000003/2090.0 = 16.9% done in 4.0s, 19.6s to go\n",
      "on time step 7081 (time=354.05), 0.000564947 s/step\n",
      "Meep progress: 709.7/2090.0 = 34.0% done in 8.0s, 15.6s to go\n",
      "on time step 14198 (time=709.9), 0.000562063 s/step\n",
      "Meep progress: 1062.75/2090.0 = 50.8% done in 12.0s, 11.6s to go\n",
      "on time step 21261 (time=1063.05), 0.000566405 s/step\n",
      "Meep progress: 1418.5/2090.0 = 67.9% done in 16.0s, 7.6s to go\n",
      "on time step 28377 (time=1418.85), 0.000562147 s/step\n",
      "Meep progress: 1772.5/2090.0 = 84.8% done in 20.0s, 3.6s to go\n",
      "on time step 35458 (time=1772.9), 0.000564953 s/step\n",
      "run 0 finished at t = 2090.0 (41800 timesteps)\n",
      "[aaaaaaaaaaaaaaaaaaaaaaaaaaaaaaaaaaa] 35%-----------\n",
      "Initializing structure...\n",
      "time for choose_chunkdivision = 0.00019598 s\n",
      "Working in 2D dimensions.\n",
      "Computational cell is 16 x 8 x 0 with resolution 10\n",
      "     block, center = (0,0,0)\n",
      "          size (1e+20,1,0)\n",
      "          axes (1,0,0), (0,1,0), (0,0,1)\n",
      "          dielectric constant epsilon diagonal = (1,1,1)\n",
      "time for set_epsilon = 0.0542979 s\n",
      "-----------\n"
     ]
    },
    {
     "data": {
      "application/vnd.jupyter.widget-view+json": {
       "model_id": "2c4a3dad2b8b4fd5b0faeb31e23aa14b",
       "version_major": 2,
       "version_minor": 0
      },
      "text/plain": [
       "FloatProgress(value=0.0, description='0% done ', max=2090.0)"
      ]
     },
     "metadata": {},
     "output_type": "display_data"
    },
    {
     "name": "stdout",
     "output_type": "stream",
     "text": [
      "Meep progress: 355.20000000000005/2090.0 = 17.0% done in 4.0s, 19.5s to go\n",
      "on time step 7107 (time=355.35), 0.0005629 s/step\n",
      "Meep progress: 709.5500000000001/2090.0 = 33.9% done in 8.0s, 15.6s to go\n",
      "on time step 14195 (time=709.75), 0.000564398 s/step\n",
      "Meep progress: 1051.15/2090.0 = 50.3% done in 12.0s, 11.9s to go\n",
      "on time step 21027 (time=1051.35), 0.000585488 s/step\n",
      "Meep progress: 1405.9/2090.0 = 67.3% done in 16.0s, 7.8s to go\n",
      "on time step 28124 (time=1406.2), 0.000563673 s/step\n",
      "Meep progress: 1760.75/2090.0 = 84.2% done in 20.0s, 3.7s to go\n",
      "on time step 35221 (time=1761.05), 0.000563619 s/step\n",
      "run 0 finished at t = 2090.0 (41800 timesteps)\n",
      "[aaaaaaaaaaaaaaaaaaaaaaaaaaaaaaaaaaaaaaaa] 40%-----------\n",
      "Initializing structure...\n",
      "time for choose_chunkdivision = 0.000224829 s\n",
      "Working in 2D dimensions.\n",
      "Computational cell is 16 x 8 x 0 with resolution 10\n",
      "     block, center = (0,0,0)\n",
      "          size (1e+20,1,0)\n",
      "          axes (1,0,0), (0,1,0), (0,0,1)\n",
      "          dielectric constant epsilon diagonal = (1,1,1)\n",
      "time for set_epsilon = 0.0543668 s\n",
      "-----------\n"
     ]
    },
    {
     "data": {
      "application/vnd.jupyter.widget-view+json": {
       "model_id": "551a5ef1ff7a48cfaed837041677d2ad",
       "version_major": 2,
       "version_minor": 0
      },
      "text/plain": [
       "FloatProgress(value=0.0, description='0% done ', max=2090.0)"
      ]
     },
     "metadata": {},
     "output_type": "display_data"
    },
    {
     "name": "stdout",
     "output_type": "stream",
     "text": [
      "Meep progress: 351.3/2090.0 = 16.8% done in 4.0s, 19.8s to go\n",
      "on time step 7029 (time=351.45), 0.000569166 s/step\n",
      "Meep progress: 705.25/2090.0 = 33.7% done in 8.0s, 15.7s to go\n",
      "on time step 14109 (time=705.45), 0.000565066 s/step\n",
      "Meep progress: 1058.6000000000001/2090.0 = 50.7% done in 12.0s, 11.7s to go\n",
      "on time step 21179 (time=1058.95), 0.000565815 s/step\n",
      "Meep progress: 1413.9/2090.0 = 67.7% done in 16.0s, 7.7s to go\n",
      "on time step 28286 (time=1414.3), 0.000562879 s/step\n",
      "Meep progress: 1768.15/2090.0 = 84.6% done in 20.0s, 3.6s to go\n",
      "on time step 35372 (time=1768.6), 0.000564576 s/step\n",
      "run 0 finished at t = 2090.0 (41800 timesteps)\n",
      "[aaaaaaaaaaaaaaaaaaaaaaaaaaaaaaaaaaaaaaaaaaaaa] 45%-----------\n",
      "Initializing structure...\n",
      "time for choose_chunkdivision = 0.000189066 s\n",
      "Working in 2D dimensions.\n",
      "Computational cell is 16 x 8 x 0 with resolution 10\n",
      "     block, center = (0,0,0)\n",
      "          size (1e+20,1,0)\n",
      "          axes (1,0,0), (0,1,0), (0,0,1)\n",
      "          dielectric constant epsilon diagonal = (1,1,1)\n",
      "time for set_epsilon = 0.0543649 s\n",
      "-----------\n"
     ]
    },
    {
     "data": {
      "application/vnd.jupyter.widget-view+json": {
       "model_id": "fcef5999eb9b4c7cb70ccbef08994553",
       "version_major": 2,
       "version_minor": 0
      },
      "text/plain": [
       "FloatProgress(value=0.0, description='0% done ', max=2090.0)"
      ]
     },
     "metadata": {},
     "output_type": "display_data"
    },
    {
     "name": "stdout",
     "output_type": "stream",
     "text": [
      "Meep progress: 356.35/2090.0 = 17.1% done in 4.0s, 19.5s to go\n",
      "on time step 7129 (time=356.45), 0.000561096 s/step\n",
      "Meep progress: 708.1500000000001/2090.0 = 33.9% done in 8.0s, 15.6s to go\n",
      "on time step 14166 (time=708.3), 0.00056849 s/step\n",
      "Meep progress: 1060.6000000000001/2090.0 = 50.7% done in 12.0s, 11.6s to go\n",
      "on time step 21216 (time=1060.8), 0.000567457 s/step\n",
      "Meep progress: 1409.7/2090.0 = 67.4% done in 16.0s, 7.7s to go\n",
      "on time step 28198 (time=1409.9), 0.000572905 s/step\n",
      "Meep progress: 1765.7/2090.0 = 84.5% done in 20.0s, 3.7s to go\n",
      "on time step 35320 (time=1766), 0.000561715 s/step\n",
      "run 0 finished at t = 2090.0 (41800 timesteps)\n",
      "[aaaaaaaaaaaaaaaaaaaaaaaaaaaaaaaaaaaaaaaaaaaaaaaaaa] 50%-----------\n",
      "Initializing structure...\n",
      "time for choose_chunkdivision = 0.000175953 s\n",
      "Working in 2D dimensions.\n",
      "Computational cell is 16 x 8 x 0 with resolution 10\n",
      "     block, center = (0,0,0)\n",
      "          size (1e+20,1,0)\n",
      "          axes (1,0,0), (0,1,0), (0,0,1)\n",
      "          dielectric constant epsilon diagonal = (1,1,1)\n",
      "time for set_epsilon = 0.054184 s\n",
      "-----------\n"
     ]
    },
    {
     "data": {
      "application/vnd.jupyter.widget-view+json": {
       "model_id": "9792981083bf4720a4e44b79c13ebf09",
       "version_major": 2,
       "version_minor": 0
      },
      "text/plain": [
       "FloatProgress(value=0.0, description='0% done ', max=2090.0)"
      ]
     },
     "metadata": {},
     "output_type": "display_data"
    },
    {
     "name": "stdout",
     "output_type": "stream",
     "text": [
      "Meep progress: 348.95000000000005/2090.0 = 16.7% done in 4.0s, 20.0s to go\n",
      "on time step 6982 (time=349.1), 0.000572969 s/step\n",
      "Meep progress: 701.35/2090.0 = 33.6% done in 8.0s, 15.8s to go\n",
      "on time step 14031 (time=701.55), 0.000567526 s/step\n",
      "Meep progress: 1051.75/2090.0 = 50.3% done in 12.0s, 11.8s to go\n",
      "on time step 21040 (time=1052), 0.000570793 s/step\n",
      "Meep progress: 1401.5500000000002/2090.0 = 67.1% done in 16.0s, 7.9s to go\n",
      "on time step 28037 (time=1401.85), 0.000571713 s/step\n",
      "Meep progress: 1751.0500000000002/2090.0 = 83.8% done in 20.0s, 3.9s to go\n",
      "on time step 35028 (time=1751.4), 0.000572233 s/step\n",
      "run 0 finished at t = 2090.0 (41800 timesteps)\n",
      "[aaaaaaaaaaaaaaaaaaaaaaaaaaaaaaaaaaaaaaaaaaaaaaaaaaaaaaa] 55%-----------\n",
      "Initializing structure...\n",
      "time for choose_chunkdivision = 0.00019908 s\n",
      "Working in 2D dimensions.\n",
      "Computational cell is 16 x 8 x 0 with resolution 10\n",
      "     block, center = (0,0,0)\n",
      "          size (1e+20,1,0)\n",
      "          axes (1,0,0), (0,1,0), (0,0,1)\n",
      "          dielectric constant epsilon diagonal = (1,1,1)\n",
      "time for set_epsilon = 0.0542319 s\n",
      "-----------\n"
     ]
    },
    {
     "data": {
      "application/vnd.jupyter.widget-view+json": {
       "model_id": "a7e6805b859e4bafa38a0b5e8cebbe6c",
       "version_major": 2,
       "version_minor": 0
      },
      "text/plain": [
       "FloatProgress(value=0.0, description='0% done ', max=2090.0)"
      ]
     },
     "metadata": {},
     "output_type": "display_data"
    },
    {
     "name": "stdout",
     "output_type": "stream",
     "text": [
      "Meep progress: 335.8/2090.0 = 16.1% done in 4.0s, 20.9s to go\n",
      "on time step 6718 (time=335.9), 0.000595429 s/step\n",
      "Meep progress: 682.85/2090.0 = 32.7% done in 8.0s, 16.5s to go\n",
      "on time step 13660 (time=683), 0.000576246 s/step\n",
      "Meep progress: 1034.6000000000001/2090.0 = 49.5% done in 12.0s, 12.2s to go\n",
      "on time step 20696 (time=1034.8), 0.000568526 s/step\n",
      "Meep progress: 1387.8000000000002/2090.0 = 66.4% done in 16.0s, 8.1s to go\n",
      "on time step 27761 (time=1388.05), 0.000566249 s/step\n",
      "Meep progress: 1739.4/2090.0 = 83.2% done in 20.0s, 4.0s to go\n",
      "on time step 34793 (time=1739.65), 0.000568832 s/step\n",
      "run 0 finished at t = 2090.0 (41800 timesteps)\n",
      "[aaaaaaaaaaaaaaaaaaaaaaaaaaaaaaaaaaaaaaaaaaaaaaaaaaaaaaaaaaaa] 60%-----------\n",
      "Initializing structure...\n",
      "time for choose_chunkdivision = 0.00019002 s\n",
      "Working in 2D dimensions.\n",
      "Computational cell is 16 x 8 x 0 with resolution 10\n",
      "     block, center = (0,0,0)\n",
      "          size (1e+20,1,0)\n",
      "          axes (1,0,0), (0,1,0), (0,0,1)\n",
      "          dielectric constant epsilon diagonal = (1,1,1)\n",
      "time for set_epsilon = 0.0539958 s\n",
      "-----------\n"
     ]
    },
    {
     "data": {
      "application/vnd.jupyter.widget-view+json": {
       "model_id": "fff22fda3d5544f78021106ec0eaba1d",
       "version_major": 2,
       "version_minor": 0
      },
      "text/plain": [
       "FloatProgress(value=0.0, description='0% done ', max=2090.0)"
      ]
     },
     "metadata": {},
     "output_type": "display_data"
    },
    {
     "name": "stdout",
     "output_type": "stream",
     "text": [
      "Meep progress: 358.75/2090.0 = 17.2% done in 4.0s, 19.3s to go\n",
      "on time step 7177 (time=358.85), 0.00055736 s/step\n",
      "Meep progress: 712.5/2090.0 = 34.1% done in 8.0s, 15.5s to go\n",
      "on time step 14253 (time=712.65), 0.000565364 s/step\n",
      "Meep progress: 1069.15/2090.0 = 51.2% done in 12.0s, 11.5s to go\n",
      "on time step 21387 (time=1069.35), 0.000560746 s/step\n",
      "Meep progress: 1421.75/2090.0 = 68.0% done in 16.0s, 7.5s to go\n",
      "on time step 28440 (time=1422), 0.000567173 s/step\n",
      "Meep progress: 1780.95/2090.0 = 85.2% done in 20.0s, 3.5s to go\n",
      "on time step 35625 (time=1781.25), 0.000556758 s/step\n",
      "run 0 finished at t = 2090.0 (41800 timesteps)\n",
      "[aaaaaaaaaaaaaaaaaaaaaaaaaaaaaaaaaaaaaaaaaaaaaaaaaaaaaaaaaaaaaaaaa] 65%-----------\n",
      "Initializing structure...\n",
      "time for choose_chunkdivision = 0.000200033 s\n",
      "Working in 2D dimensions.\n",
      "Computational cell is 16 x 8 x 0 with resolution 10\n",
      "     block, center = (0,0,0)\n",
      "          size (1e+20,1,0)\n",
      "          axes (1,0,0), (0,1,0), (0,0,1)\n",
      "          dielectric constant epsilon diagonal = (1,1,1)\n",
      "time for set_epsilon = 0.0538859 s\n",
      "-----------\n"
     ]
    },
    {
     "data": {
      "application/vnd.jupyter.widget-view+json": {
       "model_id": "90a3f9c5479d47fc90a2e0aa3c993a08",
       "version_major": 2,
       "version_minor": 0
      },
      "text/plain": [
       "FloatProgress(value=0.0, description='0% done ', max=2090.0)"
      ]
     },
     "metadata": {},
     "output_type": "display_data"
    },
    {
     "name": "stdout",
     "output_type": "stream",
     "text": [
      "Meep progress: 348.55/2090.0 = 16.7% done in 4.0s, 20.0s to go\n",
      "on time step 6974 (time=348.7), 0.000573584 s/step\n",
      "Meep progress: 693.8000000000001/2090.0 = 33.2% done in 8.0s, 16.1s to go\n",
      "on time step 13880 (time=694), 0.000579234 s/step\n",
      "Meep progress: 1046.45/2090.0 = 50.1% done in 12.0s, 12.0s to go\n",
      "on time step 20934 (time=1046.7), 0.000567126 s/step\n",
      "Meep progress: 1403.0/2090.0 = 67.1% done in 16.0s, 7.8s to go\n",
      "on time step 28066 (time=1403.3), 0.000560899 s/step\n",
      "Meep progress: 1759.0500000000002/2090.0 = 84.2% done in 20.0s, 3.8s to go\n",
      "on time step 35188 (time=1759.4), 0.000561687 s/step\n",
      "run 0 finished at t = 2090.0 (41800 timesteps)\n",
      "[aaaaaaaaaaaaaaaaaaaaaaaaaaaaaaaaaaaaaaaaaaaaaaaaaaaaaaaaaaaaaaaaaaaaaa] 70%-----------\n",
      "Initializing structure...\n",
      "time for choose_chunkdivision = 0.000196934 s\n",
      "Working in 2D dimensions.\n",
      "Computational cell is 16 x 8 x 0 with resolution 10\n",
      "     block, center = (0,0,0)\n",
      "          size (1e+20,1,0)\n",
      "          axes (1,0,0), (0,1,0), (0,0,1)\n",
      "          dielectric constant epsilon diagonal = (1,1,1)\n",
      "time for set_epsilon = 0.0542061 s\n",
      "-----------\n"
     ]
    },
    {
     "data": {
      "application/vnd.jupyter.widget-view+json": {
       "model_id": "58906f95ef8e451aa7f1ffc0fd35d6ad",
       "version_major": 2,
       "version_minor": 0
      },
      "text/plain": [
       "FloatProgress(value=0.0, description='0% done ', max=2090.0)"
      ]
     },
     "metadata": {},
     "output_type": "display_data"
    },
    {
     "name": "stdout",
     "output_type": "stream",
     "text": [
      "Meep progress: 353.25/2090.0 = 16.9% done in 4.0s, 19.7s to go\n",
      "on time step 7068 (time=353.4), 0.000565989 s/step\n",
      "Meep progress: 709.4000000000001/2090.0 = 33.9% done in 8.0s, 15.6s to go\n",
      "on time step 14192 (time=709.6), 0.000561488 s/step\n",
      "Meep progress: 1066.3/2090.0 = 51.0% done in 12.0s, 11.5s to go\n",
      "on time step 21331 (time=1066.55), 0.000560339 s/step\n",
      "Meep progress: 1420.5500000000002/2090.0 = 68.0% done in 16.0s, 7.5s to go\n",
      "on time step 28417 (time=1420.85), 0.000564515 s/step\n",
      "Meep progress: 1769.0/2090.0 = 84.6% done in 20.0s, 3.6s to go\n",
      "on time step 35386 (time=1769.3), 0.000573978 s/step\n",
      "run 0 finished at t = 2090.0 (41800 timesteps)\n",
      "[aaaaaaaaaaaaaaaaaaaaaaaaaaaaaaaaaaaaaaaaaaaaaaaaaaaaaaaaaaaaaaaaaaaaaaaaaaa] 75%-----------\n",
      "Initializing structure...\n",
      "time for choose_chunkdivision = 0.000196934 s\n",
      "Working in 2D dimensions.\n",
      "Computational cell is 16 x 8 x 0 with resolution 10\n",
      "     block, center = (0,0,0)\n",
      "          size (1e+20,1,0)\n",
      "          axes (1,0,0), (0,1,0), (0,0,1)\n",
      "          dielectric constant epsilon diagonal = (1,1,1)\n",
      "time for set_epsilon = 0.054317 s\n",
      "-----------\n"
     ]
    },
    {
     "data": {
      "application/vnd.jupyter.widget-view+json": {
       "model_id": "60a32c8184b34229b42bef87798278ce",
       "version_major": 2,
       "version_minor": 0
      },
      "text/plain": [
       "FloatProgress(value=0.0, description='0% done ', max=2090.0)"
      ]
     },
     "metadata": {},
     "output_type": "display_data"
    },
    {
     "name": "stdout",
     "output_type": "stream",
     "text": [
      "Meep progress: 353.5/2090.0 = 16.9% done in 4.0s, 19.7s to go\n",
      "on time step 7073 (time=353.65), 0.000565603 s/step\n",
      "Meep progress: 704.4000000000001/2090.0 = 33.7% done in 8.0s, 15.7s to go\n",
      "on time step 14091 (time=704.55), 0.000569981 s/step\n",
      "Meep progress: 1059.8/2090.0 = 50.7% done in 12.0s, 11.7s to go\n",
      "on time step 21200 (time=1060), 0.000562719 s/step\n",
      "Meep progress: 1415.25/2090.0 = 67.7% done in 16.0s, 7.6s to go\n",
      "on time step 28310 (time=1415.5), 0.000562671 s/step\n",
      "Meep progress: 1768.5500000000002/2090.0 = 84.6% done in 20.0s, 3.6s to go\n",
      "on time step 35378 (time=1768.9), 0.000566007 s/step\n",
      "run 0 finished at t = 2090.0 (41800 timesteps)\n",
      "[aaaaaaaaaaaaaaaaaaaaaaaaaaaaaaaaaaaaaaaaaaaaaaaaaaaaaaaaaaaaaaaaaaaaaaaaaaaaaaaa] 80%-----------\n",
      "Initializing structure...\n",
      "time for choose_chunkdivision = 0.000205994 s\n",
      "Working in 2D dimensions.\n",
      "Computational cell is 16 x 8 x 0 with resolution 10\n",
      "     block, center = (0,0,0)\n",
      "          size (1e+20,1,0)\n",
      "          axes (1,0,0), (0,1,0), (0,0,1)\n",
      "          dielectric constant epsilon diagonal = (1,1,1)\n",
      "time for set_epsilon = 0.0540471 s\n",
      "-----------\n"
     ]
    },
    {
     "data": {
      "application/vnd.jupyter.widget-view+json": {
       "model_id": "18949be9d128414b8c0fede7d2ab6af2",
       "version_major": 2,
       "version_minor": 0
      },
      "text/plain": [
       "FloatProgress(value=0.0, description='0% done ', max=2090.0)"
      ]
     },
     "metadata": {},
     "output_type": "display_data"
    },
    {
     "name": "stdout",
     "output_type": "stream",
     "text": [
      "Meep progress: 353.90000000000003/2090.0 = 16.9% done in 4.0s, 19.6s to go\n",
      "on time step 7080 (time=354), 0.000564975 s/step\n",
      "Meep progress: 700.4000000000001/2090.0 = 33.5% done in 8.0s, 15.9s to go\n",
      "on time step 14011 (time=700.55), 0.000577144 s/step\n",
      "Meep progress: 1049.95/2090.0 = 50.2% done in 12.0s, 11.9s to go\n",
      "on time step 21002 (time=1050.1), 0.000572171 s/step\n",
      "Meep progress: 1401.0/2090.0 = 67.0% done in 16.0s, 7.9s to go\n",
      "on time step 28024 (time=1401.2), 0.000569673 s/step\n",
      "Meep progress: 1750.45/2090.0 = 83.8% done in 20.0s, 3.9s to go\n",
      "on time step 35013 (time=1750.65), 0.000572357 s/step\n",
      "run 0 finished at t = 2090.0 (41800 timesteps)\n",
      "[aaaaaaaaaaaaaaaaaaaaaaaaaaaaaaaaaaaaaaaaaaaaaaaaaaaaaaaaaaaaaaaaaaaaaaaaaaaaaaaaaaaaa] 85%-----------\n",
      "Initializing structure...\n",
      "time for choose_chunkdivision = 0.000176907 s\n",
      "Working in 2D dimensions.\n",
      "Computational cell is 16 x 8 x 0 with resolution 10\n",
      "     block, center = (0,0,0)\n",
      "          size (1e+20,1,0)\n",
      "          axes (1,0,0), (0,1,0), (0,0,1)\n",
      "          dielectric constant epsilon diagonal = (1,1,1)\n",
      "time for set_epsilon = 0.054286 s\n",
      "-----------\n"
     ]
    },
    {
     "data": {
      "application/vnd.jupyter.widget-view+json": {
       "model_id": "f08266cb9d034ad891da016797a3de92",
       "version_major": 2,
       "version_minor": 0
      },
      "text/plain": [
       "FloatProgress(value=0.0, description='0% done ', max=2090.0)"
      ]
     },
     "metadata": {},
     "output_type": "display_data"
    },
    {
     "name": "stdout",
     "output_type": "stream",
     "text": [
      "Meep progress: 355.75/2090.0 = 17.0% done in 4.0s, 19.5s to go\n",
      "on time step 7118 (time=355.9), 0.00056203 s/step\n",
      "Meep progress: 705.5500000000001/2090.0 = 33.8% done in 8.0s, 15.7s to go\n",
      "on time step 14115 (time=705.75), 0.000571738 s/step\n",
      "Meep progress: 1057.2/2090.0 = 50.6% done in 12.0s, 11.7s to go\n",
      "on time step 21149 (time=1057.45), 0.000568669 s/step\n",
      "Meep progress: 1412.15/2090.0 = 67.6% done in 16.0s, 7.7s to go\n",
      "on time step 28248 (time=1412.4), 0.000563495 s/step\n",
      "Meep progress: 1770.5500000000002/2090.0 = 84.7% done in 20.0s, 3.6s to go\n",
      "on time step 35417 (time=1770.85), 0.000557965 s/step\n",
      "run 0 finished at t = 2090.0 (41800 timesteps)\n",
      "[aaaaaaaaaaaaaaaaaaaaaaaaaaaaaaaaaaaaaaaaaaaaaaaaaaaaaaaaaaaaaaaaaaaaaaaaaaaaaaaaaaaaaaaaaa] 90%-----------\n",
      "Initializing structure...\n",
      "time for choose_chunkdivision = 0.000209093 s\n",
      "Working in 2D dimensions.\n",
      "Computational cell is 16 x 8 x 0 with resolution 10\n",
      "     block, center = (0,0,0)\n",
      "          size (1e+20,1,0)\n",
      "          axes (1,0,0), (0,1,0), (0,0,1)\n",
      "          dielectric constant epsilon diagonal = (1,1,1)\n",
      "time for set_epsilon = 0.0542228 s\n",
      "-----------\n"
     ]
    },
    {
     "data": {
      "application/vnd.jupyter.widget-view+json": {
       "model_id": "a1673b1558074b0491092335c925373b",
       "version_major": 2,
       "version_minor": 0
      },
      "text/plain": [
       "FloatProgress(value=0.0, description='0% done ', max=2090.0)"
      ]
     },
     "metadata": {},
     "output_type": "display_data"
    },
    {
     "name": "stdout",
     "output_type": "stream",
     "text": [
      "Meep progress: 353.15000000000003/2090.0 = 16.9% done in 4.0s, 19.7s to go\n",
      "on time step 7066 (time=353.3), 0.00056611 s/step\n",
      "Meep progress: 707.2/2090.0 = 33.8% done in 8.0s, 15.6s to go\n",
      "on time step 14148 (time=707.4), 0.00056482 s/step\n",
      "Meep progress: 1060.6000000000001/2090.0 = 50.7% done in 12.0s, 11.6s to go\n",
      "on time step 21216 (time=1060.8), 0.000565946 s/step\n",
      "Meep progress: 1401.9/2090.0 = 67.1% done in 16.0s, 7.9s to go\n",
      "on time step 28043 (time=1402.15), 0.000585919 s/step\n",
      "Meep progress: 1757.8000000000002/2090.0 = 84.1% done in 20.0s, 3.8s to go\n",
      "on time step 35162 (time=1758.1), 0.000561915 s/step\n",
      "run 0 finished at t = 2090.0 (41800 timesteps)\n",
      "[aaaaaaaaaaaaaaaaaaaaaaaaaaaaaaaaaaaaaaaaaaaaaaaaaaaaaaaaaaaaaaaaaaaaaaaaaaaaaaaaaaaaaaaaaaaaaaa] 95%-----------\n",
      "Initializing structure...\n",
      "time for choose_chunkdivision = 0.00020504 s\n",
      "Working in 2D dimensions.\n",
      "Computational cell is 16 x 8 x 0 with resolution 10\n",
      "     block, center = (0,0,0)\n",
      "          size (1e+20,1,0)\n",
      "          axes (1,0,0), (0,1,0), (0,0,1)\n",
      "          dielectric constant epsilon diagonal = (1,1,1)\n",
      "time for set_epsilon = 0.054198 s\n",
      "-----------\n"
     ]
    },
    {
     "data": {
      "application/vnd.jupyter.widget-view+json": {
       "model_id": "f965910fa0854ea2987bd9c303e65e8b",
       "version_major": 2,
       "version_minor": 0
      },
      "text/plain": [
       "FloatProgress(value=0.0, description='0% done ', max=2090.0)"
      ]
     },
     "metadata": {},
     "output_type": "display_data"
    },
    {
     "name": "stdout",
     "output_type": "stream",
     "text": [
      "Meep progress: 349.55/2090.0 = 16.7% done in 4.0s, 19.9s to go\n",
      "on time step 6994 (time=349.7), 0.000571948 s/step\n",
      "Meep progress: 702.85/2090.0 = 33.6% done in 8.0s, 15.8s to go\n",
      "on time step 14061 (time=703.05), 0.000566038 s/step\n",
      "Meep progress: 1057.7/2090.0 = 50.6% done in 12.0s, 11.7s to go\n",
      "on time step 21159 (time=1057.95), 0.000563599 s/step\n",
      "Meep progress: 1409.3000000000002/2090.0 = 67.4% done in 16.0s, 7.7s to go\n",
      "on time step 28192 (time=1409.6), 0.000568782 s/step\n",
      "Meep progress: 1759.65/2090.0 = 84.2% done in 20.0s, 3.8s to go\n",
      "on time step 35199 (time=1759.95), 0.000570863 s/step\n",
      "run 0 finished at t = 2090.0 (41800 timesteps)\n"
     ]
    }
   ],
   "source": [
    "##########################################################複製區塊\n",
    "import matplotlib.pyplot as plt\n",
    "import time\n",
    "from scipy import signal\n",
    "from time import sleep\n",
    "import sys\n",
    "import meep as mp\n",
    "import numpy as np\n",
    "import random\n",
    "import multiprocessing as multi\n",
    "#setup some constants and parameters\n",
    "M=2**21\n",
    "tsim=7e-12\n",
    "eps0 = 8.854187e-12\n",
    "hbar = 1.05457182e-34\n",
    "c = 2.99792458e8\n",
    "kb = 1.380649e-23\n",
    "hdk=7.63823258e-12\n",
    "deltap = np.sqrt(1/3/eps0/hbar/c)*kb\n",
    "T=30000\n",
    "frq_min = 0\n",
    "frq_max = 100/2/np.pi\n",
    "nfreq = 1000\n",
    "fcen = (frq_min + frq_max)/2\n",
    "df = frq_max - frq_min\n",
    "#define square root of Dn function\n",
    "def Dnsqt(wla,T):\n",
    "    return np.sqrt(6*hdk**2*wla/(np.exp(hdk*wla/T)-1)/T**2/np.pi)\n",
    "\n",
    "#generate an array of the square root of Dn function\n",
    "Dsqt = []\n",
    "for n in range(1,M):\n",
    "    Dsqt.append(Dnsqt(2*np.pi*n/tsim,T))\n",
    "\n",
    "#define how many times to run to average the results\n",
    "Ncomp= 20\n",
    "nfreq =  1000\n",
    "#define the starting sum of the result\n",
    "Efsum = np.zeros(nfreq)\n",
    "Ens = np.zeros(2**22)\n",
    "resolution = 10\n",
    "dpml = 1.0\n",
    "cell = mp.Vector3(16,8,0)\n",
    "pml_layers = [mp.PML(dpml)]\n",
    "\n",
    "\n",
    "\n",
    "for i in range(Ncomp):\n",
    "    \n",
    "    def random_En(t):\n",
    "        #generate random numbers\n",
    "        M0 = np.random.normal(0,1)\n",
    "        Mlp = np.random.normal(0,1,M-1)\n",
    "        Nlp = np.random.normal(0,1,M-1)\n",
    "        MM = np.random.normal(0,1)\n",
    "    \n",
    "        #generate the array of the fourier transform of E field, we generate l=0 and l=-M separately. \n",
    "        #for l=1 to M-1 and l=-1 to -(M-1) are conjutated to each other. \n",
    "        #we contruct the whole array by gluing them together by the order from l=0 -> l=M-1 -> l=-M -> l=-(m-1) -> l=-1\n",
    "        Ef0 = np.array([M0*np.sqrt(6*hdk/np.pi/T)])\n",
    "        Eflp = np.multiply((Mlp + 1j*Nlp), Dsqt)\n",
    "        Eflm = np.flip(np.conjugate(Eflp))\n",
    "        EfM = np.array([MM*Dnsqt(2*np.pi*M/tsim,T)])\n",
    "        Ef = np.hstack((Ef0,Eflp,EfM,Eflm))\n",
    "    \n",
    "        #we normalize Ef and compute its inverse fast fourier transform\n",
    "        Efn = deltap*T/np.sqrt(tsim)*Ef\n",
    "        En = np.fft.ifft(Efn)*M\n",
    "        return En\n",
    "    En0 = random_En(1)\n",
    "    En1 = random_En(1)\n",
    "    #generate some feedback to check the progress of the loop\n",
    "    x = i/Ncomp*100\n",
    "    sys.stdout.write('\\r')\n",
    "    sys.stdout.write(\"[%-20s] %d%%\" % ('a'*int(x), int(x)))\n",
    "    sys.stdout.flush()\n",
    "    sleep(0.0001)\n",
    "    \n",
    "    \n",
    "    def source0(t):\n",
    "        f = int(t*2000)\n",
    "        return En0[f]\n",
    "    def source1(t):\n",
    "        f = int(t*2000)\n",
    "        return En1[f]\n",
    "    \n",
    "\n",
    "\n",
    "    sources = [mp.Source(mp.CustomSource(src_func=source0),\n",
    "                     component=mp.Ex,\n",
    "                     center=mp.Vector3(0,0,0),\n",
    "                     ),\n",
    "              mp.Source(mp.CustomSource(src_func=source1),\n",
    "                     component=mp.Ex,\n",
    "                     center=mp.Vector3(0,0,0),\n",
    "                     )]\n",
    "    \n",
    "    geometry = [mp.Block(mp.Vector3(mp.inf,1,0),\n",
    "                     center=mp.Vector3(),\n",
    "                     material=mp.Medium(epsilon=1))]\n",
    "    sim = mp.Simulation(cell_size=cell,\n",
    "                    boundary_layers=pml_layers,\n",
    "                    sources=sources,\n",
    "                    geometry=geometry,   \n",
    "                    #dimensions = 2,\n",
    "                    resolution=resolution)\n",
    "    \n",
    "    \n",
    "\n",
    "    # transmitted flux\n",
    "    tran_fr = mp.FluxRegion(center=mp.Vector3(0,0,0), size=mp.Vector3(2,0,0))\n",
    "    tran = sim.add_energy(fcen, df, nfreq, tran_fr)\n",
    "    \n",
    "    \n",
    "    sim.run(until=2090)\n",
    "\n",
    "    tran_flux = mp.get_magnetic_energy(tran)\n",
    "    Ts = []\n",
    "    for i in range(nfreq):\n",
    "        Ts = np.append(Ts,tran_flux[i])    \n",
    "    Efsum += Ts\n",
    "    \n",
    "    \n",
    "\n",
    "#average the final result\n",
    "Efavg = Efsum/Ncomp\n",
    "\n",
    "#save data to some file or reload file to write more data on it\n",
    "\n"
   ]
  },
  {
   "cell_type": "code",
   "execution_count": 6,
   "id": "4c86bcb2-1107-4333-b975-7c4b99c1565d",
   "metadata": {
    "tags": []
   },
   "outputs": [
    {
     "data": {
      "image/png": "[encoded data removed]",
      "text/plain": [
       "<Figure size 960x720 with 1 Axes>"
      ]
     },
     "metadata": {},
     "output_type": "display_data"
    }
   ],
   "source": [
    "plt.figure(dpi=150)\n",
    "freqs = np.linspace(0,30e15,1000)\n",
    "plt.plot(freqs,Efavg*tsim*eps0*4*np.pi*3/2**21,'g''.')\n",
    "#plt.xlim(4e15,20e15)\n",
    "plt.yscale(\"log\")\n",
    "#plt.ylim(0.1e-28,4000e-28)\n",
    "plt.grid()\n",
    "plt.savefig('10_7ps.png')\n",
    "plt.show()\n",
    "\n",
    "np.savez(\"10_7ps.npz\", Efavg_30000 = Efavg)"
   ]
  },
  {
   "cell_type": "code",
   "execution_count": null,
   "id": "a77db2be-31cd-4415-a478-731bb2a130fc",
   "metadata": {},
   "outputs": [],
   "source": []
  }
 ],
 "metadata": {
  "kernelspec": {
   "display_name": "Python 3 (ipykernel)",
   "language": "python",
   "name": "python3"
  },
  "language_info": {
   "codemirror_mode": {
    "name": "ipython",
    "version": 3
   },
   "file_extension": ".py",
   "mimetype": "text/x-python",
   "name": "python",
   "nbconvert_exporter": "python",
   "pygments_lexer": "ipython3",
   "version": "3.11.0"
  }
 },
 "nbformat": 4,
 "nbformat_minor": 5
}
