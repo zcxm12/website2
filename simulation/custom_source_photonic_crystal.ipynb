{
 "cells": [
  {
   "cell_type": "code",
   "execution_count": 42,
   "id": "ee258adc-ca4d-464f-a538-45265d1ac7b5",
   "metadata": {
    "tags": []
   },
   "outputs": [
    {
     "name": "stdout",
     "output_type": "stream",
     "text": [
      "[                    ] 0%-----------\n",
      "Initializing structure...\n",
      "time for choose_chunkdivision = 5.10216e-05 s\n",
      "Working in 1D dimensions.\n",
      "Computational cell is 0 x 0 x 6.4 with resolution 10\n",
      "     block, center = (0,0,-1.7)\n",
      "          size (1e+20,1e+20,1)\n",
      "          axes (1,0,0), (0,1,0), (0,0,1)\n",
      "          dielectric constant epsilon diagonal = (1,1,1)\n",
      "     block, center = (0,0,0)\n",
      "          size (1e+20,1e+20,2.4)\n",
      "          axes (1,0,0), (0,1,0), (0,0,1)\n",
      "          dielectric constant epsilon diagonal = (36,36,36)\n",
      "     block, center = (0,0,1.7)\n",
      "          size (1e+20,1e+20,1)\n",
      "          axes (1,0,0), (0,1,0), (0,0,1)\n",
      "          dielectric constant epsilon diagonal = (1,1,1)\n",
      "time for set_epsilon = 0.000105858 s\n",
      "-----------\n"
     ]
    },
    {
     "data": {
      "application/vnd.jupyter.widget-view+json": {
       "model_id": "6bb20f3584e84352bb09d4b61f8ea526",
       "version_major": 2,
       "version_minor": 0
      },
      "text/plain": [
       "FloatProgress(value=0.0, description='0% done ', max=2100.0)"
      ]
     },
     "metadata": {},
     "output_type": "display_data"
    },
    {
     "name": "stdout",
     "output_type": "stream",
     "text": [
      "run 0 finished at t = 2100.0 (21000 timesteps)\n",
      "[😁😁😁😁😁               ] 5%-----------\n",
      "Initializing structure...\n",
      "time for choose_chunkdivision = 6.69956e-05 s\n",
      "Working in 1D dimensions.\n",
      "Computational cell is 0 x 0 x 6.4 with resolution 10\n",
      "     block, center = (0,0,-1.7)\n",
      "          size (1e+20,1e+20,1)\n",
      "          axes (1,0,0), (0,1,0), (0,0,1)\n",
      "          dielectric constant epsilon diagonal = (1,1,1)\n",
      "     block, center = (0,0,0)\n",
      "          size (1e+20,1e+20,2.4)\n",
      "          axes (1,0,0), (0,1,0), (0,0,1)\n",
      "          dielectric constant epsilon diagonal = (36,36,36)\n",
      "     block, center = (0,0,1.7)\n",
      "          size (1e+20,1e+20,1)\n",
      "          axes (1,0,0), (0,1,0), (0,0,1)\n",
      "          dielectric constant epsilon diagonal = (1,1,1)\n",
      "time for set_epsilon = 0.000116825 s\n",
      "-----------\n"
     ]
    },
    {
     "data": {
      "application/vnd.jupyter.widget-view+json": {
       "model_id": "7aaa6680f171417499889393cf9f9f37",
       "version_major": 2,
       "version_minor": 0
      },
      "text/plain": [
       "FloatProgress(value=0.0, description='0% done ', max=2100.0)"
      ]
     },
     "metadata": {},
     "output_type": "display_data"
    },
    {
     "name": "stdout",
     "output_type": "stream",
     "text": [
      "run 0 finished at t = 2100.0 (21000 timesteps)\n",
      "[😁😁😁😁😁😁😁😁😁😁          ] 10%-----------\n",
      "Initializing structure...\n",
      "time for choose_chunkdivision = 5.29289e-05 s\n",
      "Working in 1D dimensions.\n",
      "Computational cell is 0 x 0 x 6.4 with resolution 10\n",
      "     block, center = (0,0,-1.7)\n",
      "          size (1e+20,1e+20,1)\n",
      "          axes (1,0,0), (0,1,0), (0,0,1)\n",
      "          dielectric constant epsilon diagonal = (1,1,1)\n",
      "     block, center = (0,0,0)\n",
      "          size (1e+20,1e+20,2.4)\n",
      "          axes (1,0,0), (0,1,0), (0,0,1)\n",
      "          dielectric constant epsilon diagonal = (36,36,36)\n",
      "     block, center = (0,0,1.7)\n",
      "          size (1e+20,1e+20,1)\n",
      "          axes (1,0,0), (0,1,0), (0,0,1)\n",
      "          dielectric constant epsilon diagonal = (1,1,1)\n",
      "time for set_epsilon = 0.000108004 s\n",
      "-----------\n"
     ]
    },
    {
     "data": {
      "application/vnd.jupyter.widget-view+json": {
       "model_id": "c2f5e1a0e30249feaf99a6bf15a07bc3",
       "version_major": 2,
       "version_minor": 0
      },
      "text/plain": [
       "FloatProgress(value=0.0, description='0% done ', max=2100.0)"
      ]
     },
     "metadata": {},
     "output_type": "display_data"
    },
    {
     "name": "stdout",
     "output_type": "stream",
     "text": [
      "run 0 finished at t = 2100.0 (21000 timesteps)\n",
      "[😁😁😁😁😁😁😁😁😁😁😁😁😁😁😁     ] 15%-----------\n",
      "Initializing structure...\n",
      "time for choose_chunkdivision = 4.79221e-05 s\n",
      "Working in 1D dimensions.\n",
      "Computational cell is 0 x 0 x 6.4 with resolution 10\n",
      "     block, center = (0,0,-1.7)\n",
      "          size (1e+20,1e+20,1)\n",
      "          axes (1,0,0), (0,1,0), (0,0,1)\n",
      "          dielectric constant epsilon diagonal = (1,1,1)\n",
      "     block, center = (0,0,0)\n",
      "          size (1e+20,1e+20,2.4)\n",
      "          axes (1,0,0), (0,1,0), (0,0,1)\n",
      "          dielectric constant epsilon diagonal = (36,36,36)\n",
      "     block, center = (0,0,1.7)\n",
      "          size (1e+20,1e+20,1)\n",
      "          axes (1,0,0), (0,1,0), (0,0,1)\n",
      "          dielectric constant epsilon diagonal = (1,1,1)\n",
      "time for set_epsilon = 0.000187874 s\n",
      "-----------\n"
     ]
    },
    {
     "data": {
      "application/vnd.jupyter.widget-view+json": {
       "model_id": "6914f04a941145408033d312ffb68687",
       "version_major": 2,
       "version_minor": 0
      },
      "text/plain": [
       "FloatProgress(value=0.0, description='0% done ', max=2100.0)"
      ]
     },
     "metadata": {},
     "output_type": "display_data"
    },
    {
     "name": "stdout",
     "output_type": "stream",
     "text": [
      "run 0 finished at t = 2100.0 (21000 timesteps)\n",
      "[😁😁😁😁😁😁😁😁😁😁😁😁😁😁😁😁😁😁😁😁] 20%-----------\n",
      "Initializing structure...\n",
      "time for choose_chunkdivision = 5.60284e-05 s\n",
      "Working in 1D dimensions.\n",
      "Computational cell is 0 x 0 x 6.4 with resolution 10\n",
      "     block, center = (0,0,-1.7)\n",
      "          size (1e+20,1e+20,1)\n",
      "          axes (1,0,0), (0,1,0), (0,0,1)\n",
      "          dielectric constant epsilon diagonal = (1,1,1)\n",
      "     block, center = (0,0,0)\n",
      "          size (1e+20,1e+20,2.4)\n",
      "          axes (1,0,0), (0,1,0), (0,0,1)\n",
      "          dielectric constant epsilon diagonal = (36,36,36)\n",
      "     block, center = (0,0,1.7)\n",
      "          size (1e+20,1e+20,1)\n",
      "          axes (1,0,0), (0,1,0), (0,0,1)\n",
      "          dielectric constant epsilon diagonal = (1,1,1)\n",
      "time for set_epsilon = 0.00018692 s\n",
      "-----------\n"
     ]
    },
    {
     "data": {
      "application/vnd.jupyter.widget-view+json": {
       "model_id": "1cb2324fe98b4c3ab16d8fbb6b8fe0ed",
       "version_major": 2,
       "version_minor": 0
      },
      "text/plain": [
       "FloatProgress(value=0.0, description='0% done ', max=2100.0)"
      ]
     },
     "metadata": {},
     "output_type": "display_data"
    },
    {
     "name": "stdout",
     "output_type": "stream",
     "text": [
      "run 0 finished at t = 2100.0 (21000 timesteps)\n",
      "[😁😁😁😁😁😁😁😁😁😁😁😁😁😁😁😁😁😁😁😁😁😁😁😁😁] 25%-----------\n",
      "Initializing structure...\n",
      "time for choose_chunkdivision = 5.29289e-05 s\n",
      "Working in 1D dimensions.\n",
      "Computational cell is 0 x 0 x 6.4 with resolution 10\n",
      "     block, center = (0,0,-1.7)\n",
      "          size (1e+20,1e+20,1)\n",
      "          axes (1,0,0), (0,1,0), (0,0,1)\n",
      "          dielectric constant epsilon diagonal = (1,1,1)\n",
      "     block, center = (0,0,0)\n",
      "          size (1e+20,1e+20,2.4)\n",
      "          axes (1,0,0), (0,1,0), (0,0,1)\n",
      "          dielectric constant epsilon diagonal = (36,36,36)\n",
      "     block, center = (0,0,1.7)\n",
      "          size (1e+20,1e+20,1)\n",
      "          axes (1,0,0), (0,1,0), (0,0,1)\n",
      "          dielectric constant epsilon diagonal = (1,1,1)\n",
      "time for set_epsilon = 0.000108957 s\n",
      "-----------\n"
     ]
    },
    {
     "data": {
      "application/vnd.jupyter.widget-view+json": {
       "model_id": "39d806927a3249bc9833a346ee6aa7be",
       "version_major": 2,
       "version_minor": 0
      },
      "text/plain": [
       "FloatProgress(value=0.0, description='0% done ', max=2100.0)"
      ]
     },
     "metadata": {},
     "output_type": "display_data"
    },
    {
     "name": "stdout",
     "output_type": "stream",
     "text": [
      "run 0 finished at t = 2100.0 (21000 timesteps)\n",
      "[😁😁😁😁😁😁😁😁😁😁😁😁😁😁😁😁😁😁😁😁😁😁😁😁😁😁😁😁😁😁] 30%-----------\n",
      "Initializing structure...\n",
      "time for choose_chunkdivision = 4.91142e-05 s\n",
      "Working in 1D dimensions.\n",
      "Computational cell is 0 x 0 x 6.4 with resolution 10\n",
      "     block, center = (0,0,-1.7)\n",
      "          size (1e+20,1e+20,1)\n",
      "          axes (1,0,0), (0,1,0), (0,0,1)\n",
      "          dielectric constant epsilon diagonal = (1,1,1)\n",
      "     block, center = (0,0,0)\n",
      "          size (1e+20,1e+20,2.4)\n",
      "          axes (1,0,0), (0,1,0), (0,0,1)\n",
      "          dielectric constant epsilon diagonal = (36,36,36)\n",
      "     block, center = (0,0,1.7)\n",
      "          size (1e+20,1e+20,1)\n",
      "          axes (1,0,0), (0,1,0), (0,0,1)\n",
      "          dielectric constant epsilon diagonal = (1,1,1)\n",
      "time for set_epsilon = 0.000108957 s\n",
      "-----------\n"
     ]
    },
    {
     "data": {
      "application/vnd.jupyter.widget-view+json": {
       "model_id": "ade7786bf36145c3bcfd5e7bd53419d3",
       "version_major": 2,
       "version_minor": 0
      },
      "text/plain": [
       "FloatProgress(value=0.0, description='0% done ', max=2100.0)"
      ]
     },
     "metadata": {},
     "output_type": "display_data"
    },
    {
     "name": "stdout",
     "output_type": "stream",
     "text": [
      "run 0 finished at t = 2100.0 (21000 timesteps)\n",
      "[😁😁😁😁😁😁😁😁😁😁😁😁😁😁😁😁😁😁😁😁😁😁😁😁😁😁😁😁😁😁😁😁😁😁😁] 35%-----------\n",
      "Initializing structure...\n",
      "time for choose_chunkdivision = 4.79221e-05 s\n",
      "Working in 1D dimensions.\n",
      "Computational cell is 0 x 0 x 6.4 with resolution 10\n",
      "     block, center = (0,0,-1.7)\n",
      "          size (1e+20,1e+20,1)\n",
      "          axes (1,0,0), (0,1,0), (0,0,1)\n",
      "          dielectric constant epsilon diagonal = (1,1,1)\n",
      "     block, center = (0,0,0)\n",
      "          size (1e+20,1e+20,2.4)\n",
      "          axes (1,0,0), (0,1,0), (0,0,1)\n",
      "          dielectric constant epsilon diagonal = (36,36,36)\n",
      "     block, center = (0,0,1.7)\n",
      "          size (1e+20,1e+20,1)\n",
      "          axes (1,0,0), (0,1,0), (0,0,1)\n",
      "          dielectric constant epsilon diagonal = (1,1,1)\n",
      "time for set_epsilon = 0.000106096 s\n",
      "-----------\n"
     ]
    },
    {
     "data": {
      "application/vnd.jupyter.widget-view+json": {
       "model_id": "6b8fc851ab734aeaa345064468462363",
       "version_major": 2,
       "version_minor": 0
      },
      "text/plain": [
       "FloatProgress(value=0.0, description='0% done ', max=2100.0)"
      ]
     },
     "metadata": {},
     "output_type": "display_data"
    },
    {
     "name": "stdout",
     "output_type": "stream",
     "text": [
      "run 0 finished at t = 2100.0 (21000 timesteps)\n",
      "[😁😁😁😁😁😁😁😁😁😁😁😁😁😁😁😁😁😁😁😁😁😁😁😁😁😁😁😁😁😁😁😁😁😁😁😁😁😁😁😁] 40%-----------\n",
      "Initializing structure...\n",
      "time for choose_chunkdivision = 5.10216e-05 s\n",
      "Working in 1D dimensions.\n",
      "Computational cell is 0 x 0 x 6.4 with resolution 10\n",
      "     block, center = (0,0,-1.7)\n",
      "          size (1e+20,1e+20,1)\n",
      "          axes (1,0,0), (0,1,0), (0,0,1)\n",
      "          dielectric constant epsilon diagonal = (1,1,1)\n",
      "     block, center = (0,0,0)\n",
      "          size (1e+20,1e+20,2.4)\n",
      "          axes (1,0,0), (0,1,0), (0,0,1)\n",
      "          dielectric constant epsilon diagonal = (36,36,36)\n",
      "     block, center = (0,0,1.7)\n",
      "          size (1e+20,1e+20,1)\n",
      "          axes (1,0,0), (0,1,0), (0,0,1)\n",
      "          dielectric constant epsilon diagonal = (1,1,1)\n",
      "time for set_epsilon = 0.000105143 s\n",
      "-----------\n"
     ]
    },
    {
     "data": {
      "application/vnd.jupyter.widget-view+json": {
       "model_id": "677e981f17c0404f831789d49ceb6b9f",
       "version_major": 2,
       "version_minor": 0
      },
      "text/plain": [
       "FloatProgress(value=0.0, description='0% done ', max=2100.0)"
      ]
     },
     "metadata": {},
     "output_type": "display_data"
    },
    {
     "name": "stdout",
     "output_type": "stream",
     "text": [
      "run 0 finished at t = 2100.0 (21000 timesteps)\n",
      "[😁😁😁😁😁😁😁😁😁😁😁😁😁😁😁😁😁😁😁😁😁😁😁😁😁😁😁😁😁😁😁😁😁😁😁😁😁😁😁😁😁😁😁😁😁] 45%-----------\n",
      "Initializing structure...\n",
      "time for choose_chunkdivision = 5.19753e-05 s\n",
      "Working in 1D dimensions.\n",
      "Computational cell is 0 x 0 x 6.4 with resolution 10\n",
      "     block, center = (0,0,-1.7)\n",
      "          size (1e+20,1e+20,1)\n",
      "          axes (1,0,0), (0,1,0), (0,0,1)\n",
      "          dielectric constant epsilon diagonal = (1,1,1)\n",
      "     block, center = (0,0,0)\n",
      "          size (1e+20,1e+20,2.4)\n",
      "          axes (1,0,0), (0,1,0), (0,0,1)\n",
      "          dielectric constant epsilon diagonal = (36,36,36)\n",
      "     block, center = (0,0,1.7)\n",
      "          size (1e+20,1e+20,1)\n",
      "          axes (1,0,0), (0,1,0), (0,0,1)\n",
      "          dielectric constant epsilon diagonal = (1,1,1)\n",
      "time for set_epsilon = 0.000106812 s\n",
      "-----------\n"
     ]
    },
    {
     "data": {
      "application/vnd.jupyter.widget-view+json": {
       "model_id": "9cfb131609c3483594f8cbfad27104fd",
       "version_major": 2,
       "version_minor": 0
      },
      "text/plain": [
       "FloatProgress(value=0.0, description='0% done ', max=2100.0)"
      ]
     },
     "metadata": {},
     "output_type": "display_data"
    },
    {
     "name": "stdout",
     "output_type": "stream",
     "text": [
      "run 0 finished at t = 2100.0 (21000 timesteps)\n",
      "[😁😁😁😁😁😁😁😁😁😁😁😁😁😁😁😁😁😁😁😁😁😁😁😁😁😁😁😁😁😁😁😁😁😁😁😁😁😁😁😁😁😁😁😁😁😁😁😁😁😁] 50%-----------\n",
      "Initializing structure...\n",
      "time for choose_chunkdivision = 5.38826e-05 s\n",
      "Working in 1D dimensions.\n",
      "Computational cell is 0 x 0 x 6.4 with resolution 10\n",
      "     block, center = (0,0,-1.7)\n",
      "          size (1e+20,1e+20,1)\n",
      "          axes (1,0,0), (0,1,0), (0,0,1)\n",
      "          dielectric constant epsilon diagonal = (1,1,1)\n",
      "     block, center = (0,0,0)\n",
      "          size (1e+20,1e+20,2.4)\n",
      "          axes (1,0,0), (0,1,0), (0,0,1)\n",
      "          dielectric constant epsilon diagonal = (36,36,36)\n",
      "     block, center = (0,0,1.7)\n",
      "          size (1e+20,1e+20,1)\n",
      "          axes (1,0,0), (0,1,0), (0,0,1)\n",
      "          dielectric constant epsilon diagonal = (1,1,1)\n",
      "time for set_epsilon = 0.000108957 s\n",
      "-----------\n"
     ]
    },
    {
     "data": {
      "application/vnd.jupyter.widget-view+json": {
       "model_id": "99a92da2a1e94ff68f7e6511cc6f70c1",
       "version_major": 2,
       "version_minor": 0
      },
      "text/plain": [
       "FloatProgress(value=0.0, description='0% done ', max=2100.0)"
      ]
     },
     "metadata": {},
     "output_type": "display_data"
    },
    {
     "name": "stdout",
     "output_type": "stream",
     "text": [
      "run 0 finished at t = 2100.0 (21000 timesteps)\n",
      "[😁😁😁😁😁😁😁😁😁😁😁😁😁😁😁😁😁😁😁😁😁😁😁😁😁😁😁😁😁😁😁😁😁😁😁😁😁😁😁😁😁😁😁😁😁😁😁😁😁😁😁😁😁😁😁] 55%-----------\n",
      "Initializing structure...\n",
      "time for choose_chunkdivision = 5.31673e-05 s\n",
      "Working in 1D dimensions.\n",
      "Computational cell is 0 x 0 x 6.4 with resolution 10\n",
      "     block, center = (0,0,-1.7)\n",
      "          size (1e+20,1e+20,1)\n",
      "          axes (1,0,0), (0,1,0), (0,0,1)\n",
      "          dielectric constant epsilon diagonal = (1,1,1)\n",
      "     block, center = (0,0,0)\n",
      "          size (1e+20,1e+20,2.4)\n",
      "          axes (1,0,0), (0,1,0), (0,0,1)\n",
      "          dielectric constant epsilon diagonal = (36,36,36)\n",
      "     block, center = (0,0,1.7)\n",
      "          size (1e+20,1e+20,1)\n",
      "          axes (1,0,0), (0,1,0), (0,0,1)\n",
      "          dielectric constant epsilon diagonal = (1,1,1)\n",
      "time for set_epsilon = 0.000207901 s\n",
      "-----------\n"
     ]
    },
    {
     "data": {
      "application/vnd.jupyter.widget-view+json": {
       "model_id": "2d6b920d716642d1924670bbc42c26a3",
       "version_major": 2,
       "version_minor": 0
      },
      "text/plain": [
       "FloatProgress(value=0.0, description='0% done ', max=2100.0)"
      ]
     },
     "metadata": {},
     "output_type": "display_data"
    },
    {
     "name": "stdout",
     "output_type": "stream",
     "text": [
      "run 0 finished at t = 2100.0 (21000 timesteps)\n",
      "[😁😁😁😁😁😁😁😁😁😁😁😁😁😁😁😁😁😁😁😁😁😁😁😁😁😁😁😁😁😁😁😁😁😁😁😁😁😁😁😁😁😁😁😁😁😁😁😁😁😁😁😁😁😁😁😁😁😁😁😁] 60%-----------\n",
      "Initializing structure...\n",
      "time for choose_chunkdivision = 5.31673e-05 s\n",
      "Working in 1D dimensions.\n",
      "Computational cell is 0 x 0 x 6.4 with resolution 10\n",
      "     block, center = (0,0,-1.7)\n",
      "          size (1e+20,1e+20,1)\n",
      "          axes (1,0,0), (0,1,0), (0,0,1)\n",
      "          dielectric constant epsilon diagonal = (1,1,1)\n",
      "     block, center = (0,0,0)\n",
      "          size (1e+20,1e+20,2.4)\n",
      "          axes (1,0,0), (0,1,0), (0,0,1)\n",
      "          dielectric constant epsilon diagonal = (36,36,36)\n",
      "     block, center = (0,0,1.7)\n",
      "          size (1e+20,1e+20,1)\n",
      "          axes (1,0,0), (0,1,0), (0,0,1)\n",
      "          dielectric constant epsilon diagonal = (1,1,1)\n",
      "time for set_epsilon = 0.00010705 s\n",
      "-----------\n"
     ]
    },
    {
     "data": {
      "application/vnd.jupyter.widget-view+json": {
       "model_id": "aef63cc905f0445c8043b3d479f88dd9",
       "version_major": 2,
       "version_minor": 0
      },
      "text/plain": [
       "FloatProgress(value=0.0, description='0% done ', max=2100.0)"
      ]
     },
     "metadata": {},
     "output_type": "display_data"
    },
    {
     "name": "stdout",
     "output_type": "stream",
     "text": [
      "run 0 finished at t = 2100.0 (21000 timesteps)\n",
      "[😁😁😁😁😁😁😁😁😁😁😁😁😁😁😁😁😁😁😁😁😁😁😁😁😁😁😁😁😁😁😁😁😁😁😁😁😁😁😁😁😁😁😁😁😁😁😁😁😁😁😁😁😁😁😁😁😁😁😁😁😁😁😁😁😁] 65%-----------\n",
      "Initializing structure...\n",
      "time for choose_chunkdivision = 4.79221e-05 s\n",
      "Working in 1D dimensions.\n",
      "Computational cell is 0 x 0 x 6.4 with resolution 10\n",
      "     block, center = (0,0,-1.7)\n",
      "          size (1e+20,1e+20,1)\n",
      "          axes (1,0,0), (0,1,0), (0,0,1)\n",
      "          dielectric constant epsilon diagonal = (1,1,1)\n",
      "     block, center = (0,0,0)\n",
      "          size (1e+20,1e+20,2.4)\n",
      "          axes (1,0,0), (0,1,0), (0,0,1)\n",
      "          dielectric constant epsilon diagonal = (36,36,36)\n",
      "     block, center = (0,0,1.7)\n",
      "          size (1e+20,1e+20,1)\n",
      "          axes (1,0,0), (0,1,0), (0,0,1)\n",
      "          dielectric constant epsilon diagonal = (1,1,1)\n",
      "time for set_epsilon = 0.000117064 s\n",
      "-----------\n"
     ]
    },
    {
     "data": {
      "application/vnd.jupyter.widget-view+json": {
       "model_id": "6b9d10abda614bafac83a4d1c277c0ec",
       "version_major": 2,
       "version_minor": 0
      },
      "text/plain": [
       "FloatProgress(value=0.0, description='0% done ', max=2100.0)"
      ]
     },
     "metadata": {},
     "output_type": "display_data"
    },
    {
     "name": "stdout",
     "output_type": "stream",
     "text": [
      "run 0 finished at t = 2100.0 (21000 timesteps)\n",
      "[😁😁😁😁😁😁😁😁😁😁😁😁😁😁😁😁😁😁😁😁😁😁😁😁😁😁😁😁😁😁😁😁😁😁😁😁😁😁😁😁😁😁😁😁😁😁😁😁😁😁😁😁😁😁😁😁😁😁😁😁😁😁😁😁😁😁😁😁😁😁] 70%-----------\n",
      "Initializing structure...\n",
      "time for choose_chunkdivision = 5.50747e-05 s\n",
      "Working in 1D dimensions.\n",
      "Computational cell is 0 x 0 x 6.4 with resolution 10\n",
      "     block, center = (0,0,-1.7)\n",
      "          size (1e+20,1e+20,1)\n",
      "          axes (1,0,0), (0,1,0), (0,0,1)\n",
      "          dielectric constant epsilon diagonal = (1,1,1)\n",
      "     block, center = (0,0,0)\n",
      "          size (1e+20,1e+20,2.4)\n",
      "          axes (1,0,0), (0,1,0), (0,0,1)\n",
      "          dielectric constant epsilon diagonal = (36,36,36)\n",
      "     block, center = (0,0,1.7)\n",
      "          size (1e+20,1e+20,1)\n",
      "          axes (1,0,0), (0,1,0), (0,0,1)\n",
      "          dielectric constant epsilon diagonal = (1,1,1)\n",
      "time for set_epsilon = 0.000118017 s\n",
      "-----------\n"
     ]
    },
    {
     "data": {
      "application/vnd.jupyter.widget-view+json": {
       "model_id": "fed7a9f58abc49ee886c3ca1985b1048",
       "version_major": 2,
       "version_minor": 0
      },
      "text/plain": [
       "FloatProgress(value=0.0, description='0% done ', max=2100.0)"
      ]
     },
     "metadata": {},
     "output_type": "display_data"
    },
    {
     "name": "stdout",
     "output_type": "stream",
     "text": [
      "run 0 finished at t = 2100.0 (21000 timesteps)\n",
      "[😁😁😁😁😁😁😁😁😁😁😁😁😁😁😁😁😁😁😁😁😁😁😁😁😁😁😁😁😁😁😁😁😁😁😁😁😁😁😁😁😁😁😁😁😁😁😁😁😁😁😁😁😁😁😁😁😁😁😁😁😁😁😁😁😁😁😁😁😁😁😁😁😁😁😁] 75%-----------\n",
      "Initializing structure...\n",
      "time for choose_chunkdivision = 5.38826e-05 s\n",
      "Working in 1D dimensions.\n",
      "Computational cell is 0 x 0 x 6.4 with resolution 10\n",
      "     block, center = (0,0,-1.7)\n",
      "          size (1e+20,1e+20,1)\n",
      "          axes (1,0,0), (0,1,0), (0,0,1)\n",
      "          dielectric constant epsilon diagonal = (1,1,1)\n",
      "     block, center = (0,0,0)\n",
      "          size (1e+20,1e+20,2.4)\n",
      "          axes (1,0,0), (0,1,0), (0,0,1)\n",
      "          dielectric constant epsilon diagonal = (36,36,36)\n",
      "     block, center = (0,0,1.7)\n",
      "          size (1e+20,1e+20,1)\n",
      "          axes (1,0,0), (0,1,0), (0,0,1)\n",
      "          dielectric constant epsilon diagonal = (1,1,1)\n",
      "time for set_epsilon = 0.000204802 s\n",
      "-----------\n"
     ]
    },
    {
     "data": {
      "application/vnd.jupyter.widget-view+json": {
       "model_id": "a841974e1da64d8fa589271609a8d372",
       "version_major": 2,
       "version_minor": 0
      },
      "text/plain": [
       "FloatProgress(value=0.0, description='0% done ', max=2100.0)"
      ]
     },
     "metadata": {},
     "output_type": "display_data"
    },
    {
     "name": "stdout",
     "output_type": "stream",
     "text": [
      "run 0 finished at t = 2100.0 (21000 timesteps)\n",
      "[😁😁😁😁😁😁😁😁😁😁😁😁😁😁😁😁😁😁😁😁😁😁😁😁😁😁😁😁😁😁😁😁😁😁😁😁😁😁😁😁😁😁😁😁😁😁😁😁😁😁😁😁😁😁😁😁😁😁😁😁😁😁😁😁😁😁😁😁😁😁😁😁😁😁😁😁😁😁😁😁] 80%-----------\n",
      "Initializing structure...\n",
      "time for choose_chunkdivision = 5.10216e-05 s\n",
      "Working in 1D dimensions.\n",
      "Computational cell is 0 x 0 x 6.4 with resolution 10\n",
      "     block, center = (0,0,-1.7)\n",
      "          size (1e+20,1e+20,1)\n",
      "          axes (1,0,0), (0,1,0), (0,0,1)\n",
      "          dielectric constant epsilon diagonal = (1,1,1)\n",
      "     block, center = (0,0,0)\n",
      "          size (1e+20,1e+20,2.4)\n",
      "          axes (1,0,0), (0,1,0), (0,0,1)\n",
      "          dielectric constant epsilon diagonal = (36,36,36)\n",
      "     block, center = (0,0,1.7)\n",
      "          size (1e+20,1e+20,1)\n",
      "          axes (1,0,0), (0,1,0), (0,0,1)\n",
      "          dielectric constant epsilon diagonal = (1,1,1)\n",
      "time for set_epsilon = 0.000114202 s\n",
      "-----------\n"
     ]
    },
    {
     "data": {
      "application/vnd.jupyter.widget-view+json": {
       "model_id": "498e73ed58be42c182f4865d8ffd8316",
       "version_major": 2,
       "version_minor": 0
      },
      "text/plain": [
       "FloatProgress(value=0.0, description='0% done ', max=2100.0)"
      ]
     },
     "metadata": {},
     "output_type": "display_data"
    },
    {
     "name": "stdout",
     "output_type": "stream",
     "text": [
      "run 0 finished at t = 2100.0 (21000 timesteps)\n",
      "[😁😁😁😁😁😁😁😁😁😁😁😁😁😁😁😁😁😁😁😁😁😁😁😁😁😁😁😁😁😁😁😁😁😁😁😁😁😁😁😁😁😁😁😁😁😁😁😁😁😁😁😁😁😁😁😁😁😁😁😁😁😁😁😁😁😁😁😁😁😁😁😁😁😁😁😁😁😁😁😁😁😁😁😁😁] 85%-----------\n",
      "Initializing structure...\n",
      "time for choose_chunkdivision = 5.10216e-05 s\n",
      "Working in 1D dimensions.\n",
      "Computational cell is 0 x 0 x 6.4 with resolution 10\n",
      "     block, center = (0,0,-1.7)\n",
      "          size (1e+20,1e+20,1)\n",
      "          axes (1,0,0), (0,1,0), (0,0,1)\n",
      "          dielectric constant epsilon diagonal = (1,1,1)\n",
      "     block, center = (0,0,0)\n",
      "          size (1e+20,1e+20,2.4)\n",
      "          axes (1,0,0), (0,1,0), (0,0,1)\n",
      "          dielectric constant epsilon diagonal = (36,36,36)\n",
      "     block, center = (0,0,1.7)\n",
      "          size (1e+20,1e+20,1)\n",
      "          axes (1,0,0), (0,1,0), (0,0,1)\n",
      "          dielectric constant epsilon diagonal = (1,1,1)\n",
      "time for set_epsilon = 0.000200033 s\n",
      "-----------\n"
     ]
    },
    {
     "data": {
      "application/vnd.jupyter.widget-view+json": {
       "model_id": "246802be47fa43749bd91a97fac18455",
       "version_major": 2,
       "version_minor": 0
      },
      "text/plain": [
       "FloatProgress(value=0.0, description='0% done ', max=2100.0)"
      ]
     },
     "metadata": {},
     "output_type": "display_data"
    },
    {
     "name": "stdout",
     "output_type": "stream",
     "text": [
      "run 0 finished at t = 2100.0 (21000 timesteps)\n",
      "[😁😁😁😁😁😁😁😁😁😁😁😁😁😁😁😁😁😁😁😁😁😁😁😁😁😁😁😁😁😁😁😁😁😁😁😁😁😁😁😁😁😁😁😁😁😁😁😁😁😁😁😁😁😁😁😁😁😁😁😁😁😁😁😁😁😁😁😁😁😁😁😁😁😁😁😁😁😁😁😁😁😁😁😁😁😁😁😁😁😁] 90%-----------\n",
      "Initializing structure...\n",
      "time for choose_chunkdivision = 5.10216e-05 s\n",
      "Working in 1D dimensions.\n",
      "Computational cell is 0 x 0 x 6.4 with resolution 10\n",
      "     block, center = (0,0,-1.7)\n",
      "          size (1e+20,1e+20,1)\n",
      "          axes (1,0,0), (0,1,0), (0,0,1)\n",
      "          dielectric constant epsilon diagonal = (1,1,1)\n",
      "     block, center = (0,0,0)\n",
      "          size (1e+20,1e+20,2.4)\n",
      "          axes (1,0,0), (0,1,0), (0,0,1)\n",
      "          dielectric constant epsilon diagonal = (36,36,36)\n",
      "     block, center = (0,0,1.7)\n",
      "          size (1e+20,1e+20,1)\n",
      "          axes (1,0,0), (0,1,0), (0,0,1)\n",
      "          dielectric constant epsilon diagonal = (1,1,1)\n",
      "time for set_epsilon = 0.00012207 s\n",
      "-----------\n"
     ]
    },
    {
     "data": {
      "application/vnd.jupyter.widget-view+json": {
       "model_id": "c1759e33b5bd40c6b5b16ab88f878566",
       "version_major": 2,
       "version_minor": 0
      },
      "text/plain": [
       "FloatProgress(value=0.0, description='0% done ', max=2100.0)"
      ]
     },
     "metadata": {},
     "output_type": "display_data"
    },
    {
     "name": "stdout",
     "output_type": "stream",
     "text": [
      "run 0 finished at t = 2100.0 (21000 timesteps)\n",
      "[😁😁😁😁😁😁😁😁😁😁😁😁😁😁😁😁😁😁😁😁😁😁😁😁😁😁😁😁😁😁😁😁😁😁😁😁😁😁😁😁😁😁😁😁😁😁😁😁😁😁😁😁😁😁😁😁😁😁😁😁😁😁😁😁😁😁😁😁😁😁😁😁😁😁😁😁😁😁😁😁😁😁😁😁😁😁😁😁😁😁😁😁😁😁😁] 95%-----------\n",
      "Initializing structure...\n",
      "time for choose_chunkdivision = 5.19753e-05 s\n",
      "Working in 1D dimensions.\n",
      "Computational cell is 0 x 0 x 6.4 with resolution 10\n",
      "     block, center = (0,0,-1.7)\n",
      "          size (1e+20,1e+20,1)\n",
      "          axes (1,0,0), (0,1,0), (0,0,1)\n",
      "          dielectric constant epsilon diagonal = (1,1,1)\n",
      "     block, center = (0,0,0)\n",
      "          size (1e+20,1e+20,2.4)\n",
      "          axes (1,0,0), (0,1,0), (0,0,1)\n",
      "          dielectric constant epsilon diagonal = (36,36,36)\n",
      "     block, center = (0,0,1.7)\n",
      "          size (1e+20,1e+20,1)\n",
      "          axes (1,0,0), (0,1,0), (0,0,1)\n",
      "          dielectric constant epsilon diagonal = (1,1,1)\n",
      "time for set_epsilon = 0.000125885 s\n",
      "-----------\n"
     ]
    },
    {
     "data": {
      "application/vnd.jupyter.widget-view+json": {
       "model_id": "637138b3e84c4bf1b56286f9f252068d",
       "version_major": 2,
       "version_minor": 0
      },
      "text/plain": [
       "FloatProgress(value=0.0, description='0% done ', max=2100.0)"
      ]
     },
     "metadata": {},
     "output_type": "display_data"
    },
    {
     "name": "stdout",
     "output_type": "stream",
     "text": [
      "run 0 finished at t = 2100.0 (21000 timesteps)\n"
     ]
    }
   ],
   "source": [
    "## import numpy as np\n",
    "import matplotlib.pyplot as plt\n",
    "import time\n",
    "from scipy import signal\n",
    "from time import sleep\n",
    "import sys\n",
    "import meep as mp\n",
    "import numpy as np\n",
    "\n",
    "#setup some constants and parameters\n",
    "M=2**21\n",
    "tsim=7e-12\n",
    "eps0 = 8.854187e-12\n",
    "hbar = 1.05457182e-34\n",
    "c = 2.99792458e8\n",
    "kb = 1.380649e-23\n",
    "hdk=7.63823258e-12\n",
    "deltap = np.sqrt(1/3/eps0/hbar/c)*kb\n",
    "T=30000\n",
    "\n",
    "#define square root of Dn function\n",
    "def Dnsqt(wla,T):\n",
    "    return np.sqrt(6*hdk**2*wla/(np.exp(hdk*wla/T)-1)/T**2/np.pi)\n",
    "\n",
    "#generate an array of the square root of Dn function\n",
    "Dsqt = []\n",
    "for n in range(1,M):\n",
    "    Dsqt.append(Dnsqt(2*np.pi*n/tsim,T))\n",
    "\n",
    "#define how many times to run to average the results\n",
    "Ncomp= 20\n",
    "nfreq =  1000\n",
    "#define the starting sum of the result\n",
    "Efsum = np.zeros(nfreq)\n",
    "Ens = np.zeros(2*22)\n",
    "resolution = 10\n",
    "dA = 1\n",
    "dB = 2.4\n",
    "dpml = 1.0\n",
    "sz = dpml*2+dA*2+dB\n",
    "cell = mp.Vector3(0, 0, sz)\n",
    "pml_layers = [mp.PML(dpml)]\n",
    "\n",
    "\n",
    "\n",
    "for i in range(Ncomp):\n",
    "    \n",
    "    #generate random numbers\n",
    "    M0 = np.random.normal(0,1)\n",
    "    Mlp = np.random.normal(0,1,M-1)\n",
    "    Nlp = np.random.normal(0,1,M-1)\n",
    "    MM = np.random.normal(0,1)\n",
    "    \n",
    "    #generate the array of the fourier transform of E field, we generate l=0 and l=-M separately. \n",
    "    #for l=1 to M-1 and l=-1 to -(M-1) are conjutated to each other. \n",
    "    #we contruct the whole array by gluing them together by the order from l=0 -> l=M-1 -> l=-M -> l=-(m-1) -> l=-1\n",
    "    Ef0 = np.array([M0*np.sqrt(6*hdk/np.pi/T)])\n",
    "    Eflp = np.multiply((Mlp + 1j*Nlp), Dsqt)\n",
    "    Eflm = np.flip(np.conjugate(Eflp))\n",
    "    EfM = np.array([MM*Dnsqt(2*np.pi*M/tsim,T)])\n",
    "    Ef = np.hstack((Ef0,Eflp,EfM,Eflm))\n",
    "    \n",
    "    #we normalize Ef and compute its inverse fast fourier transform\n",
    "    Efn = deltap*T/np.sqrt(tsim)*Ef\n",
    "    En = np.fft.ifft(Efn)\n",
    "    \n",
    "    \n",
    "    #generate some feedback to check the progress of the loop\n",
    "    x = i/Ncomp*100\n",
    "    sys.stdout.write('\\r')\n",
    "    sys.stdout.write(\"[%-20s] %d%%\" % ('😁'*int(x), int(x)))\n",
    "    sys.stdout.flush()\n",
    "    sleep(0.0001)\n",
    "    def source(t):\n",
    "        f = int(t*100)\n",
    "        return En[f]\n",
    "\n",
    "    sources = [mp.Source(mp.CustomSource(src_func=source),\n",
    "                     component=mp.Ex,\n",
    "                     center=mp.Vector3(0,0,-0.5*sz+dpml),\n",
    "                     #amplitude = 10\n",
    "                     )]\n",
    "    def BlockAB(N, center):\n",
    "        geometry = []\n",
    "        for i in range(N):\n",
    "            geometry = np.append(geometry, mp.Block(mp.Vector3(mp.inf,mp.inf,dA),\n",
    "                     center=mp.Vector3(z=0-dA/2-dB/2),\n",
    "                     material=mp.Medium(epsilon=1)))\n",
    "            geometry = np.append(geometry, mp.Block(mp.Vector3(mp.inf,mp.inf,dB),\n",
    "                     center=mp.Vector3(z=0),\n",
    "                     material=mp.Medium(epsilon=36)))\n",
    "            geometry = np.append(geometry, mp.Block(mp.Vector3(mp.inf,mp.inf,dA),\n",
    "                     center=mp.Vector3(z=dB/2+dA/2),\n",
    "                     material=mp.Medium(epsilon=1)))\n",
    "        geometry = geometry.tolist()\n",
    "        return geometry\n",
    "    sim = mp.Simulation(cell_size=cell,\n",
    "                    boundary_layers=pml_layers,\n",
    "                    sources=sources,\n",
    "                    dimensions = 1,\n",
    "                    Courant = 1,\n",
    "                    resolution=resolution,\n",
    "                    geometry=BlockAB(1,0))\n",
    "    \n",
    "     # number of frequencies at which to compute flux\n",
    "    fcen = 1 # pulse center frequency\n",
    "    df = 2     # pulse width (in frequency)\n",
    "\n",
    "    # transmitted flux\n",
    "    tran_fr = mp.FluxRegion(center=mp.Vector3(0,0,0))\n",
    "    tran = sim.add_flux(fcen, df, nfreq, tran_fr)\n",
    "    \n",
    "    \n",
    "    sim.run(until=2100)\n",
    "\n",
    "    tran_flux = mp.get_fluxes(tran)\n",
    "    flux_freqs = mp.get_flux_freqs(tran)\n",
    "    Ts = []\n",
    "    fs = []\n",
    "    for i in range(nfreq):\n",
    "        fs = np.append(fs,flux_freqs[i])\n",
    "        Ts = np.append(Ts,tran_flux[i])    \n",
    "    Efsum += Ts\n",
    "    \n",
    "    \n",
    "    \n",
    "\n",
    "#average the final result\n",
    "Efavg = Efsum/Ncomp\n",
    "\n",
    "#save data to some file or reload file to write more data on it\n",
    "\n"
   ]
  },
  {
   "cell_type": "code",
   "execution_count": 44,
   "id": "dd7cad2d-5c56-41d3-863d-e0fc7e546693",
   "metadata": {
    "tags": []
   },
   "outputs": [
    {
     "data": {
      "image/png": "[encoded data removed]",
      "text/plain": [
       "<Figure size 960x720 with 1 Axes>"
      ]
     },
     "metadata": {},
     "output_type": "display_data"
    }
   ],
   "source": [
    "plt.figure(dpi=150)\n",
    "#freqs = np.linspace(0,25e15,2000)\n",
    "plt.plot(Efavg,'.')\n",
    "plt.xlim(0,225)\n",
    "plt.ylim(0,2e-11)\n",
    "plt.savefig('test_detector_photonic_crystal_30000.png')\n",
    "plt.show()\n",
    "\n",
    "#np.savez(\"test_custom_source_photonic_crystal_30000.npz\", Efavg_30000 = Efavg)"
   ]
  },
  {
   "cell_type": "code",
   "execution_count": 60,
   "id": "275c7747-754c-4fbc-b18e-a3da9dde9c07",
   "metadata": {
    "tags": []
   },
   "outputs": [],
   "source": [
    "from PIL import Image\n",
    "\n",
    "def transPNG(srcImageName, dstImageName):\n",
    "    img = Image.open(srcImageName)\n",
    "    img = img.convert(\"RGBA\")\n",
    "    datas = img.getdata()\n",
    "    newData = list()\n",
    "    for item in datas:\n",
    "        if item[0] > 225 and item[1] > 225 and item[2] > 225:\n",
    "            newData.append((255, 255, 255, 0))\n",
    "        else:\n",
    "            newData.append(item)\n",
    "    img.putdata(newData)\n",
    "    img.save(dstImageName, \"PNG\")\n",
    "transPNG('test_detector_photonic_crystal_30000.png','trans_test_detector_photonic_crystal_30000.png')"
   ]
  },
  {
   "cell_type": "code",
   "execution_count": null,
   "id": "ab5c0ded-127a-448e-8a1a-b2401049b1ea",
   "metadata": {},
   "outputs": [],
   "source": []
  }
 ],
 "metadata": {
  "kernelspec": {
   "display_name": "Python 3 (ipykernel)",
   "language": "python",
   "name": "python3"
  },
  "language_info": {
   "codemirror_mode": {
    "name": "ipython",
    "version": 3
   },
   "file_extension": ".py",
   "mimetype": "text/x-python",
   "name": "python",
   "nbconvert_exporter": "python",
   "pygments_lexer": "ipython3",
   "version": "3.11.0"
  }
 },
 "nbformat": 4,
 "nbformat_minor": 5
}
