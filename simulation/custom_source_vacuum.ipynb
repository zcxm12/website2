{
 "cells": [
  {
   "cell_type": "code",
   "execution_count": 1,
   "id": "78ddc13c-f809-4440-a899-453e19ce665e",
   "metadata": {
    "tags": []
   },
   "outputs": [
    {
     "name": "stdout",
     "output_type": "stream",
     "text": [
      "[                    ] 0%-----------\n",
      "Initializing structure...\n",
      "time for choose_chunkdivision = 0.000500917 s\n",
      "Working in 1D dimensions.\n",
      "Computational cell is 0 x 0 x 16 with resolution 100\n",
      "time for set_epsilon = 0.00183201 s\n",
      "-----------\n"
     ]
    },
    {
     "data": {
      "application/vnd.jupyter.widget-view+json": {
       "model_id": "5fee43a6cee64e10901e23bfda623158",
       "version_major": 2,
       "version_minor": 0
      },
      "text/plain": [
       "FloatProgress(value=0.0, description='0% done ', max=2100.0)"
      ]
     },
     "metadata": {},
     "output_type": "display_data"
    },
    {
     "name": "stdout",
     "output_type": "stream",
     "text": [
      "Meep progress: 325.14/2100.0 = 15.5% done in 4.0s, 21.8s to go\n",
      "on time step 32943 (time=329.43), 0.000121424 s/step\n",
      "Meep progress: 688.26/2100.0 = 32.8% done in 8.0s, 16.4s to go\n",
      "on time step 69287 (time=692.87), 0.000110061 s/step\n",
      "Meep progress: 1088.02/2100.0 = 51.8% done in 12.0s, 11.2s to go\n",
      "on time step 109352 (time=1093.52), 9.98396e-05 s/step\n",
      "Meep progress: 1508.1100000000001/2100.0 = 71.8% done in 16.0s, 6.3s to go\n",
      "on time step 151365 (time=1513.65), 9.52097e-05 s/step\n",
      "Meep progress: 1927.15/2100.0 = 91.8% done in 20.0s, 1.8s to go\n",
      "on time step 193273 (time=1932.73), 9.54488e-05 s/step\n",
      "run 0 finished at t = 2100.0 (210000 timesteps)\n",
      "[😁😁😁😁😁😁😁😁😁😁          ] 10%-----------\n",
      "Initializing structure...\n",
      "time for choose_chunkdivision = 0.000113964 s\n",
      "Working in 1D dimensions.\n",
      "Computational cell is 0 x 0 x 16 with resolution 100\n",
      "time for set_epsilon = 0.00169492 s\n",
      "-----------\n"
     ]
    },
    {
     "data": {
      "application/vnd.jupyter.widget-view+json": {
       "model_id": "f9a4cb11e49242f68d3addfcbf682598",
       "version_major": 2,
       "version_minor": 0
      },
      "text/plain": [
       "FloatProgress(value=0.0, description='0% done ', max=2100.0)"
      ]
     },
     "metadata": {},
     "output_type": "display_data"
    },
    {
     "name": "stdout",
     "output_type": "stream",
     "text": [
      "Meep progress: 392.14/2100.0 = 18.7% done in 4.0s, 17.4s to go\n",
      "on time step 39249 (time=392.49), 0.000101915 s/step\n",
      "Meep progress: 786.0/2100.0 = 37.4% done in 8.0s, 13.4s to go\n",
      "on time step 78653 (time=786.53), 0.000101513 s/step\n",
      "Meep progress: 1207.04/2100.0 = 57.5% done in 12.0s, 8.9s to go\n",
      "on time step 120781 (time=1207.81), 9.49499e-05 s/step\n",
      "Meep progress: 1631.46/2100.0 = 77.7% done in 16.0s, 4.6s to go\n",
      "on time step 163239 (time=1632.39), 9.42128e-05 s/step\n",
      "Meep progress: 2055.89/2100.0 = 97.9% done in 20.0s, 0.4s to go\n",
      "on time step 205694 (time=2056.94), 9.42179e-05 s/step\n",
      "run 0 finished at t = 2100.0 (210000 timesteps)\n",
      "[😁😁😁😁😁😁😁😁😁😁😁😁😁😁😁😁😁😁😁😁] 20%-----------\n",
      "Initializing structure...\n",
      "time for choose_chunkdivision = 0.000128984 s\n",
      "Working in 1D dimensions.\n",
      "Computational cell is 0 x 0 x 16 with resolution 100\n",
      "time for set_epsilon = 0.00171709 s\n",
      "-----------\n"
     ]
    },
    {
     "data": {
      "application/vnd.jupyter.widget-view+json": {
       "model_id": "c2c3b988ff214c65b4992c23385080a6",
       "version_major": 2,
       "version_minor": 0
      },
      "text/plain": [
       "FloatProgress(value=0.0, description='0% done ', max=2100.0)"
      ]
     },
     "metadata": {},
     "output_type": "display_data"
    },
    {
     "name": "stdout",
     "output_type": "stream",
     "text": [
      "Meep progress: 423.78000000000003/2100.0 = 20.2% done in 4.0s, 15.8s to go\n",
      "on time step 42404 (time=424.04), 9.43315e-05 s/step\n",
      "Meep progress: 841.01/2100.0 = 40.0% done in 8.0s, 12.0s to go\n",
      "on time step 84147 (time=841.47), 9.58268e-05 s/step\n",
      "Meep progress: 1249.43/2100.0 = 59.5% done in 12.0s, 8.2s to go\n",
      "on time step 125014 (time=1250.14), 9.78803e-05 s/step\n",
      "Meep progress: 1664.47/2100.0 = 79.3% done in 16.0s, 4.2s to go\n",
      "on time step 166527 (time=1665.27), 9.63559e-05 s/step\n",
      "Meep progress: 2085.84/2100.0 = 99.3% done in 20.0s, 0.1s to go\n",
      "on time step 208681 (time=2086.81), 9.48904e-05 s/step\n",
      "run 0 finished at t = 2100.0 (210000 timesteps)\n",
      "[😁😁😁😁😁😁😁😁😁😁😁😁😁😁😁😁😁😁😁😁😁😁😁😁😁😁😁😁😁😁] 30%-----------\n",
      "Initializing structure...\n",
      "time for choose_chunkdivision = 0.000114918 s\n",
      "Working in 1D dimensions.\n",
      "Computational cell is 0 x 0 x 16 with resolution 100\n",
      "time for set_epsilon = 0.001827 s\n",
      "-----------\n"
     ]
    },
    {
     "data": {
      "application/vnd.jupyter.widget-view+json": {
       "model_id": "c5642dee5199427fbf6ed32b00f37419",
       "version_major": 2,
       "version_minor": 0
      },
      "text/plain": [
       "FloatProgress(value=0.0, description='0% done ', max=2100.0)"
      ]
     },
     "metadata": {},
     "output_type": "display_data"
    },
    {
     "name": "stdout",
     "output_type": "stream",
     "text": [
      "Meep progress: 420.07/2100.0 = 20.0% done in 4.0s, 16.0s to go\n",
      "on time step 42043 (time=420.43), 9.51413e-05 s/step\n",
      "Meep progress: 831.69/2100.0 = 39.6% done in 8.0s, 12.2s to go\n",
      "on time step 83217 (time=832.17), 9.71578e-05 s/step\n",
      "Meep progress: 1222.3/2100.0 = 58.2% done in 12.0s, 8.6s to go\n",
      "on time step 122300 (time=1223), 0.000102348 s/step\n",
      "Meep progress: 1644.4/2100.0 = 78.3% done in 16.0s, 4.4s to go\n",
      "on time step 164532 (time=1645.32), 9.47151e-05 s/step\n",
      "Meep progress: 2044.3600000000001/2100.0 = 97.4% done in 20.0s, 0.5s to go\n",
      "on time step 204527 (time=2045.27), 0.000100014 s/step\n",
      "run 0 finished at t = 2100.0 (210000 timesteps)\n",
      "[😁😁😁😁😁😁😁😁😁😁😁😁😁😁😁😁😁😁😁😁😁😁😁😁😁😁😁😁😁😁😁😁😁😁😁😁😁😁😁😁] 40%-----------\n",
      "Initializing structure...\n",
      "time for choose_chunkdivision = 0.000138998 s\n",
      "Working in 1D dimensions.\n",
      "Computational cell is 0 x 0 x 16 with resolution 100\n",
      "time for set_epsilon = 0.00183916 s\n",
      "-----------\n"
     ]
    },
    {
     "data": {
      "application/vnd.jupyter.widget-view+json": {
       "model_id": "a5fc15b19c3a42ae8710d7eb2f3e2d11",
       "version_major": 2,
       "version_minor": 0
      },
      "text/plain": [
       "FloatProgress(value=0.0, description='0% done ', max=2100.0)"
      ]
     },
     "metadata": {},
     "output_type": "display_data"
    },
    {
     "name": "stdout",
     "output_type": "stream",
     "text": [
      "Meep progress: 366.46/2100.0 = 17.5% done in 4.0s, 18.9s to go\n",
      "on time step 36673 (time=366.73), 0.000109075 s/step\n",
      "Meep progress: 689.15/2100.0 = 32.8% done in 8.0s, 16.4s to go\n",
      "on time step 68948 (time=689.48), 0.000123938 s/step\n",
      "Meep progress: 1054.53/2100.0 = 50.2% done in 12.0s, 11.9s to go\n",
      "on time step 105501 (time=1055.01), 0.000109433 s/step\n",
      "Meep progress: 1410.9/2100.0 = 67.2% done in 16.0s, 7.8s to go\n",
      "on time step 141135 (time=1411.35), 0.000112256 s/step\n",
      "Meep progress: 1776.41/2100.0 = 84.6% done in 20.0s, 3.6s to go\n",
      "on time step 177704 (time=1777.04), 0.000109383 s/step\n",
      "Meep progress: 2092.17/2100.0 = 99.6% done in 24.0s, 0.1s to go\n",
      "on time step 209272 (time=2092.72), 0.000126714 s/step\n",
      "run 0 finished at t = 2100.0 (210000 timesteps)\n",
      "[😁😁😁😁😁😁😁😁😁😁😁😁😁😁😁😁😁😁😁😁😁😁😁😁😁😁😁😁😁😁😁😁😁😁😁😁😁😁😁😁😁😁😁😁😁😁😁😁😁😁] 50%-----------\n",
      "Initializing structure...\n",
      "time for choose_chunkdivision = 0.000137091 s\n",
      "Working in 1D dimensions.\n",
      "Computational cell is 0 x 0 x 16 with resolution 100\n",
      "time for set_epsilon = 0.00186777 s\n",
      "-----------\n"
     ]
    },
    {
     "data": {
      "application/vnd.jupyter.widget-view+json": {
       "model_id": "d11a3826b1054bb99f2c5f477b19c548",
       "version_major": 2,
       "version_minor": 0
      },
      "text/plain": [
       "FloatProgress(value=0.0, description='0% done ', max=2100.0)"
      ]
     },
     "metadata": {},
     "output_type": "display_data"
    },
    {
     "name": "stdout",
     "output_type": "stream",
     "text": [
      "Meep progress: 388.44/2100.0 = 18.5% done in 4.0s, 17.6s to go\n",
      "on time step 38867 (time=388.67), 0.000102917 s/step\n",
      "Meep progress: 793.11/2100.0 = 37.8% done in 8.0s, 13.2s to go\n",
      "on time step 79333 (time=793.33), 9.88484e-05 s/step\n",
      "Meep progress: 1172.56/2100.0 = 55.8% done in 12.0s, 9.5s to go\n",
      "on time step 117298 (time=1172.98), 0.000105362 s/step\n",
      "Meep progress: 1566.0/2100.0 = 74.6% done in 16.0s, 5.5s to go\n",
      "on time step 156649 (time=1566.49), 0.000101659 s/step\n",
      "Meep progress: 1948.64/2100.0 = 92.8% done in 20.0s, 1.6s to go\n",
      "on time step 194913 (time=1949.13), 0.000104537 s/step\n",
      "run 0 finished at t = 2100.0 (210000 timesteps)\n",
      "[😁😁😁😁😁😁😁😁😁😁😁😁😁😁😁😁😁😁😁😁😁😁😁😁😁😁😁😁😁😁😁😁😁😁😁😁😁😁😁😁😁😁😁😁😁😁😁😁😁😁😁😁😁😁😁😁😁😁😁😁] 60%-----------\n",
      "Initializing structure...\n",
      "time for choose_chunkdivision = 0.000104904 s\n",
      "Working in 1D dimensions.\n",
      "Computational cell is 0 x 0 x 16 with resolution 100\n",
      "time for set_epsilon = 0.00183201 s\n",
      "-----------\n"
     ]
    },
    {
     "data": {
      "application/vnd.jupyter.widget-view+json": {
       "model_id": "3ab0cd6d20734649bcc1b7325f257c83",
       "version_major": 2,
       "version_minor": 0
      },
      "text/plain": [
       "FloatProgress(value=0.0, description='0% done ', max=2100.0)"
      ]
     },
     "metadata": {},
     "output_type": "display_data"
    },
    {
     "name": "stdout",
     "output_type": "stream",
     "text": [
      "Meep progress: 381.66/2100.0 = 18.2% done in 4.0s, 18.0s to go\n",
      "on time step 38196 (time=381.96), 0.000104725 s/step\n",
      "Meep progress: 796.75/2100.0 = 37.9% done in 8.0s, 13.1s to go\n",
      "on time step 79718 (time=797.18), 9.63348e-05 s/step\n",
      "Meep progress: 1211.98/2100.0 = 57.7% done in 12.0s, 8.8s to go\n",
      "on time step 121252 (time=1212.52), 9.63072e-05 s/step\n",
      "Meep progress: 1589.21/2100.0 = 75.7% done in 16.0s, 5.1s to go\n",
      "on time step 158978 (time=1589.78), 0.000106028 s/step\n",
      "Meep progress: 1968.52/2100.0 = 93.7% done in 20.0s, 1.3s to go\n",
      "on time step 196912 (time=1969.12), 0.000105448 s/step\n",
      "run 0 finished at t = 2100.0 (210000 timesteps)\n",
      "[😁😁😁😁😁😁😁😁😁😁😁😁😁😁😁😁😁😁😁😁😁😁😁😁😁😁😁😁😁😁😁😁😁😁😁😁😁😁😁😁😁😁😁😁😁😁😁😁😁😁😁😁😁😁😁😁😁😁😁😁😁😁😁😁😁😁😁😁😁😁] 70%-----------\n",
      "Initializing structure...\n",
      "time for choose_chunkdivision = 0.000544071 s\n",
      "Working in 1D dimensions.\n",
      "Computational cell is 0 x 0 x 16 with resolution 100\n",
      "time for set_epsilon = 0.00189781 s\n",
      "-----------\n"
     ]
    },
    {
     "data": {
      "application/vnd.jupyter.widget-view+json": {
       "model_id": "1f84c55dc0274d59b28ec8fd574292a9",
       "version_major": 2,
       "version_minor": 0
      },
      "text/plain": [
       "FloatProgress(value=0.0, description='0% done ', max=2100.0)"
      ]
     },
     "metadata": {},
     "output_type": "display_data"
    },
    {
     "name": "stdout",
     "output_type": "stream",
     "text": [
      "Meep progress: 355.98/2100.0 = 17.0% done in 4.0s, 19.6s to go\n",
      "on time step 35621 (time=356.21), 0.000112296 s/step\n",
      "Meep progress: 691.98/2100.0 = 33.0% done in 8.0s, 16.3s to go\n",
      "on time step 69227 (time=692.27), 0.000119027 s/step\n",
      "Meep progress: 1080.31/2100.0 = 51.4% done in 12.0s, 11.3s to go\n",
      "on time step 108066 (time=1080.66), 0.000102992 s/step\n",
      "Meep progress: 1438.8600000000001/2100.0 = 68.5% done in 16.0s, 7.4s to go\n",
      "on time step 143932 (time=1439.32), 0.000111527 s/step\n",
      "Meep progress: 1788.89/2100.0 = 85.2% done in 20.0s, 3.5s to go\n",
      "on time step 178937 (time=1789.37), 0.000114272 s/step\n",
      "run 0 finished at t = 2100.0 (210000 timesteps)\n",
      "[😁😁😁😁😁😁😁😁😁😁😁😁😁😁😁😁😁😁😁😁😁😁😁😁😁😁😁😁😁😁😁😁😁😁😁😁😁😁😁😁😁😁😁😁😁😁😁😁😁😁😁😁😁😁😁😁😁😁😁😁😁😁😁😁😁😁😁😁😁😁😁😁😁😁😁😁😁😁😁😁] 80%-----------\n",
      "Initializing structure...\n",
      "time for choose_chunkdivision = 0.000119925 s\n",
      "Working in 1D dimensions.\n",
      "Computational cell is 0 x 0 x 16 with resolution 100\n",
      "time for set_epsilon = 0.00183201 s\n",
      "-----------\n"
     ]
    },
    {
     "data": {
      "application/vnd.jupyter.widget-view+json": {
       "model_id": "7350d97c8e28484c940353d7fcd237ea",
       "version_major": 2,
       "version_minor": 0
      },
      "text/plain": [
       "FloatProgress(value=0.0, description='0% done ', max=2100.0)"
      ]
     },
     "metadata": {},
     "output_type": "display_data"
    },
    {
     "name": "stdout",
     "output_type": "stream",
     "text": [
      "Meep progress: 389.03000000000003/2100.0 = 18.5% done in 4.0s, 17.6s to go\n",
      "on time step 38941 (time=389.41), 0.000102722 s/step\n",
      "Meep progress: 766.61/2100.0 = 36.5% done in 8.0s, 13.9s to go\n",
      "on time step 76718 (time=767.18), 0.000105887 s/step\n",
      "Meep progress: 1164.44/2100.0 = 55.4% done in 12.0s, 9.6s to go\n",
      "on time step 116508 (time=1165.08), 0.000100529 s/step\n",
      "Meep progress: 1567.98/2100.0 = 74.7% done in 16.0s, 5.4s to go\n",
      "on time step 156885 (time=1568.85), 9.9067e-05 s/step\n",
      "Meep progress: 1955.89/2100.0 = 93.1% done in 20.0s, 1.5s to go\n",
      "on time step 195667 (time=1956.67), 0.000103141 s/step\n",
      "run 0 finished at t = 2100.0 (210000 timesteps)\n",
      "[😁😁😁😁😁😁😁😁😁😁😁😁😁😁😁😁😁😁😁😁😁😁😁😁😁😁😁😁😁😁😁😁😁😁😁😁😁😁😁😁😁😁😁😁😁😁😁😁😁😁😁😁😁😁😁😁😁😁😁😁😁😁😁😁😁😁😁😁😁😁😁😁😁😁😁😁😁😁😁😁😁😁😁😁😁😁😁😁😁😁] 90%-----------\n",
      "Initializing structure...\n",
      "time for choose_chunkdivision = 0.000118017 s\n",
      "Working in 1D dimensions.\n",
      "Computational cell is 0 x 0 x 16 with resolution 100\n",
      "time for set_epsilon = 0.00182199 s\n",
      "-----------\n"
     ]
    },
    {
     "data": {
      "application/vnd.jupyter.widget-view+json": {
       "model_id": "7ed68e8a5299461598628b7a1561fea6",
       "version_major": 2,
       "version_minor": 0
      },
      "text/plain": [
       "FloatProgress(value=0.0, description='0% done ', max=2100.0)"
      ]
     },
     "metadata": {},
     "output_type": "display_data"
    },
    {
     "name": "stdout",
     "output_type": "stream",
     "text": [
      "Meep progress: 407.87/2100.0 = 19.4% done in 4.0s, 16.6s to go\n",
      "on time step 40820 (time=408.2), 9.79913e-05 s/step\n",
      "Meep progress: 811.71/2100.0 = 38.7% done in 8.0s, 12.7s to go\n",
      "on time step 81227 (time=812.27), 9.89935e-05 s/step\n",
      "Meep progress: 1197.5/2100.0 = 57.0% done in 12.0s, 9.0s to go\n",
      "on time step 119827 (time=1198.27), 0.000103629 s/step\n",
      "Meep progress: 1597.28/2100.0 = 76.1% done in 16.0s, 5.0s to go\n",
      "on time step 159817 (time=1598.17), 0.000100027 s/step\n",
      "Meep progress: 2003.8400000000001/2100.0 = 95.4% done in 20.0s, 1.0s to go\n",
      "on time step 200476 (time=2004.76), 9.83812e-05 s/step\n",
      "run 0 finished at t = 2100.0 (210000 timesteps)\n"
     ]
    }
   ],
   "source": [
    "import numpy as np\n",
    "import matplotlib.pyplot as plt\n",
    "import time\n",
    "from scipy import signal\n",
    "from time import sleep\n",
    "import sys\n",
    "import meep as mp\n",
    "import numpy as np\n",
    "\n",
    "#setup some constants and parameters\n",
    "M=2**21\n",
    "tsim=7e-12\n",
    "eps0 = 8.854187e-12\n",
    "hbar = 1.05457182e-34\n",
    "c = 2.99792458e8\n",
    "kb = 1.380649e-23\n",
    "hdk=7.63823258e-12\n",
    "deltap = np.sqrt(1/3/eps0/hbar/c)*kb\n",
    "T=30000\n",
    "\n",
    "#define square root of Dn function\n",
    "def Dnsqt(wla,T):\n",
    "    return np.sqrt(6*hdk**2*wla/(np.exp(hdk*wla/T)-1)/T**2/np.pi)\n",
    "\n",
    "#generate an array of the square root of Dn function\n",
    "Dsqt = []\n",
    "for n in range(1,M):\n",
    "    Dsqt.append(Dnsqt(2*np.pi*n/tsim,T))\n",
    "\n",
    "#define how many times to run to average the results\n",
    "Ncomp=10\n",
    "nfreq =  1000\n",
    "#define the starting sum of the result\n",
    "Efsum = np.zeros(nfreq)\n",
    "Ens = np.zeros(2*22)\n",
    "resolution = 100\n",
    "sz = 16  \n",
    "cell = mp.Vector3(0, 0, sz)\n",
    "dpml = 1.0\n",
    "pml_layers = [mp.PML(dpml)]\n",
    "\n",
    "\n",
    "\n",
    "for i in range(Ncomp):\n",
    "    \n",
    "    #generate random numbers\n",
    "    M0 = np.random.normal(0,1)\n",
    "    Mlp = np.random.normal(0,1,M-1)\n",
    "    Nlp = np.random.normal(0,1,M-1)\n",
    "    MM = np.random.normal(0,1)\n",
    "    \n",
    "    #generate the array of the fourier transform of E field, we generate l=0 and l=-M separately. \n",
    "    #for l=1 to M-1 and l=-1 to -(M-1) are conjutated to each other. \n",
    "    #we contruct the whole array by gluing them together by the order from l=0 -> l=M-1 -> l=-M -> l=-(m-1) -> l=-1\n",
    "    Ef0 = np.array([M0*np.sqrt(6*hdk/np.pi/T)])\n",
    "    Eflp = np.multiply((Mlp + 1j*Nlp), Dsqt)\n",
    "    Eflm = np.flip(np.conjugate(Eflp))\n",
    "    EfM = np.array([MM*Dnsqt(2*np.pi*M/tsim,T)])\n",
    "    Ef = np.hstack((Ef0,Eflp,EfM,Eflm))\n",
    "    \n",
    "    #we normalize Ef and compute its inverse fast fourier transform\n",
    "    Efn = deltap*T/np.sqrt(tsim)*Ef\n",
    "    En = np.fft.ifft(Efn)\n",
    "    \n",
    "    \n",
    "    #generate some feedback to check the progress of the loop\n",
    "    x = i/Ncomp*100\n",
    "    sys.stdout.write('\\r')\n",
    "    sys.stdout.write(\"[%-20s] %d%%\" % ('😁'*int(x), int(x)))\n",
    "    sys.stdout.flush()\n",
    "    sleep(0.0001)\n",
    "    def source(t):\n",
    "        f = int(t*100)\n",
    "        return En[f]\n",
    "\n",
    "    sources = [mp.Source(mp.CustomSource(src_func=source),\n",
    "                     component=mp.Ex,\n",
    "                     center=mp.Vector3(0,0,-0.5*sz+dpml),\n",
    "                     #amplitude=2e-9\n",
    "                     )]\n",
    "    \n",
    "    sim = mp.Simulation(cell_size=cell,\n",
    "                    boundary_layers=pml_layers,\n",
    "                    sources=sources,\n",
    "                    dimensions = 1,\n",
    "                    Courant = 1,\n",
    "                    resolution=resolution)\n",
    "    \n",
    "     # number of frequencies at which to compute flux\n",
    "    fcen = 0.2  # pulse center frequency\n",
    "    df = 0.4     # pulse width (in frequency)\n",
    "\n",
    "    # transmitted flux\n",
    "    tran_fr = mp.FluxRegion(center=mp.Vector3(0,0,-0.5*sz+dpml+0.5))#, size=mp.Vector3(0,2,0))\n",
    "    tran = sim.add_flux(fcen, df, nfreq, tran_fr)\n",
    "    \n",
    "    \n",
    "    sim.run(until=2100)\n",
    "\n",
    "    tran_flux = mp.get_fluxes(tran)\n",
    "    flux_freqs = mp.get_flux_freqs(tran)\n",
    "    Ts = []\n",
    "    fs = []\n",
    "    for i in range(nfreq):\n",
    "        fs = np.append(fs,flux_freqs[i])\n",
    "        Ts = np.append(Ts,tran_flux[i])    \n",
    "    Efsum += Ts\n",
    "    \n",
    "    \n",
    "    \n",
    "\n",
    "#average the final result\n",
    "Efavg = Efsum/Ncomp\n",
    "\n",
    "#save data to some file or reload file to write more data on it\n",
    "\n"
   ]
  },
  {
   "cell_type": "code",
   "execution_count": 2,
   "id": "dd7cad2d-5c56-41d3-863d-e0fc7e546693",
   "metadata": {
    "tags": []
   },
   "outputs": [
    {
     "data": {
      "image/png": "[encoded data removed]",
      "text/plain": [
       "<Figure size 960x720 with 1 Axes>"
      ]
     },
     "metadata": {},
     "output_type": "display_data"
    }
   ],
   "source": [
    "plt.figure(dpi=150)\n",
    "#freqs = np.linspace(0,2*np.pi*2**22/(7*1e-12),1000)\n",
    "plt.plot(Efavg,'.')\n",
    "plt.xlim(0,1000)\n",
    "plt.ylim(0,8*1e-12)\n",
    "plt.savefig('detector_vacuum_300001.png')\n",
    "plt.show()\n",
    "\n",
    "#np.savez(\"custom_source_vacuum_30000.npz\", Efavg_30000 = Efavg)"
   ]
  },
  {
   "cell_type": "code",
   "execution_count": 31,
   "id": "275c7747-754c-4fbc-b18e-a3da9dde9c07",
   "metadata": {
    "tags": []
   },
   "outputs": [],
   "source": [
    "from PIL import Image\n",
    "\n",
    "def transPNG(srcImageName, dstImageName):\n",
    "    img = Image.open(srcImageName)\n",
    "    img = img.convert(\"RGBA\")\n",
    "    datas = img.getdata()\n",
    "    newData = list()\n",
    "    for item in datas:\n",
    "        if item[0] > 225 and item[1] > 225 and item[2] > 225:\n",
    "            newData.append((255, 255, 255, 0))\n",
    "        else:\n",
    "            newData.append(item)\n",
    "    img.putdata(newData)\n",
    "    img.save(dstImageName, \"PNG\")\n",
    "transPNG('detector_vacuum_300001.png','trans_detector_vacuum_300001.png')"
   ]
  },
  {
   "cell_type": "code",
   "execution_count": null,
   "id": "ab5c0ded-127a-448e-8a1a-b2401049b1ea",
   "metadata": {},
   "outputs": [],
   "source": []
  }
 ],
 "metadata": {
  "kernelspec": {
   "display_name": "Python 3 (ipykernel)",
   "language": "python",
   "name": "python3"
  },
  "language_info": {
   "codemirror_mode": {
    "name": "ipython",
    "version": 3
   },
   "file_extension": ".py",
   "mimetype": "text/x-python",
   "name": "python",
   "nbconvert_exporter": "python",
   "pygments_lexer": "ipython3",
   "version": "3.11.0"
  }
 },
 "nbformat": 4,
 "nbformat_minor": 5
}
