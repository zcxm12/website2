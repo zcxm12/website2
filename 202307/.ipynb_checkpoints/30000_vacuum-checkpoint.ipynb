{
 "cells": [
  {
   "cell_type": "code",
   "execution_count": 24,
   "id": "4e58b0d3-7ee2-41e6-b4ed-4152bcef3d88",
   "metadata": {
    "tags": []
   },
   "outputs": [
    {
     "ename": "KeyboardInterrupt",
     "evalue": "",
     "output_type": "error",
     "traceback": [
      "\u001b[0;31m---------------------------------------------------------------------------\u001b[0m",
      "\u001b[0;31mKeyboardInterrupt\u001b[0m                         Traceback (most recent call last)",
      "Input \u001b[0;32mIn [24]\u001b[0m, in \u001b[0;36m<cell line: 32>\u001b[0;34m()\u001b[0m\n\u001b[1;32m     31\u001b[0m Dsqt \u001b[38;5;241m=\u001b[39m []\n\u001b[1;32m     32\u001b[0m \u001b[38;5;28;01mfor\u001b[39;00m n \u001b[38;5;129;01min\u001b[39;00m \u001b[38;5;28mrange\u001b[39m(\u001b[38;5;241m1\u001b[39m,M):\n\u001b[0;32m---> 33\u001b[0m     Dsqt\u001b[38;5;241m.\u001b[39mappend(\u001b[43mDnsqt\u001b[49m\u001b[43m(\u001b[49m\u001b[38;5;241;43m2\u001b[39;49m\u001b[38;5;241;43m*\u001b[39;49m\u001b[43mnp\u001b[49m\u001b[38;5;241;43m.\u001b[39;49m\u001b[43mpi\u001b[49m\u001b[38;5;241;43m*\u001b[39;49m\u001b[43mn\u001b[49m\u001b[38;5;241;43m/\u001b[39;49m\u001b[43mtsim\u001b[49m\u001b[43m,\u001b[49m\u001b[43mT\u001b[49m\u001b[43m)\u001b[49m)\n\u001b[1;32m     35\u001b[0m \u001b[38;5;66;03m#define how many times to run to average the results\u001b[39;00m\n\u001b[1;32m     36\u001b[0m Ncomp\u001b[38;5;241m=\u001b[39m\u001b[38;5;241m5\u001b[39m\n",
      "Input \u001b[0;32mIn [24]\u001b[0m, in \u001b[0;36mDnsqt\u001b[0;34m(wla, T)\u001b[0m\n\u001b[1;32m     27\u001b[0m \u001b[38;5;28;01mdef\u001b[39;00m \u001b[38;5;21mDnsqt\u001b[39m(wla,T):\n\u001b[0;32m---> 28\u001b[0m     \u001b[38;5;28;01mreturn\u001b[39;00m \u001b[43mnp\u001b[49m\u001b[38;5;241;43m.\u001b[39;49m\u001b[43msqrt\u001b[49m\u001b[43m(\u001b[49m\u001b[38;5;241;43m6\u001b[39;49m\u001b[38;5;241;43m*\u001b[39;49m\u001b[43mhdk\u001b[49m\u001b[38;5;241;43m*\u001b[39;49m\u001b[38;5;241;43m*\u001b[39;49m\u001b[38;5;241;43m2\u001b[39;49m\u001b[38;5;241;43m*\u001b[39;49m\u001b[43mwla\u001b[49m\u001b[38;5;241;43m/\u001b[39;49m\u001b[43m(\u001b[49m\u001b[43mnp\u001b[49m\u001b[38;5;241;43m.\u001b[39;49m\u001b[43mexp\u001b[49m\u001b[43m(\u001b[49m\u001b[43mhdk\u001b[49m\u001b[38;5;241;43m*\u001b[39;49m\u001b[43mwla\u001b[49m\u001b[38;5;241;43m/\u001b[39;49m\u001b[43mT\u001b[49m\u001b[43m)\u001b[49m\u001b[38;5;241;43m-\u001b[39;49m\u001b[38;5;241;43m1\u001b[39;49m\u001b[43m)\u001b[49m\u001b[38;5;241;43m/\u001b[39;49m\u001b[43mT\u001b[49m\u001b[38;5;241;43m*\u001b[39;49m\u001b[38;5;241;43m*\u001b[39;49m\u001b[38;5;241;43m2\u001b[39;49m\u001b[38;5;241;43m/\u001b[39;49m\u001b[43mnp\u001b[49m\u001b[38;5;241;43m.\u001b[39;49m\u001b[43mpi\u001b[49m\u001b[43m)\u001b[49m\n",
      "\u001b[0;31mKeyboardInterrupt\u001b[0m: "
     ]
    }
   ],
   "source": [
    "##########################################################複製區塊\n",
    "# import numpy as np\n",
    "import matplotlib.pyplot as plt\n",
    "import time\n",
    "from scipy import signal\n",
    "from time import sleep\n",
    "import sys\n",
    "import meep as mp\n",
    "import numpy as np\n",
    "\n",
    "#setup some constants and parameters\n",
    "M=2**21\n",
    "tsim=7e-12\n",
    "eps0 = 8.854187e-12\n",
    "hbar = 1.05457182e-34\n",
    "c = 2.99792458e8\n",
    "kb = 1.380649e-23\n",
    "hdk=7.63823258e-12\n",
    "deltap = np.sqrt(1/3/eps0/hbar/c)*kb\n",
    "T=30000\n",
    "frq_min = 0\n",
    "frq_max = 100/2/np.pi\n",
    "nfreq = 1000\n",
    "fcen = (frq_min + frq_max)/2\n",
    "df = frq_max - frq_min\n",
    "#define square root of Dn function\n",
    "def Dnsqt(wla,T):\n",
    "    return np.sqrt(6*hdk**2*wla/(np.exp(hdk*wla/T)-1)/T**2/np.pi)\n",
    "\n",
    "#generate an array of the square root of Dn function\n",
    "Dsqt = []\n",
    "for n in range(1,M):\n",
    "    Dsqt.append(Dnsqt(2*np.pi*n/tsim,T))\n",
    "\n",
    "#define how many times to run to average the results\n",
    "Ncomp=5\n",
    "nfreq =  1000\n",
    "#define the starting sum of the result\n",
    "Efsum = np.zeros(nfreq)\n",
    "Ens = np.zeros(2*22)\n",
    "resolution = 1000\n",
    "sz = 4  \n",
    "cell = mp.Vector3(0, 0, sz)\n",
    "dpml = 1.0\n",
    "pml_layers = [mp.PML(dpml)]\n",
    "nq = 0\n",
    "\n",
    "\n",
    "for i in range(Ncomp):\n",
    "    \n",
    "    def random_En(t):\n",
    "        #generate random numbers\n",
    "        M0 = np.random.normal(0,1)\n",
    "        Mlp = np.random.normal(0,1,M-1)\n",
    "        Nlp = np.random.normal(0,1,M-1)\n",
    "        MM = np.random.normal(0,1)\n",
    "    \n",
    "        #generate the array of the fourier transform of E field, we generate l=0 and l=-M separately. \n",
    "        #for l=1 to M-1 and l=-1 to -(M-1) are conjutated to each other. \n",
    "        #we contruct the whole array by gluing them together by the order from l=0 -> l=M-1 -> l=-M -> l=-(m-1) -> l=-1\n",
    "        Ef0 = np.array([M0*np.sqrt(6*hdk/np.pi/T)])\n",
    "        Eflp = np.multiply((Mlp + 1j*Nlp), Dsqt)\n",
    "        Eflm = np.flip(np.conjugate(Eflp))\n",
    "        EfM = np.array([MM*Dnsqt(2*np.pi*M/tsim,T)])\n",
    "        Ef = np.hstack((Ef0,Eflp,EfM,Eflm))\n",
    "    \n",
    "        #we normalize Ef and compute its inverse fast fourier transform\n",
    "        Efn = deltap*T/np.sqrt(tsim)*Ef\n",
    "        En = np.fft.ifft(Efn)*M\n",
    "        return En\n",
    "    En0 = random_En(1)\n",
    "    En1 = random_En(1)\n",
    "    #generate some feedback to check the progress of the loop\n",
    "    x = i/Ncomp*100\n",
    "    sys.stdout.write('\\r')\n",
    "    sys.stdout.write(\"[%-20s] %d%%\" % ('m'*int(x), int(x)))\n",
    "    sys.stdout.flush()\n",
    "    sleep(0.0001)\n",
    "    def source0(t):\n",
    "        f = int(t*2000)\n",
    "        return En0[f]\n",
    "    def source1(t):\n",
    "        f = int(t*2000)\n",
    "        return En1[f]\n",
    "\n",
    "    sources = [mp.Source(mp.CustomSource(src_func=source0),\n",
    "                     component=mp.Ex,\n",
    "                     center=mp.Vector3(0,0,-0.5*sz+dpml),\n",
    "                     ),\n",
    "              mp.Source(mp.CustomSource(src_func=source1),\n",
    "                     component=mp.Ex,\n",
    "                     center=mp.Vector3(0,0,0.5*sz-dpml),\n",
    "                     )\n",
    "              ]\n",
    "    \n",
    "    sim = mp.Simulation(cell_size=cell,\n",
    "                    boundary_layers=pml_layers,\n",
    "                    sources=sources,\n",
    "                    dimensions = 1,\n",
    "                    Courant = 1,\n",
    "                    resolution=resolution)\n",
    "    \n",
    "\n",
    "    # transmitted flux\n",
    "    tran_fr = mp.FluxRegion(center=mp.Vector3(0,0,0))\n",
    "    tran = sim.add_energy(fcen, df, nfreq, tran_fr)\n",
    "    \n",
    "    \n",
    "    sim.run(until=2090)\n",
    "\n",
    "    tran_flux = mp.get_magnetic_energy(tran)\n",
    "    Ts = []\n",
    "    for i in range(nfreq):\n",
    "        Ts = np.append(Ts,tran_flux[i])    \n",
    "    Efsum += Ts\n",
    "    \n",
    "    \n",
    "    \n",
    "\n",
    "#average the final result\n",
    "Efavg = Efsum/Ncomp\n",
    "\n",
    "#save data to some file or reload file to write more data on it\n",
    "######################################################複製區塊\n"
   ]
  },
  {
   "cell_type": "code",
   "execution_count": 23,
   "id": "dd7cad2d-5c56-41d3-863d-e0fc7e546693",
   "metadata": {
    "tags": []
   },
   "outputs": [
    {
     "data": {
      "image/png": "[encoded data removed]",
      "text/plain": [
       "<Figure size 900x600 with 1 Axes>"
      ]
     },
     "metadata": {
      "needs_background": "light"
     },
     "output_type": "display_data"
    }
   ],
   "source": [
    "plt.figure(dpi=150)\n",
    "freqs = np.linspace(0,30e15,1000)\n",
    "plt.plot(freqs,Efavg*tsim*eps0*2*np.pi/2**21,'.')\n",
    "plt.xlim(0,25e15)\n",
    "plt.ylim(0,7.5e-28)\n",
    "#plt.savefig('detector_vacuum_50000.png')\n",
    "plt.show()\n",
    "\n",
    "#np.savez(\"custom_source_vacuum_50000.npz\", Efavg_50000 = Efavg)"
   ]
  },
  {
   "cell_type": "code",
   "execution_count": 12,
   "id": "a3c76ad5-ad5a-403f-b457-4498f2a2a177",
   "metadata": {},
   "outputs": [
    {
     "data": {
      "text/plain": [
       "Text(28.25, 0.5, 'Electric field source Es')"
      ]
     },
     "execution_count": 12,
     "metadata": {},
     "output_type": "execute_result"
    },
    {
     "data": {
      "image/png": "[encoded data removed]",
      "text/plain": [
       "<Figure size 432x288 with 1 Axes>"
      ]
     },
     "metadata": {
      "needs_background": "light"
     },
     "output_type": "display_data"
    }
   ],
   "source": [
    "timess = np.linspace(0,7*1e-12,4194304)\n",
    "plt.plot(timess,En1)\n",
    "plt.xlim(0,2e-15)\n",
    "#plt.ylim(-1e-6,1e-6)\n",
    "plt.savefig('thermal_50000_tmie_M.png')\n",
    "plt.xlabel('times')\n",
    "plt.ylabel('Electric field source Es')"
   ]
  },
  {
   "cell_type": "code",
   "execution_count": 82,
   "id": "275c7747-754c-4fbc-b18e-a3da9dde9c07",
   "metadata": {
    "tags": []
   },
   "outputs": [],
   "source": [
    "from PIL import Image\n",
    "\n",
    "def transPNG(srcImageName, dstImageName):\n",
    "    img = Image.open(srcImageName)\n",
    "    img = img.convert(\"RGBA\")\n",
    "    datas = img.getdata()\n",
    "    newData = list()\n",
    "    for item in datas:\n",
    "        if item[0] > 225 and item[1] > 225 and item[2] > 225:\n",
    "            newData.append((255, 255, 255, 0))\n",
    "        else:\n",
    "            newData.append(item)\n",
    "    img.putdata(newData)\n",
    "    img.save(dstImageName, \"PNG\")\n",
    "transPNG('detector_vacuum_50000.png','trans_detector_vacuum_50000.png')"
   ]
  },
  {
   "cell_type": "code",
   "execution_count": null,
   "id": "ab5c0ded-127a-448e-8a1a-b2401049b1ea",
   "metadata": {},
   "outputs": [],
   "source": []
  }
 ],
 "metadata": {
  "kernelspec": {
   "display_name": "Python 3 (ipykernel)",
   "language": "python",
   "name": "python3"
  },
  "language_info": {
   "codemirror_mode": {
    "name": "ipython",
    "version": 3
   },
   "file_extension": ".py",
   "mimetype": "text/x-python",
   "name": "python",
   "nbconvert_exporter": "python",
   "pygments_lexer": "ipython3",
   "version": "3.10.5"
  }
 },
 "nbformat": 4,
 "nbformat_minor": 5
}
