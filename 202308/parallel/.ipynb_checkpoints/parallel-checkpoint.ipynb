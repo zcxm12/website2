{
 "cells": [
  {
   "cell_type": "code",
   "execution_count": 18,
   "id": "3354336c-e7e6-48dc-941e-d4ab4729e35c",
   "metadata": {
    "tags": []
   },
   "outputs": [
    {
     "name": "stdout",
     "output_type": "stream",
     "text": [
      "-----------aa        ] 12%[aaaaaaaaaaaaaaaaaaaaaaaaaaaaaaaaaaaaaaaaaaaaaaaaaaaaaaaaaaaaaaaaaaaaaaaaaaa] 75%\n",
      "Initializing structure...\n",
      "-----------"
     ]
    },
    {
     "name": "stderr",
     "output_type": "stream",
     "text": [
      "Warning: grid volume is not an integer number of pixels; cell size will be rounded to nearest pixel.\n"
     ]
    },
    {
     "name": "stdout",
     "output_type": "stream",
     "text": [
      "time for choose_chunkdivision = 8.79765e-05 s\n",
      "\n",
      "Working in 1D dimensions.\n",
      "Initializing structure...\n",
      "Computational cell is 0 x 0 x 3 with resolution 10\n"
     ]
    },
    {
     "name": "stderr",
     "output_type": "stream",
     "text": [
      "Warning: grid volume is not an integer number of pixels; cell size will be rounded to nearest pixel.\n"
     ]
    },
    {
     "name": "stdout",
     "output_type": "stream",
     "text": [
      "     block, center = (0,0,-0.26)\n",
      "time for choose_chunkdivision = 8.39233e-05 s\n",
      "          size (0,0,0.5)\n",
      "          axes (1,0,0), (0,1,0), (0,0,1)\n",
      "Working in 1D dimensions.\n",
      "          dielectric constant epsilon diagonal = (1,1,1)\n",
      "     Computational cell is 0 x 0 x 3 with resolution 10\n",
      "block     , center = (0,0,0)\n",
      "block          size (0,0,0.02)\n",
      ", center = (0,0,-0.26)\n",
      "          axes (1,0,0), (0,1,0), (0,0,1)\n",
      "          size (0,0,0.5)\n",
      "          dielectric constant epsilon diagonal = (36,36,36)\n",
      "          axes (1,0,0), (0,1,0), (0,0,1)\n",
      "               dielectric constant epsilon diagonal = (1,1,1)\n",
      ", center = (0,0,0.26)\n",
      "block          size (0,0,0.5)\n",
      ", center = (0,0,0)\n",
      "          axes (1,0,0), (0,1,0), (0,0,1)\n",
      "[aaaaaaaaaaaaaaaaaaaaaaaaaaaaaaaaaaaaa] 37%[aaaaaaaaaaaaaaaaaaaaaaaaaaaaaaaaaaaaaaaaaaaaaaaaaa] 50%          dielectric constant epsilon diagonal = (1,1,1)\n",
      "          size (0,0,0.02)\n",
      "time for set_epsilon = 6.79493e-05 s\n",
      "          axes (1,0,0), (0,1,0), (0,0,1)\n",
      "-----------\n",
      "          dielectric constant epsilon diagonal = (36,36,36)\n",
      "-----------\n",
      "     Initializing structure...-----------block\n",
      ", center = (0,0,0.26)\n",
      "\n"
     ]
    },
    {
     "name": "stderr",
     "output_type": "stream",
     "text": [
      "Warning: grid volume is not an integer number of pixels; cell size will be rounded to nearest pixel.\n"
     ]
    },
    {
     "name": "stdout",
     "output_type": "stream",
     "text": [
      "Initializing structure...          size (0,0,0.5)\n",
      "          axes (1,0,0), (0,1,0), (0,0,1)\n",
      "          dielectric constant epsilon diagonal = (1,1,1)\n",
      "time for choose_chunkdivision = 9.10759e-05 s\n",
      "time for set_epsilon = 6.38962e-05 s\n",
      "Working in 1D dimensions.\n",
      "-----------\n",
      "Computational cell is 0 x 0 x 3 with resolution 10\n",
      "\n",
      "     "
     ]
    },
    {
     "name": "stderr",
     "output_type": "stream",
     "text": [
      "Warning: grid volume is not an integer number of pixels; cell size will be rounded to nearest pixel.\n"
     ]
    },
    {
     "data": {
      "application/vnd.jupyter.widget-view+json": {
       "model_id": "92b84c99a0b0489fbc93bb8157166600",
       "version_major": 2,
       "version_minor": 0
      },
      "text/plain": [
       "FloatProgress(value=0.0, description='0% done ', max=2090.0)"
      ]
     },
     "metadata": {},
     "output_type": "display_data"
    },
    {
     "name": "stdout",
     "output_type": "stream",
     "text": [
      "blocktime for choose_chunkdivision = 7.20024e-05 s\n",
      "Working in 1D dimensions.\n",
      "Computational cell is 0 x 0 x 3 with resolution 10\n",
      "     block, center = (0,0,-0.26)\n",
      "          size (0,0,0.5)\n",
      "          axes (1,0,0), (0,1,0), (0,0,1)\n"
     ]
    },
    {
     "data": {
      "application/vnd.jupyter.widget-view+json": {
       "model_id": "d83a0489f0274262bfec606f6adca048",
       "version_major": 2,
       "version_minor": 0
      },
      "text/plain": [
       "FloatProgress(value=0.0, description='0% done ', max=2090.0)"
      ]
     },
     "metadata": {},
     "output_type": "display_data"
    },
    {
     "name": "stdout",
     "output_type": "stream",
     "text": [
      "          dielectric constant epsilon diagonal = (1,1,1)\n",
      "     block, center = (0,0,0)\n",
      "          size (0,0,0.02)\n",
      "          axes (1,0,0), (0,1,0), (0,0,1)\n",
      "          dielectric constant epsilon diagonal = (36,36,36)\n",
      "     block, center = (0,0,0.26)\n",
      "          size (0,0,0.5)\n",
      ", center = (0,0,-0.26)\n",
      "          axes (1,0,0), (0,1,0), (0,0,1)\n",
      "          dielectric constant epsilon diagonal = (1,1,1)\n",
      "[aaaaaaaaaaaaaaaaaaaaaaaaaaaaaaaaaaaaaaaaaaaaaaaaaaaaaaaaaaaaaaaaaaaaaaaaaaaaaaaaaaaaaaa] 87%time for set_epsilon = 6.19888e-05 s\n",
      "[                    ] 0%[aaaaaaaaaaaaaaaaaaaaaaaaaaaaaaaaaaaaaaaaaaaaaaaaaaaaaaaaaaaaaa] 62%-----------\n",
      "          size (0,0,0.5)\n",
      "-----------\n",
      "Initializing structure...-----------          axes (1,0,0), (0,1,0), (0,0,1)\n",
      "\n",
      "-----------\n",
      "          dielectric constant epsilon diagonal = (1,1,1)\n",
      "Initializing structure..."
     ]
    },
    {
     "name": "stderr",
     "output_type": "stream",
     "text": [
      "Warning: grid volume is not an integer number of pixels; cell size will be rounded to nearest pixel.\n"
     ]
    },
    {
     "name": "stdout",
     "output_type": "stream",
     "text": [
      "\n",
      "\n",
      "     Initializing structure..."
     ]
    },
    {
     "name": "stderr",
     "output_type": "stream",
     "text": [
      "Warning: grid volume is not an integer number of pixels; cell size will be rounded to nearest pixel.\n"
     ]
    },
    {
     "name": "stdout",
     "output_type": "stream",
     "text": [
      "\n",
      "time for choose_chunkdivision = 7.58171e-05 s\n",
      "block"
     ]
    },
    {
     "name": "stderr",
     "output_type": "stream",
     "text": [
      "Warning: grid volume is not an integer number of pixels; cell size will be rounded to nearest pixel.\n"
     ]
    },
    {
     "name": "stdout",
     "output_type": "stream",
     "text": [
      "Working in 1D dimensions.\n",
      ", center = (0,0,0)\n",
      "          size (0,0,0.02)\n",
      "time for choose_chunkdivision = 8.2016e-05 s\n",
      "time for choose_chunkdivision = 9.799e-05 s\n",
      "          axes (1,0,0), (0,1,0), (0,0,1)\n",
      "Computational cell is 0 x 0 x 3 with resolution 10\n",
      "Working in 1D dimensions.\n",
      "Working in 1D dimensions.\n",
      "               dielectric constant epsilon diagonal = (36,36,36)\n",
      "Computational cell is 0 x 0 x 3 with resolution 10\n",
      "block"
     ]
    },
    {
     "data": {
      "application/vnd.jupyter.widget-view+json": {
       "model_id": "bc5f1998b5cd440a934ca55a5f3b3402",
       "version_major": 2,
       "version_minor": 0
      },
      "text/plain": [
       "FloatProgress(value=0.0, description='0% done ', max=2090.0)"
      ]
     },
     "metadata": {},
     "output_type": "display_data"
    },
    {
     "name": "stdout",
     "output_type": "stream",
     "text": [
      "     Computational cell is 0 x 0 x 3 with resolution 10\n",
      "     , center = (0,0,-0.26)\n",
      "     blockblockblock          size (0,0,0.5)\n",
      ", center = (0,0,0.26)\n",
      "          axes (1,0,0), (0,1,0), (0,0,1)\n",
      ", center = (0,0,-0.26)\n",
      "          size (0,0,0.5)\n",
      "          size (0,0,0.5)\n",
      "          axes (1,0,0), (0,1,0), (0,0,1)\n",
      "          dielectric constant epsilon diagonal = (1,1,1)\n",
      ", center = (0,0,-0.26)\n",
      "          axes (1,0,0), (0,1,0), (0,0,1)\n",
      "               size (0,0,0.5)\n",
      "          dielectric constant epsilon diagonal = (1,1,1)\n",
      "          dielectric constant epsilon diagonal = (1,1,1)\n",
      "          axes (1,0,0), (0,1,0), (0,0,1)\n",
      "time for set_epsilon = 5.88894e-05 s\n",
      "block               dielectric constant epsilon diagonal = (1,1,1)\n",
      ", center = (0,0,0)\n",
      "-----------\n",
      "block, center = (0,0,0)\n",
      "               size (0,0,0.02)\n",
      "block, center = (0,0,0)\n",
      "          axes (1,0,0), (0,1,0), (0,0,1)\n",
      "          size (0,0,0.02)\n",
      "          dielectric constant epsilon diagonal = (36,36,36)\n",
      "          size (0,0,0.02)\n",
      "          axes (1,0,0), (0,1,0), (0,0,1)\n",
      "          axes (1,0,0), (0,1,0), (0,0,1)\n",
      "               dielectric constant epsilon diagonal = (36,36,36)\n",
      "          dielectric constant epsilon diagonal = (36,36,36)\n",
      "          blockblockblock, center = (0,0,0.26)\n",
      ", center = (0,0,0.26)\n",
      ", center = (0,0,0.26)\n",
      "          size (0,0,0.5)\n",
      "          size (0,0,0.5)\n",
      "          axes (1,0,0), (0,1,0), (0,0,1)\n",
      "          size (0,0,0.5)\n",
      "          axes (1,0,0), (0,1,0), (0,0,1)\n",
      "          axes (1,0,0), (0,1,0), (0,0,1)\n"
     ]
    },
    {
     "data": {
      "application/vnd.jupyter.widget-view+json": {
       "model_id": "0fe10955af9f4235bb48a14bb6962054",
       "version_major": 2,
       "version_minor": 0
      },
      "text/plain": [
       "FloatProgress(value=0.0, description='0% done ', max=2090.0)"
      ]
     },
     "metadata": {},
     "output_type": "display_data"
    },
    {
     "name": "stdout",
     "output_type": "stream",
     "text": [
      "[aaaaaaaaaaaaaaaaaaaaaaaaa] 25%          dielectric constant epsilon diagonal = (1,1,1)\n",
      "          dielectric constant epsilon diagonal = (1,1,1)\n",
      "          dielectric constant epsilon diagonal = (1,1,1)\n",
      "time for set_epsilon = 8.01086e-05 s\n",
      "time for set_epsilon = 6.38962e-05 s\n",
      "-----------\n",
      "-----------\n",
      "-----------time for set_epsilon = 5.31673e-05 s\n",
      "\n",
      "-----------\n",
      "Initializing structure...\n"
     ]
    },
    {
     "name": "stderr",
     "output_type": "stream",
     "text": [
      "Warning: grid volume is not an integer number of pixels; cell size will be rounded to nearest pixel.\n"
     ]
    },
    {
     "name": "stdout",
     "output_type": "stream",
     "text": [
      "time for choose_chunkdivision = 6.79493e-05 s\n",
      "Working in 1D dimensions.\n",
      "Computational cell is 0 x 0 x 3 with resolution 10\n",
      "     block, center = (0,0,-0.26)\n",
      "          size (0,0,0.5)\n",
      "          axes (1,0,0), (0,1,0), (0,0,1)\n",
      "          dielectric constant epsilon diagonal = (1,1,1)\n"
     ]
    },
    {
     "data": {
      "application/vnd.jupyter.widget-view+json": {
       "model_id": "4fbc293171464605abc1482df24db301",
       "version_major": 2,
       "version_minor": 0
      },
      "text/plain": [
       "FloatProgress(value=0.0, description='0% done ', max=2090.0)"
      ]
     },
     "metadata": {},
     "output_type": "display_data"
    },
    {
     "name": "stdout",
     "output_type": "stream",
     "text": [
      "     "
     ]
    },
    {
     "data": {
      "application/vnd.jupyter.widget-view+json": {
       "model_id": "d913cf06a8724acc9bf5ade96a4cdb0a",
       "version_major": 2,
       "version_minor": 0
      },
      "text/plain": [
       "FloatProgress(value=0.0, description='0% done ', max=2090.0)"
      ]
     },
     "metadata": {},
     "output_type": "display_data"
    },
    {
     "data": {
      "application/vnd.jupyter.widget-view+json": {
       "model_id": "8cb7bda0da0045deaf7cb8c1d1081dfa",
       "version_major": 2,
       "version_minor": 0
      },
      "text/plain": [
       "FloatProgress(value=0.0, description='0% done ', max=2090.0)"
      ]
     },
     "metadata": {},
     "output_type": "display_data"
    },
    {
     "name": "stdout",
     "output_type": "stream",
     "text": [
      "block, center = (0,0,0)\n",
      "          size (0,0,0.02)\n",
      "          axes (1,0,0), (0,1,0), (0,0,1)\n",
      "          dielectric constant epsilon diagonal = (36,36,36)\n",
      "     block, center = (0,0,0.26)\n",
      "          size (0,0,0.5)\n",
      "          axes (1,0,0), (0,1,0), (0,0,1)\n",
      "          dielectric constant epsilon diagonal = (1,1,1)\n",
      "time for set_epsilon = 5.19753e-05 s\n",
      "-----------\n"
     ]
    },
    {
     "data": {
      "application/vnd.jupyter.widget-view+json": {
       "model_id": "9ba21d62abd24578aaf939bce21cde78",
       "version_major": 2,
       "version_minor": 0
      },
      "text/plain": [
       "FloatProgress(value=0.0, description='0% done ', max=2090.0)"
      ]
     },
     "metadata": {},
     "output_type": "display_data"
    },
    {
     "name": "stdout",
     "output_type": "stream",
     "text": [
      "run 0 finished at t = 2090.0 (20900 timesteps)\n",
      "run 0 finished at t = 2090.0 (20900 timesteps)\n",
      "run 0 finished at t = 2090.0 (20900 timesteps)\n",
      "run 0 finished at t = 2090.0 (20900 timesteps)\n",
      "run 0 finished at t = 2090.0 (20900 timesteps)\n",
      "run 0 finished at t = 2090.0 (20900 timesteps)\n",
      "run 0 finished at t = 2090.0 (20900 timesteps)\n",
      "run 0 finished at t = 2090.0 (20900 timesteps)\n"
     ]
    }
   ],
   "source": [
    "##########################################################複製區塊\n",
    "import matplotlib.pyplot as plt\n",
    "import time\n",
    "from scipy import signal\n",
    "from time import sleep\n",
    "import sys\n",
    "import meep as mp\n",
    "import numpy as np\n",
    "import random\n",
    "import multiprocessing as multi\n",
    "#setup some constants and parameters\n",
    "M=2**21\n",
    "tsim=7e-12\n",
    "eps0 = 8.854187e-12\n",
    "hbar = 1.05457182e-34\n",
    "c = 2.99792458e8\n",
    "kb = 1.380649e-23\n",
    "hdk=7.63823258e-12\n",
    "deltap = np.sqrt(1/3/eps0/hbar/c)*kb\n",
    "T=30000\n",
    "frq_min = 0\n",
    "frq_max = 100/2/np.pi\n",
    "nfreq = 1000\n",
    "fcen = (frq_min + frq_max)/2\n",
    "df = frq_max - frq_min\n",
    "#define square root of Dn function\n",
    "def Dnsqt(wla,T):\n",
    "    return np.sqrt(6*hdk**2*wla/(np.exp(hdk*wla/T)-1)/T**2/np.pi)\n",
    "\n",
    "#generate an array of the square root of Dn function\n",
    "Dsqt = []\n",
    "for n in range(1,M):\n",
    "    Dsqt.append(Dnsqt(2*np.pi*n/tsim,T))\n",
    "\n",
    "#define how many times to run to average the results\n",
    "Ncomp= 5\n",
    "nfreq =  1000\n",
    "#define the starting sum of the result\n",
    "Efsum = np.zeros(nfreq)\n",
    "Ens = np.zeros(2**22)\n",
    "resolution = 10\n",
    "dA = 0.5\n",
    "dB = 0.02\n",
    "dpml = 1.0\n",
    "sz = dpml*2+dA*2+dB\n",
    "cell = mp.Vector3(0, 0, sz)\n",
    "pml_layers = [mp.PML(dpml)]\n",
    "\n",
    "\n",
    "\n",
    "def run_single_comp(i):\n",
    "    \n",
    "    def random_En(t):\n",
    "        #generate random numbers\n",
    "        M0 = np.random.normal(0,1)\n",
    "        Mlp = np.random.normal(0,1,M-1)\n",
    "        Nlp = np.random.normal(0,1,M-1)\n",
    "        MM = np.random.normal(0,1)\n",
    "    \n",
    "        #generate the array of the fourier transform of E field, we generate l=0 and l=-M separately. \n",
    "        #for l=1 to M-1 and l=-1 to -(M-1) are conjutated to each other. \n",
    "        #we contruct the whole array by gluing them together by the order from l=0 -> l=M-1 -> l=-M -> l=-(m-1) -> l=-1\n",
    "        Ef0 = np.array([M0*np.sqrt(6*hdk/np.pi/T)])\n",
    "        Eflp = np.multiply((Mlp + 1j*Nlp), Dsqt)\n",
    "        Eflm = np.flip(np.conjugate(Eflp))\n",
    "        EfM = np.array([MM*Dnsqt(2*np.pi*M/tsim,T)])\n",
    "        Ef = np.hstack((Ef0,Eflp,EfM,Eflm))\n",
    "    \n",
    "        #we normalize Ef and compute its inverse fast fourier transform\n",
    "        Efn = deltap*T/np.sqrt(tsim)*Ef\n",
    "        En = np.fft.ifft(Efn)*M\n",
    "        return En\n",
    "    En0 = random_En(1)\n",
    "    En1 = random_En(1)\n",
    "    \n",
    "    #generate some feedback to check the progress of the loop\n",
    "    x = i/Ncomp*100\n",
    "    sys.stdout.write('\\r')\n",
    "    sys.stdout.write(\"[%-20s] %d%%\" % ('a'*int(x), int(x)))\n",
    "    sys.stdout.flush()\n",
    "    sleep(0.0001)\n",
    "    \n",
    "    \n",
    "    def source0(t):\n",
    "        f = int(t*2000)\n",
    "        return En0[f]\n",
    "    def source1(t):\n",
    "        f = int(t*2000)\n",
    "        return En1[f]\n",
    "\n",
    "    sources = [mp.Source(mp.CustomSource(src_func=source0),\n",
    "                     component=mp.Ex,\n",
    "                     center=mp.Vector3(0,0,-0.5*sz+dpml),\n",
    "                     ),\n",
    "              mp.Source(mp.CustomSource(src_func=source1),\n",
    "                     component=mp.Ex,\n",
    "                     center=mp.Vector3(0,0,0.5*sz-dpml),\n",
    "                     ),\n",
    "                ]\n",
    "    \n",
    "    def BlockAB(N, center):\n",
    "        geometry = []\n",
    "        for i in range(N):\n",
    "            geometry = np.append(geometry, mp.Block(mp.Vector3(0,0,dA),\n",
    "                     center=mp.Vector3(0,0,0-dA/2-dB/2),\n",
    "                     material=mp.Medium(epsilon=1)))\n",
    "            geometry = np.append(geometry, mp.Block(mp.Vector3(0,0,dB),\n",
    "                     center=mp.Vector3(0,0,0),\n",
    "                     material=mp.Medium(epsilon=36)))\n",
    "            geometry = np.append(geometry, mp.Block(mp.Vector3(0,0,dA),\n",
    "                     center=mp.Vector3(0,0,dB/2+dA/2),\n",
    "                     material=mp.Medium(epsilon=1)))\n",
    "        geometry = geometry.tolist()\n",
    "        return geometry\n",
    "    sim = mp.Simulation(cell_size=cell,\n",
    "                    boundary_layers=pml_layers,\n",
    "                    sources=sources,   \n",
    "                    dimensions = 1,\n",
    "                    Courant = 1,\n",
    "                    resolution=resolution,\n",
    "                    geometry=BlockAB(1,0))\n",
    "    \n",
    "\n",
    "    # transmitted flux\n",
    "    tran_fr = mp.FluxRegion(center=mp.Vector3(0,0,random.uniform(-0.01,0.01)))\n",
    "    tran = sim.add_energy(fcen, df, nfreq, tran_fr)\n",
    "    \n",
    "    \n",
    "    sim.run(until=2090)\n",
    "\n",
    "    tran_flux = mp.get_magnetic_energy(tran)\n",
    "    Ts = []\n",
    "    for i in range(nfreq):\n",
    "        Ts = np.append(Ts,tran_flux[i])    \n",
    "    Efsum = Ts\n",
    "    \n",
    "    np.savez(str(i)+\"En.npz\", Efavg_30000 = Efsum)\n",
    "    return 1\n",
    "# 使用多核心處理\n",
    "pool = multi.Pool()\n",
    "pool.map(run_single_comp, range(Ncomp))\n",
    "pool.close()\n",
    "pool.join()\n",
    "\n",
    "# 將所有結果相加\n",
    "#for result in results:\n",
    "    #Efsum += result\n",
    "\n",
    "\n",
    "\n",
    "# 平均結果\n",
    "#Efavg = Efsum / Ncomp\n"
   ]
  },
  {
   "cell_type": "code",
   "execution_count": 5,
   "id": "dd7cad2d-5c56-41d3-863d-e0fc7e546693",
   "metadata": {
    "tags": []
   },
   "outputs": [
    {
     "ename": "NameError",
     "evalue": "name 'Efavg' is not defined",
     "output_type": "error",
     "traceback": [
      "\u001b[0;31m---------------------------------------------------------------------------\u001b[0m",
      "\u001b[0;31mNameError\u001b[0m                                 Traceback (most recent call last)",
      "Cell \u001b[0;32mIn[5], line 3\u001b[0m\n\u001b[1;32m      1\u001b[0m plt\u001b[38;5;241m.\u001b[39mfigure(dpi\u001b[38;5;241m=\u001b[39m\u001b[38;5;241m150\u001b[39m)\n\u001b[1;32m      2\u001b[0m freqs \u001b[38;5;241m=\u001b[39m np\u001b[38;5;241m.\u001b[39mlinspace(\u001b[38;5;241m0\u001b[39m,\u001b[38;5;241m30e15\u001b[39m,\u001b[38;5;241m1000\u001b[39m)\n\u001b[0;32m----> 3\u001b[0m plt\u001b[38;5;241m.\u001b[39mplot(freqs,\u001b[43mEfavg\u001b[49m\u001b[38;5;241m*\u001b[39mtsim\u001b[38;5;241m*\u001b[39meps0\u001b[38;5;241m*\u001b[39m\u001b[38;5;241m4\u001b[39m\u001b[38;5;241m*\u001b[39mnp\u001b[38;5;241m.\u001b[39mpi\u001b[38;5;241m/\u001b[39m\u001b[38;5;241m2\u001b[39m\u001b[38;5;241m*\u001b[39m\u001b[38;5;241m*\u001b[39m\u001b[38;5;241m21\u001b[39m,\u001b[38;5;124m'\u001b[39m\u001b[38;5;124mg\u001b[39m\u001b[38;5;124m'\u001b[39m\u001b[38;5;124m'\u001b[39m\u001b[38;5;124m.\u001b[39m\u001b[38;5;124m'\u001b[39m)\n\u001b[1;32m      4\u001b[0m plt\u001b[38;5;241m.\u001b[39mxlim(\u001b[38;5;241m4e15\u001b[39m,\u001b[38;5;241m20e15\u001b[39m)\n\u001b[1;32m      5\u001b[0m plt\u001b[38;5;241m.\u001b[39myscale(\u001b[38;5;124m\"\u001b[39m\u001b[38;5;124mlog\u001b[39m\u001b[38;5;124m\"\u001b[39m)\n",
      "\u001b[0;31mNameError\u001b[0m: name 'Efavg' is not defined"
     ]
    },
    {
     "data": {
      "text/plain": [
       "<Figure size 960x720 with 0 Axes>"
      ]
     },
     "metadata": {},
     "output_type": "display_data"
    }
   ],
   "source": [
    "plt.figure(dpi=150)\n",
    "freqs = np.linspace(0,30e15,1000)\n",
    "plt.plot(freqs,Efavg*tsim*eps0*4*np.pi/2**21,'g''.')\n",
    "plt.xlim(4e15,20e15)\n",
    "plt.yscale(\"log\")\n",
    "plt.ylim(0.1e-28,400e-28)\n",
    "plt.grid()\n",
    "#plt.savefig('4_source_test_detector_photonic_crystal_30000.png')\n",
    "plt.show()\n",
    "\n",
    "#np.savez(\"test_custom_source_photonic_crystal_30000.npz\", Efavg_30000 = Efavg)"
   ]
  },
  {
   "cell_type": "code",
   "execution_count": 3,
   "id": "275c7747-754c-4fbc-b18e-a3da9dde9c07",
   "metadata": {
    "tags": []
   },
   "outputs": [],
   "source": [
    "from PIL import Image\n",
    "\n",
    "def transPNG(srcImageName, dstImageName):\n",
    "    img = Image.open(srcImageName)\n",
    "    img = img.convert(\"RGBA\")\n",
    "    datas = img.getdata()\n",
    "    newData = list()\n",
    "    for item in datas:\n",
    "        if item[0] > 225 and item[1] > 225 and item[2] > 225:\n",
    "            newData.append((255, 255, 255, 0))\n",
    "        else:\n",
    "            newData.append(item)\n",
    "            \n",
    "    img.putdata(newData)\n",
    "    img.save(dstImageName, \"PNG\")\n",
    "transPNG('test_detector_photonic_crystal_30000.png','trans_test_detector_photonic_crystal_30000.png')"
   ]
  },
  {
   "cell_type": "code",
   "execution_count": null,
   "id": "ab5c0ded-127a-448e-8a1a-b2401049b1ea",
   "metadata": {},
   "outputs": [],
   "source": []
  }
 ],
 "metadata": {
  "kernelspec": {
   "display_name": "Python 3 (ipykernel)",
   "language": "python",
   "name": "python3"
  },
  "language_info": {
   "codemirror_mode": {
    "name": "ipython",
    "version": 3
   },
   "file_extension": ".py",
   "mimetype": "text/x-python",
   "name": "python",
   "nbconvert_exporter": "python",
   "pygments_lexer": "ipython3",
   "version": "3.11.0"
  }
 },
 "nbformat": 4,
 "nbformat_minor": 5
}
