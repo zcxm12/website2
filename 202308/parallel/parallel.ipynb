{
 "cells": [
  {
   "cell_type": "code",
   "execution_count": 3,
   "id": "3354336c-e7e6-48dc-941e-d4ab4729e35c",
   "metadata": {
    "tags": []
   },
   "outputs": [
    {
     "name": "stdout",
     "output_type": "stream",
     "text": [
      "[aaaaaaaaaaaaaaaaaaaaaaaaaaaaaaaaaaaaaaaaaaaaaaaaaaaaaaaaaaaa] 60%-----------\n",
      "Initializing structure...\n"
     ]
    },
    {
     "name": "stderr",
     "output_type": "stream",
     "text": [
      "Warning: grid volume is not an integer number of pixels; cell size will be rounded to nearest pixel.\n"
     ]
    },
    {
     "name": "stdout",
     "output_type": "stream",
     "text": [
      "time for choose_chunkdivision = 8.60691e-05 s\n",
      "Working in 1D dimensions.\n",
      "Computational cell is 0 x 0 x 3 with resolution 10\n",
      "     block, center = (0,0,-0.26)\n",
      "          size (0,0,0.5)\n",
      "          axes (1,0,0), (0,1,0), (0,0,1)\n",
      "          dielectric constant epsilon diagonal = (1,1,1)\n",
      "     [aaaaaaaaaaaaaaaaaaaaaaaaaaaaaaaaaaaaaaaa] 40%block, center = (0,0,0)\n",
      "          size (0,0,0.02)\n",
      "-----------          axes (1,0,0), (0,1,0), (0,0,1)\n",
      "          dielectric constant epsilon diagonal = (36,36,36)\n",
      "\n",
      "     Initializing structure...block\n",
      ", center = (0,0,0.26)\n"
     ]
    },
    {
     "name": "stderr",
     "output_type": "stream",
     "text": [
      "Warning: grid volume is not an integer number of pixels; cell size will be rounded to nearest pixel.\n"
     ]
    },
    {
     "name": "stdout",
     "output_type": "stream",
     "text": [
      "          size (0,0,0.5)\n",
      "[aaaaaaaaaaaaaaaaaaaa] 20%          axes (1,0,0), (0,1,0), (0,0,1)\n",
      "time for choose_chunkdivision = 8.79765e-05 s\n",
      "          dielectric constant epsilon diagonal = (1,1,1)\n",
      "Working in 1D dimensions.\n",
      "time for set_epsilon = 8.10623e-05 s\n",
      "-----------Computational cell is 0 x 0 x 3 with resolution 10\n",
      "-----------\n",
      "     \n",
      "Initializing structure...block\n",
      ", center = (0,0,-0.26)\n"
     ]
    },
    {
     "name": "stderr",
     "output_type": "stream",
     "text": [
      "Warning: grid volume is not an integer number of pixels; cell size will be rounded to nearest pixel.\n"
     ]
    },
    {
     "name": "stdout",
     "output_type": "stream",
     "text": [
      "          size (0,0,0.5)\n",
      "          axes (1,0,0), (0,1,0), (0,0,1)\n",
      "time for choose_chunkdivision = 9.70364e-05 s\n",
      "          dielectric constant epsilon diagonal = (1,1,1)\n",
      "Working in 1D dimensions.\n",
      "     Computational cell is 0 x 0 x 3 with resolution 10\n",
      "block     , center = (0,0,0)\n",
      "block"
     ]
    },
    {
     "data": {
      "application/vnd.jupyter.widget-view+json": {
       "model_id": "00ecc11b8fd9450d83c2e009df0a394b",
       "version_major": 2,
       "version_minor": 0
      },
      "text/plain": [
       "FloatProgress(value=0.0, description='0% done ', max=2090.0)"
      ]
     },
     "metadata": {},
     "output_type": "display_data"
    },
    {
     "name": "stdout",
     "output_type": "stream",
     "text": [
      "          size (0,0,0.02)\n",
      "[                    ] 0%, center = (0,0,-0.26)\n",
      "          axes (1,0,0), (0,1,0), (0,0,1)\n",
      "          size (0,0,0.5)\n",
      "          dielectric constant epsilon diagonal = (36,36,36)\n",
      "          axes (1,0,0), (0,1,0), (0,0,1)\n",
      "               dielectric constant epsilon diagonal = (1,1,1)\n",
      "block     -----------, center = (0,0,0.26)\n",
      "block          size (0,0,0.5)\n",
      "\n",
      ", center = (0,0,0)\n",
      "          axes (1,0,0), (0,1,0), (0,0,1)\n",
      "Initializing structure...          size (0,0,0.02)\n",
      "\n",
      "          dielectric constant epsilon diagonal = (1,1,1)\n"
     ]
    },
    {
     "name": "stderr",
     "output_type": "stream",
     "text": [
      "Warning: grid volume is not an integer number of pixels; cell size will be rounded to nearest pixel.\n"
     ]
    },
    {
     "name": "stdout",
     "output_type": "stream",
     "text": [
      "          axes (1,0,0), (0,1,0), (0,0,1)\n",
      "time for set_epsilon = 8.70228e-05 s\n",
      "          dielectric constant epsilon diagonal = (36,36,36)\n",
      "time for choose_chunkdivision = 7.39098e-05 s\n",
      "-----------\n",
      "     Working in 1D dimensions.\n",
      "Computational cell is 0 x 0 x 3 with resolution 10\n",
      "block     , center = (0,0,0.26)\n",
      "block          size (0,0,0.5)\n",
      ", center = (0,0,-0.26)\n",
      "          size (0,0,0.5)\n",
      "          axes (1,0,0), (0,1,0), (0,0,1)\n",
      "          axes (1,0,0), (0,1,0), (0,0,1)\n",
      "          dielectric constant epsilon diagonal = (1,1,1)\n",
      "          dielectric constant epsilon diagonal = (1,1,1)\n",
      "     blocktime for set_epsilon = 8.91685e-05 s\n"
     ]
    },
    {
     "data": {
      "application/vnd.jupyter.widget-view+json": {
       "model_id": "e6d5e13cd73a44aca0c57f7effaa2c25",
       "version_major": 2,
       "version_minor": 0
      },
      "text/plain": [
       "FloatProgress(value=0.0, description='0% done ', max=2090.0)"
      ]
     },
     "metadata": {},
     "output_type": "display_data"
    },
    {
     "name": "stdout",
     "output_type": "stream",
     "text": [
      "-----------\n",
      "[aaaaaaaaaaaaaaaaaaaaaaaaaaaaaaaaaaaaaaaaaaaaaaaaaaaaaaaaaaaaaaaaaaaaaaaaaaaaaaaa] 80%-----------"
     ]
    },
    {
     "data": {
      "application/vnd.jupyter.widget-view+json": {
       "model_id": "875b212e11d44cc79580a1c6bfc7d958",
       "version_major": 2,
       "version_minor": 0
      },
      "text/plain": [
       "FloatProgress(value=0.0, description='0% done ', max=2090.0)"
      ]
     },
     "metadata": {},
     "output_type": "display_data"
    },
    {
     "name": "stdout",
     "output_type": "stream",
     "text": [
      "\n",
      "Initializing structure..., center = (0,0,0)\n",
      "\n"
     ]
    },
    {
     "name": "stderr",
     "output_type": "stream",
     "text": [
      "Warning: grid volume is not an integer number of pixels; cell size will be rounded to nearest pixel.\n"
     ]
    },
    {
     "name": "stdout",
     "output_type": "stream",
     "text": [
      "time for choose_chunkdivision = 6.98566e-05 s\n",
      "Working in 1D dimensions.\n",
      "Computational cell is 0 x 0 x 3 with resolution 10\n",
      "     block, center = (0,0,-0.26)\n",
      "          size (0,0,0.5)\n",
      "          axes (1,0,0), (0,1,0), (0,0,1)\n",
      "          size (0,0,0.02)\n",
      "          dielectric constant epsilon diagonal = (1,1,1)\n",
      "               axes (1,0,0), (0,1,0), (0,0,1)\n",
      "block          dielectric constant epsilon diagonal = (36,36,36)\n",
      ", center = (0,0,0)\n",
      "          size (0,0,0.02)\n",
      "               axes (1,0,0), (0,1,0), (0,0,1)\n",
      "          dielectric constant epsilon diagonal = (36,36,36)\n",
      "     blockblock, center = (0,0,0.26)\n",
      ", center = (0,0,0.26)\n",
      "          size (0,0,0.5)\n",
      "          axes (1,0,0), (0,1,0), (0,0,1)\n",
      "          size (0,0,0.5)\n",
      "          dielectric constant epsilon diagonal = (1,1,1)\n",
      "          axes (1,0,0), (0,1,0), (0,0,1)\n",
      "time for set_epsilon = 5.31673e-05 s\n",
      "          dielectric constant epsilon diagonal = (1,1,1)\n",
      "-----------\n",
      "time for set_epsilon = 5.48363e-05 s\n",
      "-----------\n"
     ]
    },
    {
     "data": {
      "application/vnd.jupyter.widget-view+json": {
       "model_id": "af542822e022427fb710de906314df3b",
       "version_major": 2,
       "version_minor": 0
      },
      "text/plain": [
       "FloatProgress(value=0.0, description='0% done ', max=2090.0)"
      ]
     },
     "metadata": {},
     "output_type": "display_data"
    },
    {
     "data": {
      "application/vnd.jupyter.widget-view+json": {
       "model_id": "1a7176227b9b453c96459045cd2d480b",
       "version_major": 2,
       "version_minor": 0
      },
      "text/plain": [
       "FloatProgress(value=0.0, description='0% done ', max=2090.0)"
      ]
     },
     "metadata": {},
     "output_type": "display_data"
    },
    {
     "name": "stdout",
     "output_type": "stream",
     "text": [
      "run 0 finished at t = 2090.0 (20900 timesteps)\n",
      "run 0 finished at t = 2090.0 (20900 timesteps)\n",
      "run 0 finished at t = 2090.0 (20900 timesteps)\n",
      "run 0 finished at t = 2090.0 (20900 timesteps)\n",
      "run 0 finished at t = 2090.0 (20900 timesteps)\n"
     ]
    }
   ],
   "source": [
    "##########################################################複製區塊\n",
    "import matplotlib.pyplot as plt\n",
    "import time\n",
    "from scipy import signal\n",
    "from time import sleep\n",
    "import sys\n",
    "import meep as mp\n",
    "import numpy as np\n",
    "import random\n",
    "import multiprocessing as multi\n",
    "#setup some constants and parameters\n",
    "M=2**21\n",
    "tsim=7e-12\n",
    "eps0 = 8.854187e-12\n",
    "hbar = 1.05457182e-34\n",
    "c = 2.99792458e8\n",
    "kb = 1.380649e-23\n",
    "hdk=7.63823258e-12\n",
    "deltap = np.sqrt(1/3/eps0/hbar/c)*kb\n",
    "T=30000\n",
    "frq_min = 0\n",
    "frq_max = 100/2/np.pi\n",
    "nfreq = 1000\n",
    "fcen = (frq_min + frq_max)/2\n",
    "df = frq_max - frq_min\n",
    "#define square root of Dn function\n",
    "def Dnsqt(wla,T):\n",
    "    return np.sqrt(6*hdk**2*wla/(np.exp(hdk*wla/T)-1)/T**2/np.pi)\n",
    "\n",
    "#generate an array of the square root of Dn function\n",
    "Dsqt = []\n",
    "for n in range(1,M):\n",
    "    Dsqt.append(Dnsqt(2*np.pi*n/tsim,T))\n",
    "\n",
    "#define how many times to run to average the results\n",
    "Ncomp= 5\n",
    "nfreq =  1000\n",
    "#define the starting sum of the result\n",
    "Efsum = np.zeros(nfreq)\n",
    "Ens = np.zeros(2**22)\n",
    "resolution = 10\n",
    "dA = 0.5\n",
    "dB = 0.02\n",
    "dpml = 1.0\n",
    "sz = dpml*2+dA*2+dB\n",
    "cell = mp.Vector3(0, 0, sz)\n",
    "pml_layers = [mp.PML(dpml)]\n",
    "\n",
    "\n",
    "\n",
    "def run_single_comp(i):\n",
    "    \n",
    "    def random_En(t):\n",
    "        #generate random numbers\n",
    "        M0 = np.random.normal(0,1)\n",
    "        Mlp = np.random.normal(0,1,M-1)\n",
    "        Nlp = np.random.normal(0,1,M-1)\n",
    "        MM = np.random.normal(0,1)\n",
    "    \n",
    "        #generate the array of the fourier transform of E field, we generate l=0 and l=-M separately. \n",
    "        #for l=1 to M-1 and l=-1 to -(M-1) are conjutated to each other. \n",
    "        #we contruct the whole array by gluing them together by the order from l=0 -> l=M-1 -> l=-M -> l=-(m-1) -> l=-1\n",
    "        Ef0 = np.array([M0*np.sqrt(6*hdk/np.pi/T)])\n",
    "        Eflp = np.multiply((Mlp + 1j*Nlp), Dsqt)\n",
    "        Eflm = np.flip(np.conjugate(Eflp))\n",
    "        EfM = np.array([MM*Dnsqt(2*np.pi*M/tsim,T)])\n",
    "        Ef = np.hstack((Ef0,Eflp,EfM,Eflm))\n",
    "    \n",
    "        #we normalize Ef and compute its inverse fast fourier transform\n",
    "        Efn = deltap*T/np.sqrt(tsim)*Ef\n",
    "        En = np.fft.ifft(Efn)*M\n",
    "        return En\n",
    "    En0 = random_En(1)\n",
    "    En1 = random_En(1)\n",
    "    \n",
    "    #generate some feedback to check the progress of the loop\n",
    "    x = i/Ncomp*100\n",
    "    sys.stdout.write('\\r')\n",
    "    sys.stdout.write(\"[%-20s] %d%%\" % ('a'*int(x), int(x)))\n",
    "    sys.stdout.flush()\n",
    "    sleep(0.0001)\n",
    "    \n",
    "    \n",
    "    def source0(t):\n",
    "        f = int(t*2000)\n",
    "        return En0[f]\n",
    "    def source1(t):\n",
    "        f = int(t*2000)\n",
    "        return En1[f]\n",
    "\n",
    "    sources = [mp.Source(mp.CustomSource(src_func=source0),\n",
    "                     component=mp.Ex,\n",
    "                     center=mp.Vector3(0,0,-0.5*sz+dpml),\n",
    "                     ),\n",
    "              mp.Source(mp.CustomSource(src_func=source1),\n",
    "                     component=mp.Ex,\n",
    "                     center=mp.Vector3(0,0,0.5*sz-dpml),\n",
    "                     ),\n",
    "                ]\n",
    "    \n",
    "    def BlockAB(N, center):\n",
    "        geometry = []\n",
    "        for i in range(N):\n",
    "            geometry = np.append(geometry, mp.Block(mp.Vector3(0,0,dA),\n",
    "                     center=mp.Vector3(0,0,0-dA/2-dB/2),\n",
    "                     material=mp.Medium(epsilon=1)))\n",
    "            geometry = np.append(geometry, mp.Block(mp.Vector3(0,0,dB),\n",
    "                     center=mp.Vector3(0,0,0),\n",
    "                     material=mp.Medium(epsilon=36)))\n",
    "            geometry = np.append(geometry, mp.Block(mp.Vector3(0,0,dA),\n",
    "                     center=mp.Vector3(0,0,dB/2+dA/2),\n",
    "                     material=mp.Medium(epsilon=1)))\n",
    "        geometry = geometry.tolist()\n",
    "        return geometry\n",
    "    sim = mp.Simulation(cell_size=cell,\n",
    "                    boundary_layers=pml_layers,\n",
    "                    sources=sources,   \n",
    "                    dimensions = 1,\n",
    "                    Courant = 1,\n",
    "                    resolution=resolution,\n",
    "                    geometry=BlockAB(1,0))\n",
    "    \n",
    "\n",
    "    # transmitted flux\n",
    "    tran_fr = mp.FluxRegion(center=mp.Vector3(0,0,random.uniform(-0.01,0.01)))\n",
    "    tran = sim.add_energy(fcen, df, nfreq, tran_fr)\n",
    "    \n",
    "    \n",
    "    sim.run(until=2090)\n",
    "\n",
    "    tran_flux = mp.get_magnetic_energy(tran)\n",
    "    Ts = []\n",
    "    for i in range(nfreq):\n",
    "        Ts = np.append(Ts,tran_flux[i])    \n",
    "    Efsum = Ts\n",
    "    \n",
    "    np.savez(str(i)+\"En.npz\", Efavg_30000 = Efsum)\n",
    "    \n",
    "    return 1\n",
    "# 使用多核心處理\n",
    "pool = multi.Pool()\n",
    "pool.map(run_single_comp, range(Ncomp))\n",
    "pool.close()\n",
    "pool.join()\n",
    "\n",
    "# 將所有結果相加\n",
    "#for result in results:\n",
    "    #Efsum += result\n",
    "\n",
    "\n",
    "\n",
    "# 平均結果\n",
    "Efavg = Efsum / Ncomp\n"
   ]
  },
  {
   "cell_type": "code",
   "execution_count": 5,
   "id": "dd7cad2d-5c56-41d3-863d-e0fc7e546693",
   "metadata": {
    "tags": []
   },
   "outputs": [
    {
     "name": "stderr",
     "output_type": "stream",
     "text": [
      "/tmp/ipykernel_8051/3510127743.py:5: UserWarning: Data has no positive values, and therefore cannot be log-scaled.\n",
      "  plt.yscale(\"log\")\n"
     ]
    },
    {
     "data": {
      "image/png": "[encoded data removed]",
      "text/plain": [
       "<Figure size 960x720 with 1 Axes>"
      ]
     },
     "metadata": {},
     "output_type": "display_data"
    }
   ],
   "source": [
    "plt.figure(dpi=150)\n",
    "freqs = np.linspace(0,30e15,1000)\n",
    "plt.plot(freqs,Efavg*tsim*eps0*4*np.pi/2**21,'g''.')\n",
    "plt.xlim(4e15,20e15)\n",
    "plt.yscale(\"log\")\n",
    "plt.ylim(0.1e-28,400e-28)\n",
    "plt.grid()\n",
    "#plt.savefig('4_source_test_detector_photonic_crystal_30000.png')\n",
    "plt.show()\n",
    "\n",
    "#np.savez(\"test_custom_source_photonic_crystal_30000.npz\", Efavg_30000 = Efavg)"
   ]
  },
  {
   "cell_type": "code",
   "execution_count": 3,
   "id": "275c7747-754c-4fbc-b18e-a3da9dde9c07",
   "metadata": {
    "tags": []
   },
   "outputs": [],
   "source": [
    "from PIL import Image\n",
    "\n",
    "def transPNG(srcImageName, dstImageName):\n",
    "    img = Image.open(srcImageName)\n",
    "    img = img.convert(\"RGBA\")\n",
    "    datas = img.getdata()\n",
    "    newData = list()\n",
    "    for item in datas:\n",
    "        if item[0] > 225 and item[1] > 225 and item[2] > 225:\n",
    "            newData.append((255, 255, 255, 0))\n",
    "        else:\n",
    "            newData.append(item)\n",
    "            \n",
    "    img.putdata(newData)\n",
    "    img.save(dstImageName, \"PNG\")\n",
    "transPNG('test_detector_photonic_crystal_30000.png','trans_test_detector_photonic_crystal_30000.png')"
   ]
  },
  {
   "cell_type": "code",
   "execution_count": null,
   "id": "ab5c0ded-127a-448e-8a1a-b2401049b1ea",
   "metadata": {},
   "outputs": [],
   "source": []
  }
 ],
 "metadata": {
  "kernelspec": {
   "display_name": "Python 3 (ipykernel)",
   "language": "python",
   "name": "python3"
  },
  "language_info": {
   "codemirror_mode": {
    "name": "ipython",
    "version": 3
   },
   "file_extension": ".py",
   "mimetype": "text/x-python",
   "name": "python",
   "nbconvert_exporter": "python",
   "pygments_lexer": "ipython3",
   "version": "3.11.0"
  }
 },
 "nbformat": 4,
 "nbformat_minor": 5
}
