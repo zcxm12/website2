{
 "cells": [
  {
   "cell_type": "code",
   "execution_count": 1,
   "id": "3354336c-e7e6-48dc-941e-d4ab4729e35c",
   "metadata": {
    "collapsed": true,
    "jupyter": {
     "outputs_hidden": true
    },
    "tags": []
   },
   "outputs": [
    {
     "name": "stdout",
     "output_type": "stream",
     "text": [
      "[                    ] 0%-----------\n",
      "Initializing structure...\n",
      "time for choose_chunkdivision = 9.48906e-05 s\n",
      "Working in 1D dimensions.\n",
      "Computational cell is 0 x 0 x 3.02 with resolution 100\n",
      "     block, center = (0,0,-0.26)\n",
      "          size (0,0,0.5)\n",
      "          axes (1,0,0), (0,1,0), (0,0,1)\n",
      "          dielectric constant epsilon diagonal = (1,1,1)\n",
      "     block, center = (0,0,0)\n",
      "          size (0,0,0.02)\n",
      "          axes (1,0,0), (0,1,0), (0,0,1)\n",
      "          dielectric constant epsilon diagonal = (36,36,36)\n",
      "     block, center = (0,0,0.26)\n",
      "          size (0,0,0.5)\n",
      "          axes (1,0,0), (0,1,0), (0,0,1)\n",
      "          dielectric constant epsilon diagonal = (1,1,1)\n",
      "time for set_epsilon = 0.00036788 s\n",
      "-----------\n"
     ]
    },
    {
     "data": {
      "application/vnd.jupyter.widget-view+json": {
       "model_id": "7f30f5f51f364105a160ec7cf1474a5c",
       "version_major": 2,
       "version_minor": 0
      },
      "text/plain": [
       "FloatProgress(value=0.0, description='0% done ', max=900.0)"
      ]
     },
     "metadata": {},
     "output_type": "display_data"
    },
    {
     "name": "stdout",
     "output_type": "stream",
     "text": [
      "Meep progress: 238.46/900.0 = 26.5% done in 4.0s, 11.1s to go\n",
      "on time step 23889 (time=238.89), 0.000167447 s/step\n",
      "Meep progress: 481.3/900.0 = 53.5% done in 8.0s, 7.0s to go\n",
      "on time step 48176 (time=481.76), 0.000164698 s/step\n",
      "Meep progress: 714.84/900.0 = 79.4% done in 12.0s, 3.1s to go\n",
      "on time step 71531 (time=715.31), 0.000171271 s/step\n",
      "run 0 finished at t = 900.0 (90000 timesteps)\n",
      "[aaaaaaaaaaaaaaaaaaaa] 20%-----------\n",
      "Initializing structure...\n",
      "time for choose_chunkdivision = 7.39098e-05 s\n",
      "Working in 1D dimensions.\n",
      "Computational cell is 0 x 0 x 3.02 with resolution 100\n",
      "     block, center = (0,0,-0.26)\n",
      "          size (0,0,0.5)\n",
      "          axes (1,0,0), (0,1,0), (0,0,1)\n",
      "          dielectric constant epsilon diagonal = (1,1,1)\n",
      "     block, center = (0,0,0)\n",
      "          size (0,0,0.02)\n",
      "          axes (1,0,0), (0,1,0), (0,0,1)\n",
      "          dielectric constant epsilon diagonal = (36,36,36)\n",
      "     block, center = (0,0,0.26)\n",
      "          size (0,0,0.5)\n",
      "          axes (1,0,0), (0,1,0), (0,0,1)\n",
      "          dielectric constant epsilon diagonal = (1,1,1)\n",
      "time for set_epsilon = 0.000383854 s\n",
      "-----------\n"
     ]
    },
    {
     "data": {
      "application/vnd.jupyter.widget-view+json": {
       "model_id": "6117f9881e884dbe9a07b0a764d147e7",
       "version_major": 2,
       "version_minor": 0
      },
      "text/plain": [
       "FloatProgress(value=0.0, description='0% done ', max=900.0)"
      ]
     },
     "metadata": {},
     "output_type": "display_data"
    },
    {
     "name": "stdout",
     "output_type": "stream",
     "text": [
      "Meep progress: 241.36/900.0 = 26.8% done in 4.0s, 10.9s to go\n",
      "on time step 24146 (time=241.46), 0.000165662 s/step\n",
      "Meep progress: 484.33/900.0 = 53.8% done in 8.0s, 6.9s to go\n",
      "on time step 48445 (time=484.45), 0.000164622 s/step\n",
      "Meep progress: 727.66/900.0 = 80.9% done in 12.0s, 2.8s to go\n",
      "on time step 72781 (time=727.81), 0.000164372 s/step\n",
      "run 0 finished at t = 900.0 (90000 timesteps)\n",
      "[aaaaaaaaaaaaaaaaaaaaaaaaaaaaaaaaaaaaaaaa] 40%-----------\n",
      "Initializing structure...\n",
      "time for choose_chunkdivision = 7.70092e-05 s\n",
      "Working in 1D dimensions.\n",
      "Computational cell is 0 x 0 x 3.02 with resolution 100\n",
      "     block, center = (0,0,-0.26)\n",
      "          size (0,0,0.5)\n",
      "          axes (1,0,0), (0,1,0), (0,0,1)\n",
      "          dielectric constant epsilon diagonal = (1,1,1)\n",
      "     block, center = (0,0,0)\n",
      "          size (0,0,0.02)\n",
      "          axes (1,0,0), (0,1,0), (0,0,1)\n",
      "          dielectric constant epsilon diagonal = (36,36,36)\n",
      "     block, center = (0,0,0.26)\n",
      "          size (0,0,0.5)\n",
      "          axes (1,0,0), (0,1,0), (0,0,1)\n",
      "          dielectric constant epsilon diagonal = (1,1,1)\n",
      "time for set_epsilon = 0.000390053 s\n",
      "-----------\n"
     ]
    },
    {
     "data": {
      "application/vnd.jupyter.widget-view+json": {
       "model_id": "9a82db66cf8e4b8c8dd8c0ca1a1ac41d",
       "version_major": 2,
       "version_minor": 0
      },
      "text/plain": [
       "FloatProgress(value=0.0, description='0% done ', max=900.0)"
      ]
     },
     "metadata": {},
     "output_type": "display_data"
    },
    {
     "name": "stdout",
     "output_type": "stream",
     "text": [
      "Meep progress: 241.56/900.0 = 26.8% done in 4.0s, 10.9s to go\n",
      "on time step 24165 (time=241.65), 0.000165532 s/step\n",
      "Meep progress: 484.55/900.0 = 53.8% done in 8.0s, 6.9s to go\n",
      "on time step 48467 (time=484.67), 0.000164602 s/step\n",
      "Meep progress: 728.21/900.0 = 80.9% done in 12.0s, 2.8s to go\n",
      "on time step 72836 (time=728.36), 0.000164149 s/step\n",
      "run 0 finished at t = 900.0 (90000 timesteps)\n",
      "[aaaaaaaaaaaaaaaaaaaaaaaaaaaaaaaaaaaaaaaaaaaaaaaaaaaaaaaaaaaa] 60%-----------\n",
      "Initializing structure...\n",
      "time for choose_chunkdivision = 7.48634e-05 s\n",
      "Working in 1D dimensions.\n",
      "Computational cell is 0 x 0 x 3.02 with resolution 100\n",
      "     block, center = (0,0,-0.26)\n",
      "          size (0,0,0.5)\n",
      "          axes (1,0,0), (0,1,0), (0,0,1)\n",
      "          dielectric constant epsilon diagonal = (1,1,1)\n",
      "     block, center = (0,0,0)\n",
      "          size (0,0,0.02)\n",
      "          axes (1,0,0), (0,1,0), (0,0,1)\n",
      "          dielectric constant epsilon diagonal = (36,36,36)\n",
      "     block, center = (0,0,0.26)\n",
      "          size (0,0,0.5)\n",
      "          axes (1,0,0), (0,1,0), (0,0,1)\n",
      "          dielectric constant epsilon diagonal = (1,1,1)\n",
      "time for set_epsilon = 0.000380993 s\n",
      "-----------\n"
     ]
    },
    {
     "data": {
      "application/vnd.jupyter.widget-view+json": {
       "model_id": "a31c6d16ba714953b1751b515fa786a8",
       "version_major": 2,
       "version_minor": 0
      },
      "text/plain": [
       "FloatProgress(value=0.0, description='0% done ', max=900.0)"
      ]
     },
     "metadata": {},
     "output_type": "display_data"
    },
    {
     "name": "stdout",
     "output_type": "stream",
     "text": [
      "Meep progress: 242.18/900.0 = 26.9% done in 4.0s, 10.9s to go\n",
      "on time step 24227 (time=242.27), 0.000165105 s/step\n",
      "Meep progress: 483.97/900.0 = 53.8% done in 8.0s, 6.9s to go\n",
      "on time step 48407 (time=484.07), 0.000165429 s/step\n",
      "Meep progress: 727.46/900.0 = 80.8% done in 12.0s, 2.8s to go\n",
      "on time step 72759 (time=727.59), 0.000164262 s/step\n",
      "run 0 finished at t = 900.0 (90000 timesteps)\n",
      "[aaaaaaaaaaaaaaaaaaaaaaaaaaaaaaaaaaaaaaaaaaaaaaaaaaaaaaaaaaaaaaaaaaaaaaaaaaaaaaaa] 80%-----------\n",
      "Initializing structure...\n",
      "time for choose_chunkdivision = 8.10623e-05 s\n",
      "Working in 1D dimensions.\n",
      "Computational cell is 0 x 0 x 3.02 with resolution 100\n",
      "     block, center = (0,0,-0.26)\n",
      "          size (0,0,0.5)\n",
      "          axes (1,0,0), (0,1,0), (0,0,1)\n",
      "          dielectric constant epsilon diagonal = (1,1,1)\n",
      "     block, center = (0,0,0)\n",
      "          size (0,0,0.02)\n",
      "          axes (1,0,0), (0,1,0), (0,0,1)\n",
      "          dielectric constant epsilon diagonal = (36,36,36)\n",
      "     block, center = (0,0,0.26)\n",
      "          size (0,0,0.5)\n",
      "          axes (1,0,0), (0,1,0), (0,0,1)\n",
      "          dielectric constant epsilon diagonal = (1,1,1)\n",
      "time for set_epsilon = 0.000383139 s\n",
      "-----------\n"
     ]
    },
    {
     "data": {
      "application/vnd.jupyter.widget-view+json": {
       "model_id": "d321cf1878444ce28d985e5e944f83eb",
       "version_major": 2,
       "version_minor": 0
      },
      "text/plain": [
       "FloatProgress(value=0.0, description='0% done ', max=900.0)"
      ]
     },
     "metadata": {},
     "output_type": "display_data"
    },
    {
     "name": "stdout",
     "output_type": "stream",
     "text": [
      "Meep progress: 243.17000000000002/900.0 = 27.0% done in 4.0s, 10.8s to go\n",
      "on time step 24325 (time=243.25), 0.000164442 s/step\n",
      "Meep progress: 487.98/900.0 = 54.2% done in 8.0s, 6.8s to go\n",
      "on time step 48809 (time=488.09), 0.000163374 s/step\n",
      "Meep progress: 733.45/900.0 = 81.5% done in 12.0s, 2.7s to go\n",
      "on time step 73359 (time=733.59), 0.000162939 s/step\n",
      "run 0 finished at t = 900.0 (90000 timesteps)\n"
     ]
    }
   ],
   "source": [
    "##########################################################複製區塊\n",
    "import matplotlib.pyplot as plt\n",
    "import time\n",
    "from scipy import signal\n",
    "from time import sleep\n",
    "import sys\n",
    "import meep as mp\n",
    "import numpy as np\n",
    "import random\n",
    "import multiprocessing as multi\n",
    "#setup some constants and parameters\n",
    "M=10**5\n",
    "tsim=7e-12\n",
    "eps0 = 8.854187e-12\n",
    "hbar = 1.05457182e-34\n",
    "c = 2.99792458e8\n",
    "kb = 1.380649e-23\n",
    "hdk=7.63823258e-12\n",
    "deltap = np.sqrt(1/3/eps0/hbar/c)*kb\n",
    "T=30000\n",
    "frq_min = 0\n",
    "frq_max = 100/2/np.pi\n",
    "nfreq = 1000\n",
    "fcen = (frq_min + frq_max)/2\n",
    "df = frq_max - frq_min\n",
    "#define square root of Dn function\n",
    "def Dnsqt(wla,T):\n",
    "    return np.sqrt(6*hdk**2*wla/(np.exp(hdk*wla/T)-1)/T**2/np.pi)\n",
    "\n",
    "#generate an array of the square root of Dn function\n",
    "Dsqt = []\n",
    "for n in range(1,M):\n",
    "    Dsqt.append(Dnsqt(2*np.pi*n/tsim,T))\n",
    "\n",
    "#define how many times to run to average the results\n",
    "Ncomp= 5\n",
    "nfreq =  1000\n",
    "#define the starting sum of the result\n",
    "Efsum = np.zeros(nfreq)\n",
    "Ens = np.zeros(2*M)\n",
    "resolution = 100\n",
    "dA = 0.5\n",
    "dB = 0.02\n",
    "dpml = 1.0\n",
    "sz = dpml*2+dA*2+dB\n",
    "cell = mp.Vector3(0, 0, sz)\n",
    "pml_layers = [mp.PML(dpml)]\n",
    "\n",
    "\n",
    "\n",
    "for i in range(Ncomp):\n",
    "    \n",
    "    def random_En(t):\n",
    "        #generate random numbers\n",
    "        M0 = np.random.normal(0,1)\n",
    "        Mlp = np.random.normal(0,1,M-1)\n",
    "        Nlp = np.random.normal(0,1,M-1)\n",
    "        MM = np.random.normal(0,1)\n",
    "    \n",
    "        #generate the array of the fourier transform of E field, we generate l=0 and l=-M separately. \n",
    "        #for l=1 to M-1 and l=-1 to -(M-1) are conjutated to each other. \n",
    "        #we contruct the whole array by gluing them together by the order from l=0 -> l=M-1 -> l=-M -> l=-(m-1) -> l=-1\n",
    "        Ef0 = np.array([M0*np.sqrt(6*hdk/np.pi/T)])\n",
    "        Eflp = np.multiply((Mlp + 1j*Nlp), Dsqt)\n",
    "        Eflm = np.flip(np.conjugate(Eflp))\n",
    "        EfM = np.array([MM*Dnsqt(2*np.pi*M/tsim,T)])\n",
    "        Ef = np.hstack((Ef0,Eflp,EfM,Eflm))\n",
    "    \n",
    "        #we normalize Ef and compute its inverse fast fourier transform\n",
    "        Efn = deltap*T/np.sqrt(tsim)*Ef\n",
    "        En = np.fft.ifft(Efn)*M\n",
    "        return En\n",
    "    En0 = random_En(1)\n",
    "    En1 = random_En(1)\n",
    "    #generate some feedback to check the progress of the loop\n",
    "    x = i/Ncomp*100\n",
    "    sys.stdout.write('\\r')\n",
    "    sys.stdout.write(\"[%-20s] %d%%\" % ('a'*int(x), int(x)))\n",
    "    sys.stdout.flush()\n",
    "    sleep(0.0001)\n",
    "    \n",
    "    \n",
    "    def source0(t):\n",
    "        f = int(t*200)\n",
    "        #print(t)\n",
    "        return En0[f]\n",
    "    def source1(t):\n",
    "        f = int(t*200)\n",
    "        return En1[f]\n",
    "   \n",
    "\n",
    "\n",
    "    sources = [mp.Source(mp.CustomSource(src_func=source0),\n",
    "                     component=mp.Ex,\n",
    "                     center=mp.Vector3(0,0,-0.5*sz+dpml),\n",
    "                     ),\n",
    "              mp.Source(mp.CustomSource(src_func=source1),\n",
    "                     component=mp.Ex,\n",
    "                     center=mp.Vector3(0,0,0.5*sz-dpml),\n",
    "                     )\n",
    "              ]\n",
    "    \n",
    "    def BlockAB(N, center):\n",
    "        geometry = []\n",
    "        for i in range(N):\n",
    "            geometry = np.append(geometry, mp.Block(mp.Vector3(0,0,dA),\n",
    "                     center=mp.Vector3(0,0,0-dA/2-dB/2),\n",
    "                     material=mp.Medium(epsilon=1)))\n",
    "            geometry = np.append(geometry, mp.Block(mp.Vector3(0,0,dB),\n",
    "                     center=mp.Vector3(0,0,0),\n",
    "                     material=mp.Medium(epsilon=36)))\n",
    "            geometry = np.append(geometry, mp.Block(mp.Vector3(0,0,dA),\n",
    "                     center=mp.Vector3(0,0,dB/2+dA/2),\n",
    "                     material=mp.Medium(epsilon=1)))\n",
    "        geometry = geometry.tolist()\n",
    "        return geometry\n",
    "    sim = mp.Simulation(cell_size=cell,\n",
    "                    boundary_layers=pml_layers,\n",
    "                    sources=sources,   \n",
    "                    dimensions = 1,\n",
    "                    Courant = 1,\n",
    "                    resolution=resolution,\n",
    "                    geometry=BlockAB(1,0))\n",
    "    \n",
    "    \n",
    "\n",
    "    # transmitted flux\n",
    "    tran_fr = mp.FluxRegion(center=mp.Vector3(0,0,random.uniform(-0.01,0.01)))\n",
    "    tran = sim.add_energy(fcen, df, nfreq, tran_fr)\n",
    "    \n",
    "    \n",
    "    sim.run(until=900)\n",
    "\n",
    "    tran_flux = mp.get_magnetic_energy(tran)\n",
    "    Ts = []\n",
    "    for i in range(nfreq):\n",
    "        Ts = np.append(Ts,tran_flux[i])    \n",
    "    Efsum = Ts\n",
    "    \n",
    "    \n",
    "\n",
    "#average the final result\n",
    "Efavg = Efsum/Ncomp\n",
    "\n",
    "#save data to some file or reload file to write more data on it\n",
    "\n"
   ]
  },
  {
   "cell_type": "code",
   "execution_count": 2,
   "id": "dd7cad2d-5c56-41d3-863d-e0fc7e546693",
   "metadata": {
    "tags": []
   },
   "outputs": [
    {
     "data": {
      "image/png": "[encoded data removed]",
      "text/plain": [
       "<Figure size 960x720 with 1 Axes>"
      ]
     },
     "metadata": {},
     "output_type": "display_data"
    }
   ],
   "source": [
    "plt.figure(dpi=150)\n",
    "freqs = np.linspace(0,30e15,1000)\n",
    "plt.plot(freqs,Efavg*tsim*eps0*4*np.pi*3/2**21,'g''.')\n",
    "plt.xlim(4e15,20e15)\n",
    "plt.yscale(\"log\")\n",
    "plt.ylim(0.1e-28,400e-28)\n",
    "plt.grid()\n",
    "#plt.savefig('6_source_test_detector_photonic_crystal_30000.png')\n",
    "plt.show()\n",
    "\n",
    "#np.savez(\"test_custom_source_photonic_crystal_30000.npz\", Efavg_30000 = Efavg)"
   ]
  },
  {
   "cell_type": "code",
   "execution_count": 3,
   "id": "275c7747-754c-4fbc-b18e-a3da9dde9c07",
   "metadata": {
    "tags": []
   },
   "outputs": [],
   "source": [
    "from PIL import Image\n",
    "\n",
    "def transPNG(srcImageName, dstImageName):\n",
    "    img = Image.open(srcImageName)\n",
    "    img = img.convert(\"RGBA\")\n",
    "    datas = img.getdata()\n",
    "    newData = list()\n",
    "    for item in datas:\n",
    "        if item[0] > 225 and item[1] > 225 and item[2] > 225:\n",
    "            newData.append((255, 255, 255, 0))\n",
    "        else:\n",
    "            newData.append(item)\n",
    "            \n",
    "    img.putdata(newData)\n",
    "    img.save(dstImageName, \"PNG\")\n",
    "transPNG('test_detector_photonic_crystal_30000.png','trans_test_detector_photonic_crystal_30000.png')"
   ]
  },
  {
   "cell_type": "code",
   "execution_count": null,
   "id": "ab5c0ded-127a-448e-8a1a-b2401049b1ea",
   "metadata": {},
   "outputs": [],
   "source": []
  }
 ],
 "metadata": {
  "kernelspec": {
   "display_name": "Python 3 (ipykernel)",
   "language": "python",
   "name": "python3"
  },
  "language_info": {
   "codemirror_mode": {
    "name": "ipython",
    "version": 3
   },
   "file_extension": ".py",
   "mimetype": "text/x-python",
   "name": "python",
   "nbconvert_exporter": "python",
   "pygments_lexer": "ipython3",
   "version": "3.11.0"
  }
 },
 "nbformat": 4,
 "nbformat_minor": 5
}
